{
  "nbformat": 4,
  "nbformat_minor": 0,
  "metadata": {
    "colab": {
      "provenance": [],
      "gpuType": "T4"
    },
    "kernelspec": {
      "name": "python3",
      "display_name": "Python 3"
    },
    "language_info": {
      "name": "python"
    },
    "accelerator": "GPU"
  },
  "cells": [
    {
      "cell_type": "markdown",
      "source": [
        "# Assignment 6: Multivariate Time Series Forecasting"
      ],
      "metadata": {
        "id": "lvxbsh3mP1cB"
      }
    },
    {
      "cell_type": "markdown",
      "source": [
        "# Data Loading and Preprocessing for Power Consumption Dataset\n",
        "\n",
        "### **Description:**\n",
        "\n",
        "- **Loads the dataset:** Reads a `.txt` file containing household power consumption data into a Pandas DataFrame.\n",
        "- **Combines date and time:** Merges the `Date` and `Time` columns into a single Datetime column and parses it as a date-time format.\n",
        "- **Handles missing values:** Replaces `?` with `NaN` values to ensure missing data is properly recognized. ` `\n",
        "- **Converts data types:** Applies `pd.to_numeric()` to convert all columns to numeric format, coercing invalid entries to `NaN`.\n",
        "- **Sets datetime index:** Uses the `Datetime` column as the index for easier time-series analysis.\n",
        "- **Displays data info:** Prints the shape of the dataset and previews the first few rows."
      ],
      "metadata": {
        "id": "PTV_cQeEQC-L"
      }
    },
    {
      "cell_type": "code",
      "execution_count": null,
      "metadata": {
        "colab": {
          "base_uri": "https://localhost:8080/",
          "height": 379
        },
        "id": "77zUWY-An0Q6",
        "outputId": "d47fac65-87e0-415f-fdad-c17f2ab35532"
      },
      "outputs": [
        {
          "output_type": "stream",
          "name": "stderr",
          "text": [
            "<ipython-input-3-24b1fb401b4c>:4: FutureWarning: Support for nested sequences for 'parse_dates' in pd.read_csv is deprecated. Combine the desired columns with pd.to_datetime after parsing instead.\n",
            "  df = pd.read_csv('/content/drive/MyDrive/household_power_consumption.txt', sep=';',\n",
            "<ipython-input-3-24b1fb401b4c>:4: FutureWarning: The argument 'infer_datetime_format' is deprecated and will be removed in a future version. A strict version of it is now the default, see https://pandas.pydata.org/pdeps/0004-consistent-to-datetime-parsing.html. You can safely remove this argument.\n",
            "  df = pd.read_csv('/content/drive/MyDrive/household_power_consumption.txt', sep=';',\n",
            "<ipython-input-3-24b1fb401b4c>:4: UserWarning: Parsing dates in %d/%m/%Y %H:%M:%S format when dayfirst=False (the default) was specified. Pass `dayfirst=True` or specify a format to silence this warning.\n",
            "  df = pd.read_csv('/content/drive/MyDrive/household_power_consumption.txt', sep=';',\n"
          ]
        },
        {
          "output_type": "stream",
          "name": "stdout",
          "text": [
            "Shape of dataset: (2075259, 7)\n"
          ]
        },
        {
          "output_type": "execute_result",
          "data": {
            "text/plain": [
              "                     Global_active_power  Global_reactive_power  Voltage  \\\n",
              "Datetime                                                                   \n",
              "2006-12-16 17:24:00                4.216                  0.418   234.84   \n",
              "2006-12-16 17:25:00                5.360                  0.436   233.63   \n",
              "2006-12-16 17:26:00                5.374                  0.498   233.29   \n",
              "2006-12-16 17:27:00                5.388                  0.502   233.74   \n",
              "2006-12-16 17:28:00                3.666                  0.528   235.68   \n",
              "\n",
              "                     Global_intensity  Sub_metering_1  Sub_metering_2  \\\n",
              "Datetime                                                                \n",
              "2006-12-16 17:24:00              18.4             0.0             1.0   \n",
              "2006-12-16 17:25:00              23.0             0.0             1.0   \n",
              "2006-12-16 17:26:00              23.0             0.0             2.0   \n",
              "2006-12-16 17:27:00              23.0             0.0             1.0   \n",
              "2006-12-16 17:28:00              15.8             0.0             1.0   \n",
              "\n",
              "                     Sub_metering_3  \n",
              "Datetime                             \n",
              "2006-12-16 17:24:00            17.0  \n",
              "2006-12-16 17:25:00            16.0  \n",
              "2006-12-16 17:26:00            17.0  \n",
              "2006-12-16 17:27:00            17.0  \n",
              "2006-12-16 17:28:00            17.0  "
            ],
            "text/html": [
              "\n",
              "  <div id=\"df-32527828-9b09-40e0-84fa-3b3ddded0f49\" class=\"colab-df-container\">\n",
              "    <div>\n",
              "<style scoped>\n",
              "    .dataframe tbody tr th:only-of-type {\n",
              "        vertical-align: middle;\n",
              "    }\n",
              "\n",
              "    .dataframe tbody tr th {\n",
              "        vertical-align: top;\n",
              "    }\n",
              "\n",
              "    .dataframe thead th {\n",
              "        text-align: right;\n",
              "    }\n",
              "</style>\n",
              "<table border=\"1\" class=\"dataframe\">\n",
              "  <thead>\n",
              "    <tr style=\"text-align: right;\">\n",
              "      <th></th>\n",
              "      <th>Global_active_power</th>\n",
              "      <th>Global_reactive_power</th>\n",
              "      <th>Voltage</th>\n",
              "      <th>Global_intensity</th>\n",
              "      <th>Sub_metering_1</th>\n",
              "      <th>Sub_metering_2</th>\n",
              "      <th>Sub_metering_3</th>\n",
              "    </tr>\n",
              "    <tr>\n",
              "      <th>Datetime</th>\n",
              "      <th></th>\n",
              "      <th></th>\n",
              "      <th></th>\n",
              "      <th></th>\n",
              "      <th></th>\n",
              "      <th></th>\n",
              "      <th></th>\n",
              "    </tr>\n",
              "  </thead>\n",
              "  <tbody>\n",
              "    <tr>\n",
              "      <th>2006-12-16 17:24:00</th>\n",
              "      <td>4.216</td>\n",
              "      <td>0.418</td>\n",
              "      <td>234.84</td>\n",
              "      <td>18.4</td>\n",
              "      <td>0.0</td>\n",
              "      <td>1.0</td>\n",
              "      <td>17.0</td>\n",
              "    </tr>\n",
              "    <tr>\n",
              "      <th>2006-12-16 17:25:00</th>\n",
              "      <td>5.360</td>\n",
              "      <td>0.436</td>\n",
              "      <td>233.63</td>\n",
              "      <td>23.0</td>\n",
              "      <td>0.0</td>\n",
              "      <td>1.0</td>\n",
              "      <td>16.0</td>\n",
              "    </tr>\n",
              "    <tr>\n",
              "      <th>2006-12-16 17:26:00</th>\n",
              "      <td>5.374</td>\n",
              "      <td>0.498</td>\n",
              "      <td>233.29</td>\n",
              "      <td>23.0</td>\n",
              "      <td>0.0</td>\n",
              "      <td>2.0</td>\n",
              "      <td>17.0</td>\n",
              "    </tr>\n",
              "    <tr>\n",
              "      <th>2006-12-16 17:27:00</th>\n",
              "      <td>5.388</td>\n",
              "      <td>0.502</td>\n",
              "      <td>233.74</td>\n",
              "      <td>23.0</td>\n",
              "      <td>0.0</td>\n",
              "      <td>1.0</td>\n",
              "      <td>17.0</td>\n",
              "    </tr>\n",
              "    <tr>\n",
              "      <th>2006-12-16 17:28:00</th>\n",
              "      <td>3.666</td>\n",
              "      <td>0.528</td>\n",
              "      <td>235.68</td>\n",
              "      <td>15.8</td>\n",
              "      <td>0.0</td>\n",
              "      <td>1.0</td>\n",
              "      <td>17.0</td>\n",
              "    </tr>\n",
              "  </tbody>\n",
              "</table>\n",
              "</div>\n",
              "    <div class=\"colab-df-buttons\">\n",
              "\n",
              "  <div class=\"colab-df-container\">\n",
              "    <button class=\"colab-df-convert\" onclick=\"convertToInteractive('df-32527828-9b09-40e0-84fa-3b3ddded0f49')\"\n",
              "            title=\"Convert this dataframe to an interactive table.\"\n",
              "            style=\"display:none;\">\n",
              "\n",
              "  <svg xmlns=\"http://www.w3.org/2000/svg\" height=\"24px\" viewBox=\"0 -960 960 960\">\n",
              "    <path d=\"M120-120v-720h720v720H120Zm60-500h600v-160H180v160Zm220 220h160v-160H400v160Zm0 220h160v-160H400v160ZM180-400h160v-160H180v160Zm440 0h160v-160H620v160ZM180-180h160v-160H180v160Zm440 0h160v-160H620v160Z\"/>\n",
              "  </svg>\n",
              "    </button>\n",
              "\n",
              "  <style>\n",
              "    .colab-df-container {\n",
              "      display:flex;\n",
              "      gap: 12px;\n",
              "    }\n",
              "\n",
              "    .colab-df-convert {\n",
              "      background-color: #E8F0FE;\n",
              "      border: none;\n",
              "      border-radius: 50%;\n",
              "      cursor: pointer;\n",
              "      display: none;\n",
              "      fill: #1967D2;\n",
              "      height: 32px;\n",
              "      padding: 0 0 0 0;\n",
              "      width: 32px;\n",
              "    }\n",
              "\n",
              "    .colab-df-convert:hover {\n",
              "      background-color: #E2EBFA;\n",
              "      box-shadow: 0px 1px 2px rgba(60, 64, 67, 0.3), 0px 1px 3px 1px rgba(60, 64, 67, 0.15);\n",
              "      fill: #174EA6;\n",
              "    }\n",
              "\n",
              "    .colab-df-buttons div {\n",
              "      margin-bottom: 4px;\n",
              "    }\n",
              "\n",
              "    [theme=dark] .colab-df-convert {\n",
              "      background-color: #3B4455;\n",
              "      fill: #D2E3FC;\n",
              "    }\n",
              "\n",
              "    [theme=dark] .colab-df-convert:hover {\n",
              "      background-color: #434B5C;\n",
              "      box-shadow: 0px 1px 3px 1px rgba(0, 0, 0, 0.15);\n",
              "      filter: drop-shadow(0px 1px 2px rgba(0, 0, 0, 0.3));\n",
              "      fill: #FFFFFF;\n",
              "    }\n",
              "  </style>\n",
              "\n",
              "    <script>\n",
              "      const buttonEl =\n",
              "        document.querySelector('#df-32527828-9b09-40e0-84fa-3b3ddded0f49 button.colab-df-convert');\n",
              "      buttonEl.style.display =\n",
              "        google.colab.kernel.accessAllowed ? 'block' : 'none';\n",
              "\n",
              "      async function convertToInteractive(key) {\n",
              "        const element = document.querySelector('#df-32527828-9b09-40e0-84fa-3b3ddded0f49');\n",
              "        const dataTable =\n",
              "          await google.colab.kernel.invokeFunction('convertToInteractive',\n",
              "                                                    [key], {});\n",
              "        if (!dataTable) return;\n",
              "\n",
              "        const docLinkHtml = 'Like what you see? Visit the ' +\n",
              "          '<a target=\"_blank\" href=https://colab.research.google.com/notebooks/data_table.ipynb>data table notebook</a>'\n",
              "          + ' to learn more about interactive tables.';\n",
              "        element.innerHTML = '';\n",
              "        dataTable['output_type'] = 'display_data';\n",
              "        await google.colab.output.renderOutput(dataTable, element);\n",
              "        const docLink = document.createElement('div');\n",
              "        docLink.innerHTML = docLinkHtml;\n",
              "        element.appendChild(docLink);\n",
              "      }\n",
              "    </script>\n",
              "  </div>\n",
              "\n",
              "\n",
              "<div id=\"df-357f4b27-efb8-45e3-9a40-07484d5f8e1a\">\n",
              "  <button class=\"colab-df-quickchart\" onclick=\"quickchart('df-357f4b27-efb8-45e3-9a40-07484d5f8e1a')\"\n",
              "            title=\"Suggest charts\"\n",
              "            style=\"display:none;\">\n",
              "\n",
              "<svg xmlns=\"http://www.w3.org/2000/svg\" height=\"24px\"viewBox=\"0 0 24 24\"\n",
              "     width=\"24px\">\n",
              "    <g>\n",
              "        <path d=\"M19 3H5c-1.1 0-2 .9-2 2v14c0 1.1.9 2 2 2h14c1.1 0 2-.9 2-2V5c0-1.1-.9-2-2-2zM9 17H7v-7h2v7zm4 0h-2V7h2v10zm4 0h-2v-4h2v4z\"/>\n",
              "    </g>\n",
              "</svg>\n",
              "  </button>\n",
              "\n",
              "<style>\n",
              "  .colab-df-quickchart {\n",
              "      --bg-color: #E8F0FE;\n",
              "      --fill-color: #1967D2;\n",
              "      --hover-bg-color: #E2EBFA;\n",
              "      --hover-fill-color: #174EA6;\n",
              "      --disabled-fill-color: #AAA;\n",
              "      --disabled-bg-color: #DDD;\n",
              "  }\n",
              "\n",
              "  [theme=dark] .colab-df-quickchart {\n",
              "      --bg-color: #3B4455;\n",
              "      --fill-color: #D2E3FC;\n",
              "      --hover-bg-color: #434B5C;\n",
              "      --hover-fill-color: #FFFFFF;\n",
              "      --disabled-bg-color: #3B4455;\n",
              "      --disabled-fill-color: #666;\n",
              "  }\n",
              "\n",
              "  .colab-df-quickchart {\n",
              "    background-color: var(--bg-color);\n",
              "    border: none;\n",
              "    border-radius: 50%;\n",
              "    cursor: pointer;\n",
              "    display: none;\n",
              "    fill: var(--fill-color);\n",
              "    height: 32px;\n",
              "    padding: 0;\n",
              "    width: 32px;\n",
              "  }\n",
              "\n",
              "  .colab-df-quickchart:hover {\n",
              "    background-color: var(--hover-bg-color);\n",
              "    box-shadow: 0 1px 2px rgba(60, 64, 67, 0.3), 0 1px 3px 1px rgba(60, 64, 67, 0.15);\n",
              "    fill: var(--button-hover-fill-color);\n",
              "  }\n",
              "\n",
              "  .colab-df-quickchart-complete:disabled,\n",
              "  .colab-df-quickchart-complete:disabled:hover {\n",
              "    background-color: var(--disabled-bg-color);\n",
              "    fill: var(--disabled-fill-color);\n",
              "    box-shadow: none;\n",
              "  }\n",
              "\n",
              "  .colab-df-spinner {\n",
              "    border: 2px solid var(--fill-color);\n",
              "    border-color: transparent;\n",
              "    border-bottom-color: var(--fill-color);\n",
              "    animation:\n",
              "      spin 1s steps(1) infinite;\n",
              "  }\n",
              "\n",
              "  @keyframes spin {\n",
              "    0% {\n",
              "      border-color: transparent;\n",
              "      border-bottom-color: var(--fill-color);\n",
              "      border-left-color: var(--fill-color);\n",
              "    }\n",
              "    20% {\n",
              "      border-color: transparent;\n",
              "      border-left-color: var(--fill-color);\n",
              "      border-top-color: var(--fill-color);\n",
              "    }\n",
              "    30% {\n",
              "      border-color: transparent;\n",
              "      border-left-color: var(--fill-color);\n",
              "      border-top-color: var(--fill-color);\n",
              "      border-right-color: var(--fill-color);\n",
              "    }\n",
              "    40% {\n",
              "      border-color: transparent;\n",
              "      border-right-color: var(--fill-color);\n",
              "      border-top-color: var(--fill-color);\n",
              "    }\n",
              "    60% {\n",
              "      border-color: transparent;\n",
              "      border-right-color: var(--fill-color);\n",
              "    }\n",
              "    80% {\n",
              "      border-color: transparent;\n",
              "      border-right-color: var(--fill-color);\n",
              "      border-bottom-color: var(--fill-color);\n",
              "    }\n",
              "    90% {\n",
              "      border-color: transparent;\n",
              "      border-bottom-color: var(--fill-color);\n",
              "    }\n",
              "  }\n",
              "</style>\n",
              "\n",
              "  <script>\n",
              "    async function quickchart(key) {\n",
              "      const quickchartButtonEl =\n",
              "        document.querySelector('#' + key + ' button');\n",
              "      quickchartButtonEl.disabled = true;  // To prevent multiple clicks.\n",
              "      quickchartButtonEl.classList.add('colab-df-spinner');\n",
              "      try {\n",
              "        const charts = await google.colab.kernel.invokeFunction(\n",
              "            'suggestCharts', [key], {});\n",
              "      } catch (error) {\n",
              "        console.error('Error during call to suggestCharts:', error);\n",
              "      }\n",
              "      quickchartButtonEl.classList.remove('colab-df-spinner');\n",
              "      quickchartButtonEl.classList.add('colab-df-quickchart-complete');\n",
              "    }\n",
              "    (() => {\n",
              "      let quickchartButtonEl =\n",
              "        document.querySelector('#df-357f4b27-efb8-45e3-9a40-07484d5f8e1a button');\n",
              "      quickchartButtonEl.style.display =\n",
              "        google.colab.kernel.accessAllowed ? 'block' : 'none';\n",
              "    })();\n",
              "  </script>\n",
              "</div>\n",
              "\n",
              "    </div>\n",
              "  </div>\n"
            ],
            "application/vnd.google.colaboratory.intrinsic+json": {
              "type": "dataframe",
              "variable_name": "df"
            }
          },
          "metadata": {},
          "execution_count": 3
        }
      ],
      "source": [
        "import pandas as pd\n",
        "\n",
        "# Load the dataset (update the path as needed)\n",
        "df = pd.read_csv('/content/drive/MyDrive/household_power_consumption.txt', sep=';',\n",
        "                 parse_dates={'Datetime': ['Date', 'Time']},\n",
        "                 infer_datetime_format=True,\n",
        "                 na_values='?',\n",
        "                 low_memory=False)\n",
        "\n",
        "# Set datetime as the index\n",
        "df.set_index('Datetime', inplace=True)\n",
        "\n",
        "# Convert all columns to numeric (some may be loaded as object due to 'na_values')\n",
        "df = df.apply(pd.to_numeric, errors='coerce')\n",
        "\n",
        "# Preview the dataset\n",
        "print(\"Shape of dataset:\", df.shape)\n",
        "df.head()\n"
      ]
    },
    {
      "cell_type": "code",
      "source": [
        "from google.colab import drive\n",
        "drive.mount('/content/drive')"
      ],
      "metadata": {
        "colab": {
          "base_uri": "https://localhost:8080/"
        },
        "id": "ULaOoCvv2E_w",
        "outputId": "94968b10-6a97-4110-dde0-491cbd25ec53"
      },
      "execution_count": null,
      "outputs": [
        {
          "output_type": "stream",
          "name": "stdout",
          "text": [
            "Mounted at /content/drive\n"
          ]
        }
      ]
    },
    {
      "cell_type": "markdown",
      "source": [
        "# Handling Missing Values"
      ],
      "metadata": {
        "id": "8mvqoxX2Scbr"
      }
    },
    {
      "cell_type": "code",
      "source": [
        "# Check for missing values\n",
        "missing_counts = df.isna().sum()\n",
        "print(\"Missing values per column:\\n\", missing_counts)\n",
        "\n",
        "\n"
      ],
      "metadata": {
        "colab": {
          "base_uri": "https://localhost:8080/"
        },
        "id": "HGpcj9imobbl",
        "outputId": "3ca2f4af-f395-4074-ef70-e401b88e72b3"
      },
      "execution_count": null,
      "outputs": [
        {
          "output_type": "stream",
          "name": "stdout",
          "text": [
            "Missing values per column:\n",
            " Global_active_power      25979\n",
            "Global_reactive_power    25979\n",
            "Voltage                  25979\n",
            "Global_intensity         25979\n",
            "Sub_metering_1           25979\n",
            "Sub_metering_2           25979\n",
            "Sub_metering_3           25979\n",
            "dtype: int64\n"
          ]
        }
      ]
    },
    {
      "cell_type": "markdown",
      "source": [
        "# Handling Missing Values and Resampling Power Consumption Data\n",
        "\n",
        "## **Description:**\n",
        "\n",
        "- **Checks for missing values:** Displays the count of missing values in each column before imputation.\n",
        "- **Performs missing value imputation:** Uses **forward-fill** (`ffill`) to propagate the last valid observation and **back-fill** (`bfill`) to fill any remaining NaN values.\n",
        "- **Verifies missing value removal:** Prints the count of missing values after imputation to confirm that no `NaN`values remain.\n",
        "- **Optionally resamples the data:** Aggregates the dataset into **5-minute intervals** by calculating the mean for each interval.\n",
        "- **Displays the resampled dataset:** Prints the shape and previews the first few rows of the resampled data."
      ],
      "metadata": {
        "id": "nHWWomDISgbQ"
      }
    },
    {
      "cell_type": "code",
      "source": [
        "# Check for missing values again\n",
        "print(\"Missing values before imputation:\\n\", df.isna().sum())\n",
        "\n",
        "# Fill missing values using forward-fill and then back-fill\n",
        "df_filled = df.ffill().bfill()\n",
        "\n",
        "# Confirm that no missing values remain\n",
        "print(\"\\nMissing values after imputation:\\n\", df_filled.isna().sum())\n",
        "\n",
        "# Optional: Resample to 5-minute intervals\n",
        "df_resampled = df_filled.resample('5T').mean()\n",
        "\n",
        "print(f\"\\nDataset shape after optional resampling: {df_resampled.shape}\")\n",
        "df_resampled.head()\n"
      ],
      "metadata": {
        "colab": {
          "base_uri": "https://localhost:8080/",
          "height": 637
        },
        "id": "PbI2AFhMoefG",
        "outputId": "70adc0ac-a18d-4c2c-a3a6-e15edaeced4a"
      },
      "execution_count": null,
      "outputs": [
        {
          "output_type": "stream",
          "name": "stdout",
          "text": [
            "Missing values before imputation:\n",
            " Global_active_power      25979\n",
            "Global_reactive_power    25979\n",
            "Voltage                  25979\n",
            "Global_intensity         25979\n",
            "Sub_metering_1           25979\n",
            "Sub_metering_2           25979\n",
            "Sub_metering_3           25979\n",
            "dtype: int64\n",
            "\n",
            "Missing values after imputation:\n",
            " Global_active_power      0\n",
            "Global_reactive_power    0\n",
            "Voltage                  0\n",
            "Global_intensity         0\n",
            "Sub_metering_1           0\n",
            "Sub_metering_2           0\n",
            "Sub_metering_3           0\n",
            "dtype: int64\n",
            "\n",
            "Dataset shape after optional resampling: (415053, 7)\n"
          ]
        },
        {
          "output_type": "stream",
          "name": "stderr",
          "text": [
            "<ipython-input-5-b90d13b0d5a9>:11: FutureWarning: 'T' is deprecated and will be removed in a future version, please use 'min' instead.\n",
            "  df_resampled = df_filled.resample('5T').mean()\n"
          ]
        },
        {
          "output_type": "execute_result",
          "data": {
            "text/plain": [
              "                     Global_active_power  Global_reactive_power  Voltage  \\\n",
              "Datetime                                                                   \n",
              "2006-12-16 17:20:00               4.2160                 0.4180  234.840   \n",
              "2006-12-16 17:25:00               4.6616                 0.4972  234.272   \n",
              "2006-12-16 17:30:00               3.8360                 0.5116  234.204   \n",
              "2006-12-16 17:35:00               4.6684                 0.4100  234.212   \n",
              "2006-12-16 17:40:00               3.9176                 0.0616  235.890   \n",
              "\n",
              "                     Global_intensity  Sub_metering_1  Sub_metering_2  \\\n",
              "Datetime                                                                \n",
              "2006-12-16 17:20:00             18.40             0.0             1.0   \n",
              "2006-12-16 17:25:00             19.96             0.0             1.4   \n",
              "2006-12-16 17:30:00             16.56             0.0             1.2   \n",
              "2006-12-16 17:35:00             20.00             0.0             1.0   \n",
              "2006-12-16 17:40:00             16.76             0.0             0.0   \n",
              "\n",
              "                     Sub_metering_3  \n",
              "Datetime                             \n",
              "2006-12-16 17:20:00            17.0  \n",
              "2006-12-16 17:25:00            16.8  \n",
              "2006-12-16 17:30:00            16.8  \n",
              "2006-12-16 17:35:00            16.8  \n",
              "2006-12-16 17:40:00            17.0  "
            ],
            "text/html": [
              "\n",
              "  <div id=\"df-c2b74eb7-d15b-4084-9e2e-275d708b0c79\" class=\"colab-df-container\">\n",
              "    <div>\n",
              "<style scoped>\n",
              "    .dataframe tbody tr th:only-of-type {\n",
              "        vertical-align: middle;\n",
              "    }\n",
              "\n",
              "    .dataframe tbody tr th {\n",
              "        vertical-align: top;\n",
              "    }\n",
              "\n",
              "    .dataframe thead th {\n",
              "        text-align: right;\n",
              "    }\n",
              "</style>\n",
              "<table border=\"1\" class=\"dataframe\">\n",
              "  <thead>\n",
              "    <tr style=\"text-align: right;\">\n",
              "      <th></th>\n",
              "      <th>Global_active_power</th>\n",
              "      <th>Global_reactive_power</th>\n",
              "      <th>Voltage</th>\n",
              "      <th>Global_intensity</th>\n",
              "      <th>Sub_metering_1</th>\n",
              "      <th>Sub_metering_2</th>\n",
              "      <th>Sub_metering_3</th>\n",
              "    </tr>\n",
              "    <tr>\n",
              "      <th>Datetime</th>\n",
              "      <th></th>\n",
              "      <th></th>\n",
              "      <th></th>\n",
              "      <th></th>\n",
              "      <th></th>\n",
              "      <th></th>\n",
              "      <th></th>\n",
              "    </tr>\n",
              "  </thead>\n",
              "  <tbody>\n",
              "    <tr>\n",
              "      <th>2006-12-16 17:20:00</th>\n",
              "      <td>4.2160</td>\n",
              "      <td>0.4180</td>\n",
              "      <td>234.840</td>\n",
              "      <td>18.40</td>\n",
              "      <td>0.0</td>\n",
              "      <td>1.0</td>\n",
              "      <td>17.0</td>\n",
              "    </tr>\n",
              "    <tr>\n",
              "      <th>2006-12-16 17:25:00</th>\n",
              "      <td>4.6616</td>\n",
              "      <td>0.4972</td>\n",
              "      <td>234.272</td>\n",
              "      <td>19.96</td>\n",
              "      <td>0.0</td>\n",
              "      <td>1.4</td>\n",
              "      <td>16.8</td>\n",
              "    </tr>\n",
              "    <tr>\n",
              "      <th>2006-12-16 17:30:00</th>\n",
              "      <td>3.8360</td>\n",
              "      <td>0.5116</td>\n",
              "      <td>234.204</td>\n",
              "      <td>16.56</td>\n",
              "      <td>0.0</td>\n",
              "      <td>1.2</td>\n",
              "      <td>16.8</td>\n",
              "    </tr>\n",
              "    <tr>\n",
              "      <th>2006-12-16 17:35:00</th>\n",
              "      <td>4.6684</td>\n",
              "      <td>0.4100</td>\n",
              "      <td>234.212</td>\n",
              "      <td>20.00</td>\n",
              "      <td>0.0</td>\n",
              "      <td>1.0</td>\n",
              "      <td>16.8</td>\n",
              "    </tr>\n",
              "    <tr>\n",
              "      <th>2006-12-16 17:40:00</th>\n",
              "      <td>3.9176</td>\n",
              "      <td>0.0616</td>\n",
              "      <td>235.890</td>\n",
              "      <td>16.76</td>\n",
              "      <td>0.0</td>\n",
              "      <td>0.0</td>\n",
              "      <td>17.0</td>\n",
              "    </tr>\n",
              "  </tbody>\n",
              "</table>\n",
              "</div>\n",
              "    <div class=\"colab-df-buttons\">\n",
              "\n",
              "  <div class=\"colab-df-container\">\n",
              "    <button class=\"colab-df-convert\" onclick=\"convertToInteractive('df-c2b74eb7-d15b-4084-9e2e-275d708b0c79')\"\n",
              "            title=\"Convert this dataframe to an interactive table.\"\n",
              "            style=\"display:none;\">\n",
              "\n",
              "  <svg xmlns=\"http://www.w3.org/2000/svg\" height=\"24px\" viewBox=\"0 -960 960 960\">\n",
              "    <path d=\"M120-120v-720h720v720H120Zm60-500h600v-160H180v160Zm220 220h160v-160H400v160Zm0 220h160v-160H400v160ZM180-400h160v-160H180v160Zm440 0h160v-160H620v160ZM180-180h160v-160H180v160Zm440 0h160v-160H620v160Z\"/>\n",
              "  </svg>\n",
              "    </button>\n",
              "\n",
              "  <style>\n",
              "    .colab-df-container {\n",
              "      display:flex;\n",
              "      gap: 12px;\n",
              "    }\n",
              "\n",
              "    .colab-df-convert {\n",
              "      background-color: #E8F0FE;\n",
              "      border: none;\n",
              "      border-radius: 50%;\n",
              "      cursor: pointer;\n",
              "      display: none;\n",
              "      fill: #1967D2;\n",
              "      height: 32px;\n",
              "      padding: 0 0 0 0;\n",
              "      width: 32px;\n",
              "    }\n",
              "\n",
              "    .colab-df-convert:hover {\n",
              "      background-color: #E2EBFA;\n",
              "      box-shadow: 0px 1px 2px rgba(60, 64, 67, 0.3), 0px 1px 3px 1px rgba(60, 64, 67, 0.15);\n",
              "      fill: #174EA6;\n",
              "    }\n",
              "\n",
              "    .colab-df-buttons div {\n",
              "      margin-bottom: 4px;\n",
              "    }\n",
              "\n",
              "    [theme=dark] .colab-df-convert {\n",
              "      background-color: #3B4455;\n",
              "      fill: #D2E3FC;\n",
              "    }\n",
              "\n",
              "    [theme=dark] .colab-df-convert:hover {\n",
              "      background-color: #434B5C;\n",
              "      box-shadow: 0px 1px 3px 1px rgba(0, 0, 0, 0.15);\n",
              "      filter: drop-shadow(0px 1px 2px rgba(0, 0, 0, 0.3));\n",
              "      fill: #FFFFFF;\n",
              "    }\n",
              "  </style>\n",
              "\n",
              "    <script>\n",
              "      const buttonEl =\n",
              "        document.querySelector('#df-c2b74eb7-d15b-4084-9e2e-275d708b0c79 button.colab-df-convert');\n",
              "      buttonEl.style.display =\n",
              "        google.colab.kernel.accessAllowed ? 'block' : 'none';\n",
              "\n",
              "      async function convertToInteractive(key) {\n",
              "        const element = document.querySelector('#df-c2b74eb7-d15b-4084-9e2e-275d708b0c79');\n",
              "        const dataTable =\n",
              "          await google.colab.kernel.invokeFunction('convertToInteractive',\n",
              "                                                    [key], {});\n",
              "        if (!dataTable) return;\n",
              "\n",
              "        const docLinkHtml = 'Like what you see? Visit the ' +\n",
              "          '<a target=\"_blank\" href=https://colab.research.google.com/notebooks/data_table.ipynb>data table notebook</a>'\n",
              "          + ' to learn more about interactive tables.';\n",
              "        element.innerHTML = '';\n",
              "        dataTable['output_type'] = 'display_data';\n",
              "        await google.colab.output.renderOutput(dataTable, element);\n",
              "        const docLink = document.createElement('div');\n",
              "        docLink.innerHTML = docLinkHtml;\n",
              "        element.appendChild(docLink);\n",
              "      }\n",
              "    </script>\n",
              "  </div>\n",
              "\n",
              "\n",
              "<div id=\"df-04f15dfc-eab1-4283-b1c9-f334770d3032\">\n",
              "  <button class=\"colab-df-quickchart\" onclick=\"quickchart('df-04f15dfc-eab1-4283-b1c9-f334770d3032')\"\n",
              "            title=\"Suggest charts\"\n",
              "            style=\"display:none;\">\n",
              "\n",
              "<svg xmlns=\"http://www.w3.org/2000/svg\" height=\"24px\"viewBox=\"0 0 24 24\"\n",
              "     width=\"24px\">\n",
              "    <g>\n",
              "        <path d=\"M19 3H5c-1.1 0-2 .9-2 2v14c0 1.1.9 2 2 2h14c1.1 0 2-.9 2-2V5c0-1.1-.9-2-2-2zM9 17H7v-7h2v7zm4 0h-2V7h2v10zm4 0h-2v-4h2v4z\"/>\n",
              "    </g>\n",
              "</svg>\n",
              "  </button>\n",
              "\n",
              "<style>\n",
              "  .colab-df-quickchart {\n",
              "      --bg-color: #E8F0FE;\n",
              "      --fill-color: #1967D2;\n",
              "      --hover-bg-color: #E2EBFA;\n",
              "      --hover-fill-color: #174EA6;\n",
              "      --disabled-fill-color: #AAA;\n",
              "      --disabled-bg-color: #DDD;\n",
              "  }\n",
              "\n",
              "  [theme=dark] .colab-df-quickchart {\n",
              "      --bg-color: #3B4455;\n",
              "      --fill-color: #D2E3FC;\n",
              "      --hover-bg-color: #434B5C;\n",
              "      --hover-fill-color: #FFFFFF;\n",
              "      --disabled-bg-color: #3B4455;\n",
              "      --disabled-fill-color: #666;\n",
              "  }\n",
              "\n",
              "  .colab-df-quickchart {\n",
              "    background-color: var(--bg-color);\n",
              "    border: none;\n",
              "    border-radius: 50%;\n",
              "    cursor: pointer;\n",
              "    display: none;\n",
              "    fill: var(--fill-color);\n",
              "    height: 32px;\n",
              "    padding: 0;\n",
              "    width: 32px;\n",
              "  }\n",
              "\n",
              "  .colab-df-quickchart:hover {\n",
              "    background-color: var(--hover-bg-color);\n",
              "    box-shadow: 0 1px 2px rgba(60, 64, 67, 0.3), 0 1px 3px 1px rgba(60, 64, 67, 0.15);\n",
              "    fill: var(--button-hover-fill-color);\n",
              "  }\n",
              "\n",
              "  .colab-df-quickchart-complete:disabled,\n",
              "  .colab-df-quickchart-complete:disabled:hover {\n",
              "    background-color: var(--disabled-bg-color);\n",
              "    fill: var(--disabled-fill-color);\n",
              "    box-shadow: none;\n",
              "  }\n",
              "\n",
              "  .colab-df-spinner {\n",
              "    border: 2px solid var(--fill-color);\n",
              "    border-color: transparent;\n",
              "    border-bottom-color: var(--fill-color);\n",
              "    animation:\n",
              "      spin 1s steps(1) infinite;\n",
              "  }\n",
              "\n",
              "  @keyframes spin {\n",
              "    0% {\n",
              "      border-color: transparent;\n",
              "      border-bottom-color: var(--fill-color);\n",
              "      border-left-color: var(--fill-color);\n",
              "    }\n",
              "    20% {\n",
              "      border-color: transparent;\n",
              "      border-left-color: var(--fill-color);\n",
              "      border-top-color: var(--fill-color);\n",
              "    }\n",
              "    30% {\n",
              "      border-color: transparent;\n",
              "      border-left-color: var(--fill-color);\n",
              "      border-top-color: var(--fill-color);\n",
              "      border-right-color: var(--fill-color);\n",
              "    }\n",
              "    40% {\n",
              "      border-color: transparent;\n",
              "      border-right-color: var(--fill-color);\n",
              "      border-top-color: var(--fill-color);\n",
              "    }\n",
              "    60% {\n",
              "      border-color: transparent;\n",
              "      border-right-color: var(--fill-color);\n",
              "    }\n",
              "    80% {\n",
              "      border-color: transparent;\n",
              "      border-right-color: var(--fill-color);\n",
              "      border-bottom-color: var(--fill-color);\n",
              "    }\n",
              "    90% {\n",
              "      border-color: transparent;\n",
              "      border-bottom-color: var(--fill-color);\n",
              "    }\n",
              "  }\n",
              "</style>\n",
              "\n",
              "  <script>\n",
              "    async function quickchart(key) {\n",
              "      const quickchartButtonEl =\n",
              "        document.querySelector('#' + key + ' button');\n",
              "      quickchartButtonEl.disabled = true;  // To prevent multiple clicks.\n",
              "      quickchartButtonEl.classList.add('colab-df-spinner');\n",
              "      try {\n",
              "        const charts = await google.colab.kernel.invokeFunction(\n",
              "            'suggestCharts', [key], {});\n",
              "      } catch (error) {\n",
              "        console.error('Error during call to suggestCharts:', error);\n",
              "      }\n",
              "      quickchartButtonEl.classList.remove('colab-df-spinner');\n",
              "      quickchartButtonEl.classList.add('colab-df-quickchart-complete');\n",
              "    }\n",
              "    (() => {\n",
              "      let quickchartButtonEl =\n",
              "        document.querySelector('#df-04f15dfc-eab1-4283-b1c9-f334770d3032 button');\n",
              "      quickchartButtonEl.style.display =\n",
              "        google.colab.kernel.accessAllowed ? 'block' : 'none';\n",
              "    })();\n",
              "  </script>\n",
              "</div>\n",
              "\n",
              "    </div>\n",
              "  </div>\n"
            ],
            "application/vnd.google.colaboratory.intrinsic+json": {
              "type": "dataframe",
              "variable_name": "df_resampled"
            }
          },
          "metadata": {},
          "execution_count": 5
        }
      ]
    },
    {
      "cell_type": "markdown",
      "source": [
        "# Scaling Power Consumption Data with MinMaxScaler\n",
        "\n",
        "### **Description:**\n",
        "\n",
        "- **Initializes the scaler:** Uses `MinMaxScaler()` from `sklearn.preprocessing` to scale the data.\n",
        "- **Fits and transforms the data:** Applies Min-Max scaling to normalize all values between 0 and 1, ensuring the data is on a consistent scale.\n",
        "- **Converts back to DataFrame:** Preserves the original column names and datetime index by converting the scaled NumPy array back into a Pandas DataFrame.\n",
        "- **Previews the scaled data:** Displays the first few rows of the scaled dataset."
      ],
      "metadata": {
        "id": "9wIPORKATy9K"
      }
    },
    {
      "cell_type": "code",
      "source": [
        "from sklearn.preprocessing import MinMaxScaler\n",
        "\n",
        "# Initialize the scaler\n",
        "scaler = MinMaxScaler()\n",
        "\n",
        "# Fit and transform the resampled data\n",
        "scaled_data = scaler.fit_transform(df_resampled)\n",
        "\n",
        "# Convert back to DataFrame to preserve column names and structure\n",
        "df_scaled = pd.DataFrame(scaled_data, columns=df_resampled.columns, index=df_resampled.index)\n",
        "\n",
        "# Preview scaled data\n",
        "df_scaled.head()\n"
      ],
      "metadata": {
        "colab": {
          "base_uri": "https://localhost:8080/",
          "height": 238
        },
        "id": "yH3OxZL9ojXK",
        "outputId": "d61eeedc-44d5-4156-ac27-89ae6a883f69"
      },
      "execution_count": null,
      "outputs": [
        {
          "output_type": "execute_result",
          "data": {
            "text/plain": [
              "                     Global_active_power  Global_reactive_power   Voltage  \\\n",
              "Datetime                                                                    \n",
              "2006-12-16 17:20:00             0.429205               0.389199  0.363893   \n",
              "2006-12-16 17:25:00             0.475406               0.462942  0.344360   \n",
              "2006-12-16 17:30:00             0.389806               0.476350  0.342022   \n",
              "2006-12-16 17:35:00             0.476111               0.381750  0.342297   \n",
              "2006-12-16 17:40:00             0.398266               0.057356  0.400000   \n",
              "\n",
              "                     Global_intensity  Sub_metering_1  Sub_metering_2  \\\n",
              "Datetime                                                                \n",
              "2006-12-16 17:20:00          0.435407             0.0        0.012626   \n",
              "2006-12-16 17:25:00          0.472727             0.0        0.017677   \n",
              "2006-12-16 17:30:00          0.391388             0.0        0.015152   \n",
              "2006-12-16 17:35:00          0.473684             0.0        0.012626   \n",
              "2006-12-16 17:40:00          0.396172             0.0        0.000000   \n",
              "\n",
              "                     Sub_metering_3  \n",
              "Datetime                             \n",
              "2006-12-16 17:20:00        0.548387  \n",
              "2006-12-16 17:25:00        0.541935  \n",
              "2006-12-16 17:30:00        0.541935  \n",
              "2006-12-16 17:35:00        0.541935  \n",
              "2006-12-16 17:40:00        0.548387  "
            ],
            "text/html": [
              "\n",
              "  <div id=\"df-ce8da0dc-eac7-4309-9f40-7c51ecf40856\" class=\"colab-df-container\">\n",
              "    <div>\n",
              "<style scoped>\n",
              "    .dataframe tbody tr th:only-of-type {\n",
              "        vertical-align: middle;\n",
              "    }\n",
              "\n",
              "    .dataframe tbody tr th {\n",
              "        vertical-align: top;\n",
              "    }\n",
              "\n",
              "    .dataframe thead th {\n",
              "        text-align: right;\n",
              "    }\n",
              "</style>\n",
              "<table border=\"1\" class=\"dataframe\">\n",
              "  <thead>\n",
              "    <tr style=\"text-align: right;\">\n",
              "      <th></th>\n",
              "      <th>Global_active_power</th>\n",
              "      <th>Global_reactive_power</th>\n",
              "      <th>Voltage</th>\n",
              "      <th>Global_intensity</th>\n",
              "      <th>Sub_metering_1</th>\n",
              "      <th>Sub_metering_2</th>\n",
              "      <th>Sub_metering_3</th>\n",
              "    </tr>\n",
              "    <tr>\n",
              "      <th>Datetime</th>\n",
              "      <th></th>\n",
              "      <th></th>\n",
              "      <th></th>\n",
              "      <th></th>\n",
              "      <th></th>\n",
              "      <th></th>\n",
              "      <th></th>\n",
              "    </tr>\n",
              "  </thead>\n",
              "  <tbody>\n",
              "    <tr>\n",
              "      <th>2006-12-16 17:20:00</th>\n",
              "      <td>0.429205</td>\n",
              "      <td>0.389199</td>\n",
              "      <td>0.363893</td>\n",
              "      <td>0.435407</td>\n",
              "      <td>0.0</td>\n",
              "      <td>0.012626</td>\n",
              "      <td>0.548387</td>\n",
              "    </tr>\n",
              "    <tr>\n",
              "      <th>2006-12-16 17:25:00</th>\n",
              "      <td>0.475406</td>\n",
              "      <td>0.462942</td>\n",
              "      <td>0.344360</td>\n",
              "      <td>0.472727</td>\n",
              "      <td>0.0</td>\n",
              "      <td>0.017677</td>\n",
              "      <td>0.541935</td>\n",
              "    </tr>\n",
              "    <tr>\n",
              "      <th>2006-12-16 17:30:00</th>\n",
              "      <td>0.389806</td>\n",
              "      <td>0.476350</td>\n",
              "      <td>0.342022</td>\n",
              "      <td>0.391388</td>\n",
              "      <td>0.0</td>\n",
              "      <td>0.015152</td>\n",
              "      <td>0.541935</td>\n",
              "    </tr>\n",
              "    <tr>\n",
              "      <th>2006-12-16 17:35:00</th>\n",
              "      <td>0.476111</td>\n",
              "      <td>0.381750</td>\n",
              "      <td>0.342297</td>\n",
              "      <td>0.473684</td>\n",
              "      <td>0.0</td>\n",
              "      <td>0.012626</td>\n",
              "      <td>0.541935</td>\n",
              "    </tr>\n",
              "    <tr>\n",
              "      <th>2006-12-16 17:40:00</th>\n",
              "      <td>0.398266</td>\n",
              "      <td>0.057356</td>\n",
              "      <td>0.400000</td>\n",
              "      <td>0.396172</td>\n",
              "      <td>0.0</td>\n",
              "      <td>0.000000</td>\n",
              "      <td>0.548387</td>\n",
              "    </tr>\n",
              "  </tbody>\n",
              "</table>\n",
              "</div>\n",
              "    <div class=\"colab-df-buttons\">\n",
              "\n",
              "  <div class=\"colab-df-container\">\n",
              "    <button class=\"colab-df-convert\" onclick=\"convertToInteractive('df-ce8da0dc-eac7-4309-9f40-7c51ecf40856')\"\n",
              "            title=\"Convert this dataframe to an interactive table.\"\n",
              "            style=\"display:none;\">\n",
              "\n",
              "  <svg xmlns=\"http://www.w3.org/2000/svg\" height=\"24px\" viewBox=\"0 -960 960 960\">\n",
              "    <path d=\"M120-120v-720h720v720H120Zm60-500h600v-160H180v160Zm220 220h160v-160H400v160Zm0 220h160v-160H400v160ZM180-400h160v-160H180v160Zm440 0h160v-160H620v160ZM180-180h160v-160H180v160Zm440 0h160v-160H620v160Z\"/>\n",
              "  </svg>\n",
              "    </button>\n",
              "\n",
              "  <style>\n",
              "    .colab-df-container {\n",
              "      display:flex;\n",
              "      gap: 12px;\n",
              "    }\n",
              "\n",
              "    .colab-df-convert {\n",
              "      background-color: #E8F0FE;\n",
              "      border: none;\n",
              "      border-radius: 50%;\n",
              "      cursor: pointer;\n",
              "      display: none;\n",
              "      fill: #1967D2;\n",
              "      height: 32px;\n",
              "      padding: 0 0 0 0;\n",
              "      width: 32px;\n",
              "    }\n",
              "\n",
              "    .colab-df-convert:hover {\n",
              "      background-color: #E2EBFA;\n",
              "      box-shadow: 0px 1px 2px rgba(60, 64, 67, 0.3), 0px 1px 3px 1px rgba(60, 64, 67, 0.15);\n",
              "      fill: #174EA6;\n",
              "    }\n",
              "\n",
              "    .colab-df-buttons div {\n",
              "      margin-bottom: 4px;\n",
              "    }\n",
              "\n",
              "    [theme=dark] .colab-df-convert {\n",
              "      background-color: #3B4455;\n",
              "      fill: #D2E3FC;\n",
              "    }\n",
              "\n",
              "    [theme=dark] .colab-df-convert:hover {\n",
              "      background-color: #434B5C;\n",
              "      box-shadow: 0px 1px 3px 1px rgba(0, 0, 0, 0.15);\n",
              "      filter: drop-shadow(0px 1px 2px rgba(0, 0, 0, 0.3));\n",
              "      fill: #FFFFFF;\n",
              "    }\n",
              "  </style>\n",
              "\n",
              "    <script>\n",
              "      const buttonEl =\n",
              "        document.querySelector('#df-ce8da0dc-eac7-4309-9f40-7c51ecf40856 button.colab-df-convert');\n",
              "      buttonEl.style.display =\n",
              "        google.colab.kernel.accessAllowed ? 'block' : 'none';\n",
              "\n",
              "      async function convertToInteractive(key) {\n",
              "        const element = document.querySelector('#df-ce8da0dc-eac7-4309-9f40-7c51ecf40856');\n",
              "        const dataTable =\n",
              "          await google.colab.kernel.invokeFunction('convertToInteractive',\n",
              "                                                    [key], {});\n",
              "        if (!dataTable) return;\n",
              "\n",
              "        const docLinkHtml = 'Like what you see? Visit the ' +\n",
              "          '<a target=\"_blank\" href=https://colab.research.google.com/notebooks/data_table.ipynb>data table notebook</a>'\n",
              "          + ' to learn more about interactive tables.';\n",
              "        element.innerHTML = '';\n",
              "        dataTable['output_type'] = 'display_data';\n",
              "        await google.colab.output.renderOutput(dataTable, element);\n",
              "        const docLink = document.createElement('div');\n",
              "        docLink.innerHTML = docLinkHtml;\n",
              "        element.appendChild(docLink);\n",
              "      }\n",
              "    </script>\n",
              "  </div>\n",
              "\n",
              "\n",
              "<div id=\"df-92f17ea5-3a34-4751-8ce3-5ac5450aa4d8\">\n",
              "  <button class=\"colab-df-quickchart\" onclick=\"quickchart('df-92f17ea5-3a34-4751-8ce3-5ac5450aa4d8')\"\n",
              "            title=\"Suggest charts\"\n",
              "            style=\"display:none;\">\n",
              "\n",
              "<svg xmlns=\"http://www.w3.org/2000/svg\" height=\"24px\"viewBox=\"0 0 24 24\"\n",
              "     width=\"24px\">\n",
              "    <g>\n",
              "        <path d=\"M19 3H5c-1.1 0-2 .9-2 2v14c0 1.1.9 2 2 2h14c1.1 0 2-.9 2-2V5c0-1.1-.9-2-2-2zM9 17H7v-7h2v7zm4 0h-2V7h2v10zm4 0h-2v-4h2v4z\"/>\n",
              "    </g>\n",
              "</svg>\n",
              "  </button>\n",
              "\n",
              "<style>\n",
              "  .colab-df-quickchart {\n",
              "      --bg-color: #E8F0FE;\n",
              "      --fill-color: #1967D2;\n",
              "      --hover-bg-color: #E2EBFA;\n",
              "      --hover-fill-color: #174EA6;\n",
              "      --disabled-fill-color: #AAA;\n",
              "      --disabled-bg-color: #DDD;\n",
              "  }\n",
              "\n",
              "  [theme=dark] .colab-df-quickchart {\n",
              "      --bg-color: #3B4455;\n",
              "      --fill-color: #D2E3FC;\n",
              "      --hover-bg-color: #434B5C;\n",
              "      --hover-fill-color: #FFFFFF;\n",
              "      --disabled-bg-color: #3B4455;\n",
              "      --disabled-fill-color: #666;\n",
              "  }\n",
              "\n",
              "  .colab-df-quickchart {\n",
              "    background-color: var(--bg-color);\n",
              "    border: none;\n",
              "    border-radius: 50%;\n",
              "    cursor: pointer;\n",
              "    display: none;\n",
              "    fill: var(--fill-color);\n",
              "    height: 32px;\n",
              "    padding: 0;\n",
              "    width: 32px;\n",
              "  }\n",
              "\n",
              "  .colab-df-quickchart:hover {\n",
              "    background-color: var(--hover-bg-color);\n",
              "    box-shadow: 0 1px 2px rgba(60, 64, 67, 0.3), 0 1px 3px 1px rgba(60, 64, 67, 0.15);\n",
              "    fill: var(--button-hover-fill-color);\n",
              "  }\n",
              "\n",
              "  .colab-df-quickchart-complete:disabled,\n",
              "  .colab-df-quickchart-complete:disabled:hover {\n",
              "    background-color: var(--disabled-bg-color);\n",
              "    fill: var(--disabled-fill-color);\n",
              "    box-shadow: none;\n",
              "  }\n",
              "\n",
              "  .colab-df-spinner {\n",
              "    border: 2px solid var(--fill-color);\n",
              "    border-color: transparent;\n",
              "    border-bottom-color: var(--fill-color);\n",
              "    animation:\n",
              "      spin 1s steps(1) infinite;\n",
              "  }\n",
              "\n",
              "  @keyframes spin {\n",
              "    0% {\n",
              "      border-color: transparent;\n",
              "      border-bottom-color: var(--fill-color);\n",
              "      border-left-color: var(--fill-color);\n",
              "    }\n",
              "    20% {\n",
              "      border-color: transparent;\n",
              "      border-left-color: var(--fill-color);\n",
              "      border-top-color: var(--fill-color);\n",
              "    }\n",
              "    30% {\n",
              "      border-color: transparent;\n",
              "      border-left-color: var(--fill-color);\n",
              "      border-top-color: var(--fill-color);\n",
              "      border-right-color: var(--fill-color);\n",
              "    }\n",
              "    40% {\n",
              "      border-color: transparent;\n",
              "      border-right-color: var(--fill-color);\n",
              "      border-top-color: var(--fill-color);\n",
              "    }\n",
              "    60% {\n",
              "      border-color: transparent;\n",
              "      border-right-color: var(--fill-color);\n",
              "    }\n",
              "    80% {\n",
              "      border-color: transparent;\n",
              "      border-right-color: var(--fill-color);\n",
              "      border-bottom-color: var(--fill-color);\n",
              "    }\n",
              "    90% {\n",
              "      border-color: transparent;\n",
              "      border-bottom-color: var(--fill-color);\n",
              "    }\n",
              "  }\n",
              "</style>\n",
              "\n",
              "  <script>\n",
              "    async function quickchart(key) {\n",
              "      const quickchartButtonEl =\n",
              "        document.querySelector('#' + key + ' button');\n",
              "      quickchartButtonEl.disabled = true;  // To prevent multiple clicks.\n",
              "      quickchartButtonEl.classList.add('colab-df-spinner');\n",
              "      try {\n",
              "        const charts = await google.colab.kernel.invokeFunction(\n",
              "            'suggestCharts', [key], {});\n",
              "      } catch (error) {\n",
              "        console.error('Error during call to suggestCharts:', error);\n",
              "      }\n",
              "      quickchartButtonEl.classList.remove('colab-df-spinner');\n",
              "      quickchartButtonEl.classList.add('colab-df-quickchart-complete');\n",
              "    }\n",
              "    (() => {\n",
              "      let quickchartButtonEl =\n",
              "        document.querySelector('#df-92f17ea5-3a34-4751-8ce3-5ac5450aa4d8 button');\n",
              "      quickchartButtonEl.style.display =\n",
              "        google.colab.kernel.accessAllowed ? 'block' : 'none';\n",
              "    })();\n",
              "  </script>\n",
              "</div>\n",
              "\n",
              "    </div>\n",
              "  </div>\n"
            ],
            "application/vnd.google.colaboratory.intrinsic+json": {
              "type": "dataframe",
              "variable_name": "df_scaled"
            }
          },
          "metadata": {},
          "execution_count": 6
        }
      ]
    },
    {
      "cell_type": "markdown",
      "source": [
        "# Preparing Time Series Sequences for Model Training\n",
        "\n",
        "### **Description:**\n",
        "\n",
        "- **Defines sequence length:** Sets the sequence length to **12 timesteps**, equivalent to **60 minutes** when using 5-minute intervals.\n",
        "- **Selects the target variable:** Specifies `'Global_active_power'` as the prediction target.\n",
        "- **Converts to NumPy array:** Optimizes slicing operations by converting the scaled DataFrame into a NumPy array.\n",
        "- **Generates input-output sequences:**\n",
        " - `X`: Contains the past 12 timesteps of all features.\n",
        " - `y`: Contains the target value at the next timestep (`t + 1`).\n",
        "- **Shapes the sequences into arrays:**\n",
        " - `X.shape → (samples, seq_len, num_features)`\n",
        " - `y.shape → (samples,)`\n",
        "- **Performs a quick sanity check:**\n",
        " - Prints the shape of an example input sequence (`X[0]`) and its corresponding target value (`y[0]`)."
      ],
      "metadata": {
        "id": "4xEvXkMMVBr1"
      }
    },
    {
      "cell_type": "code",
      "source": [
        "import numpy as np\n",
        "\n",
        "# Set parameters\n",
        "sequence_length = 12  # 12 timesteps (60 minutes if 5-minute intervals)\n",
        "target_column = 'Global_active_power'\n",
        "\n",
        "# Convert to NumPy array for faster slicing\n",
        "values = df_scaled.values\n",
        "target_index = df_scaled.columns.get_loc(target_column)\n",
        "\n",
        "X, y = [], []\n",
        "\n",
        "for i in range(len(values) - sequence_length):\n",
        "    X.append(values[i:i+sequence_length])                  # all features for seq_len\n",
        "    y.append(values[i+sequence_length, target_index])      # target at t+1\n",
        "\n",
        "X = np.array(X)\n",
        "y = np.array(y)\n",
        "\n",
        "print(f\"X shape: {X.shape} — (samples, seq_len, num_features)\")\n",
        "print(f\"y shape: {y.shape} — (samples,)\")\n",
        "\n",
        "# Quick sanity check\n",
        "print(\"\\nExample input sequence shape:\", X[0].shape)\n",
        "print(\"Corresponding target value:\", y[0])\n"
      ],
      "metadata": {
        "colab": {
          "base_uri": "https://localhost:8080/"
        },
        "id": "wzowmoU_ooT-",
        "outputId": "d6a6d16f-9a01-4552-e8cf-94c39962c419"
      },
      "execution_count": null,
      "outputs": [
        {
          "output_type": "stream",
          "name": "stdout",
          "text": [
            "X shape: (415041, 12, 7) — (samples, seq_len, num_features)\n",
            "y shape: (415041,) — (samples,)\n",
            "\n",
            "Example input sequence shape: (12, 7)\n",
            "Corresponding target value: 0.3068596549435965\n"
          ]
        }
      ]
    },
    {
      "cell_type": "markdown",
      "source": [
        "# Splitting Time Series Data into Training and Test Sets\n",
        "\n",
        "### **Description:**\n",
        "\n",
        "- **Defines the split index:** Calculates the **80/20 split** index based on the length of the input sequences.\n",
        "- Splits the data:\n",
        " - `X_train` and `y_train`: Contain the first 80% of the sequences for training.\n",
        " - `X_test` and `y_test`: Contain the remaining 20% for testing.\n",
        "- **Displays the shapes:** Prints the dimensions of the training and test sets to confirm the split."
      ],
      "metadata": {
        "id": "YO-DYGbJXDjg"
      }
    },
    {
      "cell_type": "code",
      "source": [
        "# Define split index (80% train, 20% test)\n",
        "split_idx = int(len(X) * 0.8)\n",
        "\n",
        "X_train, X_test = X[:split_idx], X[split_idx:]\n",
        "y_train, y_test = y[:split_idx], y[split_idx:]\n",
        "\n",
        "print(f\"Train set: {X_train.shape}, {y_train.shape}\")\n",
        "print(f\"Test set: {X_test.shape}, {y_test.shape}\")\n"
      ],
      "metadata": {
        "colab": {
          "base_uri": "https://localhost:8080/"
        },
        "id": "14Z3PeTkortE",
        "outputId": "8127e754-418c-46d2-dff7-16c8013cabd3"
      },
      "execution_count": null,
      "outputs": [
        {
          "output_type": "stream",
          "name": "stdout",
          "text": [
            "Train set: (332032, 12, 7), (332032,)\n",
            "Test set: (83009, 12, 7), (83009,)\n"
          ]
        }
      ]
    },
    {
      "cell_type": "markdown",
      "source": [
        "## Revised Model - Improved LSTM Model with Xavier Initialization and Gradient Clipping\n",
        "\n",
        "### 🔥 **Hyperparameter Refinements:**\n",
        "\n",
        "The updated model incorporates **optimized hyperparameters** based on the first sweep insights:\n",
        "- **Dropout:** Increased to **0.3**, striking a balance between regularization and learning capacity, preventing both overfitting and underfitting.\n",
        "- **Batch Size**: Set to **64**, promoting **smoother gradient updates** and more stable training, improving accuracy.\n",
        "- **Hidden Size:** Fixed at **64**, providing sufficient capacity to capture temporal dependencies without overfitting.\n",
        "- **Learning Rate:** Adjusted to **0.005**, ensuring faster yet stable convergence without overshooting.\n",
        "- **LSTM Layers:** Increased to **2**, enhancing the model's ability to capture **hierarchical temporal dependencies** for better predictive performance.\n",
        "\n",
        "### ⚙️ **Improved Stability and Accuracy:**\n",
        "\n",
        "- The larger batch size and moderate dropout lead to **smoother convergence** and better generalization.\n",
        "- The **two LSTM layers** effectively capture both short- and long-term dependencies.\n",
        "- The updated model achieves **lower validation errors**, with improved **MSE** and **R² scores**, making it more reliable for forecasting."
      ],
      "metadata": {
        "id": "icdSytxg7Jco"
      }
    },
    {
      "cell_type": "code",
      "source": [
        "import torch\n",
        "import torch.nn as nn\n",
        "from sklearn.metrics import mean_squared_error, mean_absolute_error, r2_score\n",
        "import wandb\n",
        "import numpy as np\n",
        "\n",
        "device = torch.device(\"cuda\" if torch.cuda.is_available() else \"cpu\")\n",
        "\n",
        "# ✅ Improved LSTM Model with Xavier Initialization and Gradient Clipping\n",
        "class LSTMForecaster(nn.Module):\n",
        "    def __init__(self, input_size, hidden_size, num_layers, dropout):\n",
        "        super(LSTMForecaster, self).__init__()\n",
        "        self.lstm = nn.LSTM(input_size, hidden_size, num_layers, batch_first=True, dropout=dropout)\n",
        "        self.fc = nn.Linear(hidden_size, 1)\n",
        "\n",
        "        # ✅ Xavier initialization for better convergence\n",
        "        for name, param in self.lstm.named_parameters():\n",
        "            if 'weight' in name:\n",
        "                nn.init.xavier_normal_(param)\n",
        "            elif 'bias' in name:\n",
        "                nn.init.zeros_(param)\n",
        "\n",
        "        nn.init.xavier_normal_(self.fc.weight)\n",
        "        nn.init.zeros_(self.fc.bias)\n",
        "\n",
        "    def forward(self, x):\n",
        "        out, _ = self.lstm(x)\n",
        "        out = self.fc(out[:, -1])\n",
        "        return out.squeeze(1)\n",
        "\n",
        "# ✅ Training function with enhanced stability\n",
        "def train(config=None):\n",
        "    with wandb.init(config=config) as run:\n",
        "        config = run.config\n",
        "\n",
        "        # Dataset info logging\n",
        "        run.log({\n",
        "            \"dataset_name\": \"Household Electric Power Consumption (resampled 5-min)\",\n",
        "            \"sequence_length\": config.sequence_length,\n",
        "            \"features\": list(df_scaled.columns),\n",
        "            \"train_size\": X_train.shape[0],\n",
        "            \"test_size\": X_test.shape[0]\n",
        "        })\n",
        "\n",
        "        # Model\n",
        "        model = LSTMForecaster(\n",
        "            input_size=X_train.shape[2],\n",
        "            hidden_size=64,                  # ✅ Best performing hidden size\n",
        "            num_layers=2,                    # ✅ Two LSTM layers\n",
        "            dropout=0.5                      # ✅ Strong regularization\n",
        "        ).to(device)\n",
        "\n",
        "        wandb.watch(model)\n",
        "\n",
        "        # DataLoader\n",
        "        train_data = torch.utils.data.TensorDataset(\n",
        "            torch.tensor(X_train, dtype=torch.float32),\n",
        "            torch.tensor(y_train, dtype=torch.float32)\n",
        "        )\n",
        "        test_data = torch.utils.data.TensorDataset(\n",
        "            torch.tensor(X_test, dtype=torch.float32),\n",
        "            torch.tensor(y_test, dtype=torch.float32)\n",
        "        )\n",
        "\n",
        "        train_loader = torch.utils.data.DataLoader(train_data, batch_size=64, shuffle=False)  # ✅ Larger batch size\n",
        "        test_loader = torch.utils.data.DataLoader(test_data, batch_size=64, shuffle=False)\n",
        "\n",
        "        # ✅ Loss, Optimizer & Gradient Clipping\n",
        "        criterion = nn.MSELoss()\n",
        "        optimizer = torch.optim.Adam(model.parameters(), lr=0.005, weight_decay=1e-5)  # ✅ Stable learning rate\n",
        "\n",
        "        best_mse = float(\"inf\")\n",
        "\n",
        "        for epoch in range(15):  # ✅ Increased epochs for better convergence\n",
        "            model.train()\n",
        "            train_losses = []\n",
        "\n",
        "            for xb, yb in train_loader:\n",
        "                xb, yb = xb.to(device), yb.to(device)\n",
        "                optimizer.zero_grad()\n",
        "\n",
        "                y_pred = model(xb)\n",
        "                loss = criterion(y_pred, yb)\n",
        "                loss.backward()\n",
        "\n",
        "                # ✅ Gradient clipping to prevent exploding gradients\n",
        "                torch.nn.utils.clip_grad_norm_(model.parameters(), max_norm=1.0)\n",
        "\n",
        "                optimizer.step()\n",
        "                train_losses.append(loss.item())\n",
        "\n",
        "            # Evaluation\n",
        "            model.eval()\n",
        "            y_preds, y_trues = [], []\n",
        "            with torch.no_grad():\n",
        "                for xb, yb in test_loader:\n",
        "                    xb = xb.to(device)\n",
        "                    y_pred = model(xb).cpu().numpy()\n",
        "                    y_preds.extend(y_pred)\n",
        "                    y_trues.extend(yb.numpy())\n",
        "\n",
        "            mse = mean_squared_error(y_trues, y_preds)\n",
        "            mae = mean_absolute_error(y_trues, y_preds)\n",
        "            r2 = r2_score(y_trues, y_preds)\n",
        "\n",
        "            # Log per-epoch metrics\n",
        "            wandb.log({\n",
        "                \"epoch\": epoch + 1,\n",
        "                \"train_loss\": np.mean(train_losses),\n",
        "                \"val_mse\": mse,\n",
        "                \"val_mae\": mae,\n",
        "                \"val_r2\": r2\n",
        "            })\n",
        "\n",
        "            # Save best model based on MSE\n",
        "            if mse < best_mse:\n",
        "                best_mse = mse\n",
        "                torch.save(model.state_dict(), \"best_model.pt\")\n",
        "\n",
        "        # Final evaluation\n",
        "        final_mse = mean_squared_error(y_trues, y_preds)\n",
        "        final_mae = mean_absolute_error(y_trues, y_preds)\n",
        "        final_r2 = r2_score(y_trues, y_preds)\n",
        "\n",
        "        wandb.log({\n",
        "            \"final_mse\": final_mse,\n",
        "            \"final_mae\": final_mae,\n",
        "            \"final_r2\": final_r2\n",
        "        })\n",
        "\n",
        "        run.summary[\"best_val_mse\"] = best_mse\n",
        "        run.summary[\"final_val_mse\"] = final_mse\n",
        "        run.summary[\"final_val_mae\"] = final_mae\n",
        "        run.summary[\"final_val_r2\"] = final_r2\n",
        "\n",
        "        # Upload model artifact\n",
        "        artifact = wandb.Artifact(\"lstm_forecasting_model\", type=\"model\")\n",
        "        artifact.add_file(\"best_model.pt\")\n",
        "        run.log_artifact(artifact)\n"
      ],
      "metadata": {
        "id": "BDbYKAL07EZe"
      },
      "execution_count": null,
      "outputs": []
    },
    {
      "cell_type": "markdown",
      "source": [
        "# Sweeps"
      ],
      "metadata": {
        "id": "VCA7e_ukW0kO"
      }
    },
    {
      "cell_type": "code",
      "source": [
        "sweep_config = {\n",
        "    'method': 'bayes',  # You can switch to 'random' for faster results\n",
        "    'metric': {\n",
        "        'name': 'final_mse',   # ✅ This is what we now track and want to minimize\n",
        "        'goal': 'minimize'\n",
        "    },\n",
        "    'parameters': {\n",
        "        'learning_rate': {\n",
        "            'values': [0.001, 0.005, 0.01]\n",
        "        },\n",
        "        'hidden_size': {\n",
        "            'values': [32, 64, 128]\n",
        "        },\n",
        "        'dropout': {\n",
        "            'values': [0.1, 0.3, 0.5]\n",
        "        },\n",
        "        'batch_size': {\n",
        "            'values': [32, 64]\n",
        "        },\n",
        "        'num_layers': {\n",
        "            'values': [1, 2]\n",
        "        },\n",
        "        'epochs': {\n",
        "            'value': 10  # fixed across all runs\n",
        "        },\n",
        "        'sequence_length': {\n",
        "            'value': 12  # just for logging clarity\n",
        "        },\n",
        "        'features': {\n",
        "            'value': list(df_scaled.columns)  # static for logging\n",
        "        }\n",
        "    }\n",
        "}\n",
        "\n",
        "# Initialize sweep\n",
        "sweep_id = wandb.sweep(sweep_config, project=\"GoTG_Assignment06_RNN_Take2\", entity=\"usf-guardians\")\n",
        "print(\"Sweep initialized with ID:\", sweep_id)\n",
        "\n",
        "# Launch agent – this will run 10 sweep iterations using the `train()` function\n",
        "wandb.agent(sweep_id, function=train, count=10)"
      ],
      "metadata": {
        "colab": {
          "base_uri": "https://localhost:8080/",
          "height": 1000
        },
        "id": "-fR0fNco7hwb",
        "outputId": "360e4e1f-1d06-4d39-974a-54fd7578a384"
      },
      "execution_count": null,
      "outputs": [
        {
          "output_type": "stream",
          "name": "stderr",
          "text": [
            "\u001b[34m\u001b[1mwandb\u001b[0m: Using wandb-core as the SDK backend.  Please refer to https://wandb.me/wandb-core for more information.\n"
          ]
        },
        {
          "output_type": "display_data",
          "data": {
            "text/plain": [
              "<IPython.core.display.Javascript object>"
            ],
            "application/javascript": [
              "\n",
              "        window._wandbApiKey = new Promise((resolve, reject) => {\n",
              "            function loadScript(url) {\n",
              "            return new Promise(function(resolve, reject) {\n",
              "                let newScript = document.createElement(\"script\");\n",
              "                newScript.onerror = reject;\n",
              "                newScript.onload = resolve;\n",
              "                document.body.appendChild(newScript);\n",
              "                newScript.src = url;\n",
              "            });\n",
              "            }\n",
              "            loadScript(\"https://cdn.jsdelivr.net/npm/postmate/build/postmate.min.js\").then(() => {\n",
              "            const iframe = document.createElement('iframe')\n",
              "            iframe.style.cssText = \"width:0;height:0;border:none\"\n",
              "            document.body.appendChild(iframe)\n",
              "            const handshake = new Postmate({\n",
              "                container: iframe,\n",
              "                url: 'https://wandb.ai/authorize'\n",
              "            });\n",
              "            const timeout = setTimeout(() => reject(\"Couldn't auto authenticate\"), 5000)\n",
              "            handshake.then(function(child) {\n",
              "                child.on('authorize', data => {\n",
              "                    clearTimeout(timeout)\n",
              "                    resolve(data)\n",
              "                });\n",
              "            });\n",
              "            })\n",
              "        });\n",
              "    "
            ]
          },
          "metadata": {}
        },
        {
          "output_type": "stream",
          "name": "stderr",
          "text": [
            "\u001b[34m\u001b[1mwandb\u001b[0m: Logging into wandb.ai. (Learn how to deploy a W&B server locally: https://wandb.me/wandb-server)\n",
            "\u001b[34m\u001b[1mwandb\u001b[0m: You can find your API key in your browser here: https://wandb.ai/authorize\n",
            "wandb: Paste an API key from your profile and hit enter:"
          ]
        },
        {
          "name": "stdout",
          "output_type": "stream",
          "text": [
            " ··········\n"
          ]
        },
        {
          "output_type": "stream",
          "name": "stderr",
          "text": [
            "\u001b[34m\u001b[1mwandb\u001b[0m: \u001b[33mWARNING\u001b[0m If you're specifying your api key in code, ensure this code is not shared publicly.\n",
            "\u001b[34m\u001b[1mwandb\u001b[0m: \u001b[33mWARNING\u001b[0m Consider setting the WANDB_API_KEY environment variable, or running `wandb login` from the command line.\n",
            "\u001b[34m\u001b[1mwandb\u001b[0m: No netrc file found, creating one.\n",
            "\u001b[34m\u001b[1mwandb\u001b[0m: Appending key for api.wandb.ai to your netrc file: /root/.netrc\n"
          ]
        },
        {
          "output_type": "stream",
          "name": "stdout",
          "text": [
            "Create sweep with ID: oijlgw56\n",
            "Sweep URL: https://wandb.ai/usf-guardians/GoTG_Assignment06_RNN_Take2/sweeps/oijlgw56\n",
            "Sweep initialized with ID: oijlgw56\n"
          ]
        },
        {
          "output_type": "stream",
          "name": "stderr",
          "text": [
            "\u001b[34m\u001b[1mwandb\u001b[0m: Agent Starting Run: 8o6gddbk with config:\n",
            "\u001b[34m\u001b[1mwandb\u001b[0m: \tbatch_size: 64\n",
            "\u001b[34m\u001b[1mwandb\u001b[0m: \tdropout: 0.1\n",
            "\u001b[34m\u001b[1mwandb\u001b[0m: \tepochs: 10\n",
            "\u001b[34m\u001b[1mwandb\u001b[0m: \tfeatures: ['Global_active_power', 'Global_reactive_power', 'Voltage', 'Global_intensity', 'Sub_metering_1', 'Sub_metering_2', 'Sub_metering_3']\n",
            "\u001b[34m\u001b[1mwandb\u001b[0m: \thidden_size: 32\n",
            "\u001b[34m\u001b[1mwandb\u001b[0m: \tlearning_rate: 0.001\n",
            "\u001b[34m\u001b[1mwandb\u001b[0m: \tnum_layers: 1\n",
            "\u001b[34m\u001b[1mwandb\u001b[0m: \tsequence_length: 12\n",
            "\u001b[34m\u001b[1mwandb\u001b[0m: Currently logged in as: \u001b[33mburkhart14\u001b[0m (\u001b[33musf-guardians\u001b[0m) to \u001b[32mhttps://api.wandb.ai\u001b[0m. Use \u001b[1m`wandb login --relogin`\u001b[0m to force relogin\n"
          ]
        },
        {
          "output_type": "display_data",
          "data": {
            "text/plain": [
              "<IPython.core.display.HTML object>"
            ],
            "text/html": [
              "Tracking run with wandb version 0.19.8"
            ]
          },
          "metadata": {}
        },
        {
          "output_type": "display_data",
          "data": {
            "text/plain": [
              "<IPython.core.display.HTML object>"
            ],
            "text/html": [
              "Run data is saved locally in <code>/content/wandb/run-20250329_172447-8o6gddbk</code>"
            ]
          },
          "metadata": {}
        },
        {
          "output_type": "display_data",
          "data": {
            "text/plain": [
              "<IPython.core.display.HTML object>"
            ],
            "text/html": [
              "Syncing run <strong><a href='https://wandb.ai/usf-guardians/GoTG_Assignment06_RNN_Take2/runs/8o6gddbk' target=\"_blank\">mild-sweep-1</a></strong> to <a href='https://wandb.ai/usf-guardians/GoTG_Assignment06_RNN_Take2' target=\"_blank\">Weights & Biases</a> (<a href='https://wandb.me/developer-guide' target=\"_blank\">docs</a>)<br>Sweep page: <a href='https://wandb.ai/usf-guardians/GoTG_Assignment06_RNN_Take2/sweeps/oijlgw56' target=\"_blank\">https://wandb.ai/usf-guardians/GoTG_Assignment06_RNN_Take2/sweeps/oijlgw56</a>"
            ]
          },
          "metadata": {}
        },
        {
          "output_type": "display_data",
          "data": {
            "text/plain": [
              "<IPython.core.display.HTML object>"
            ],
            "text/html": [
              " View project at <a href='https://wandb.ai/usf-guardians/GoTG_Assignment06_RNN_Take2' target=\"_blank\">https://wandb.ai/usf-guardians/GoTG_Assignment06_RNN_Take2</a>"
            ]
          },
          "metadata": {}
        },
        {
          "output_type": "display_data",
          "data": {
            "text/plain": [
              "<IPython.core.display.HTML object>"
            ],
            "text/html": [
              " View sweep at <a href='https://wandb.ai/usf-guardians/GoTG_Assignment06_RNN_Take2/sweeps/oijlgw56' target=\"_blank\">https://wandb.ai/usf-guardians/GoTG_Assignment06_RNN_Take2/sweeps/oijlgw56</a>"
            ]
          },
          "metadata": {}
        },
        {
          "output_type": "display_data",
          "data": {
            "text/plain": [
              "<IPython.core.display.HTML object>"
            ],
            "text/html": [
              " View run at <a href='https://wandb.ai/usf-guardians/GoTG_Assignment06_RNN_Take2/runs/8o6gddbk' target=\"_blank\">https://wandb.ai/usf-guardians/GoTG_Assignment06_RNN_Take2/runs/8o6gddbk</a>"
            ]
          },
          "metadata": {}
        },
        {
          "output_type": "display_data",
          "data": {
            "text/plain": [
              "<IPython.core.display.HTML object>"
            ],
            "text/html": []
          },
          "metadata": {}
        },
        {
          "output_type": "display_data",
          "data": {
            "text/plain": [
              "<IPython.core.display.HTML object>"
            ],
            "text/html": [
              "<br>    <style><br>        .wandb-row {<br>            display: flex;<br>            flex-direction: row;<br>            flex-wrap: wrap;<br>            justify-content: flex-start;<br>            width: 100%;<br>        }<br>        .wandb-col {<br>            display: flex;<br>            flex-direction: column;<br>            flex-basis: 100%;<br>            flex: 1;<br>            padding: 10px;<br>        }<br>    </style><br><div class=\"wandb-row\"><div class=\"wandb-col\"><h3>Run history:</h3><br/><table class=\"wandb\"><tr><td>epoch</td><td>▁▁▂▃▃▃▄▅▅▅▆▇▇▇█</td></tr><tr><td>final_mae</td><td>▁</td></tr><tr><td>final_mse</td><td>▁</td></tr><tr><td>final_r2</td><td>▁</td></tr><tr><td>sequence_length</td><td>▁</td></tr><tr><td>test_size</td><td>▁</td></tr><tr><td>train_loss</td><td>█▂▂▂▁▁▁▁▁▁▁▁▁▁▁</td></tr><tr><td>train_size</td><td>▁</td></tr><tr><td>val_mae</td><td>▂▅█▆▆▃▃▃▁▂▁▆▅▂▃</td></tr><tr><td>val_mse</td><td>▆▆▇▅▃▅▂█▃▁▁▃▁▂▄</td></tr><tr><td>val_r2</td><td>▃▃▂▄▆▄▇▁▆██▆█▇▅</td></tr></table><br/></div><div class=\"wandb-col\"><h3>Run summary:</h3><br/><table class=\"wandb\"><tr><td>best_val_mse</td><td>0.00138</td></tr><tr><td>dataset_name</td><td>Household Electric P...</td></tr><tr><td>epoch</td><td>15</td></tr><tr><td>final_mae</td><td>0.02047</td></tr><tr><td>final_mse</td><td>0.0014</td></tr><tr><td>final_r2</td><td>0.82245</td></tr><tr><td>final_val_mae</td><td>0.02047</td></tr><tr><td>final_val_mse</td><td>0.0014</td></tr><tr><td>final_val_r2</td><td>0.82245</td></tr><tr><td>sequence_length</td><td>12</td></tr><tr><td>test_size</td><td>83009</td></tr><tr><td>train_loss</td><td>0.00201</td></tr><tr><td>train_size</td><td>332032</td></tr><tr><td>val_mae</td><td>0.02047</td></tr><tr><td>val_mse</td><td>0.0014</td></tr><tr><td>val_r2</td><td>0.82245</td></tr></table><br/></div></div>"
            ]
          },
          "metadata": {}
        },
        {
          "output_type": "display_data",
          "data": {
            "text/plain": [
              "<IPython.core.display.HTML object>"
            ],
            "text/html": [
              " View run <strong style=\"color:#cdcd00\">mild-sweep-1</strong> at: <a href='https://wandb.ai/usf-guardians/GoTG_Assignment06_RNN_Take2/runs/8o6gddbk' target=\"_blank\">https://wandb.ai/usf-guardians/GoTG_Assignment06_RNN_Take2/runs/8o6gddbk</a><br> View project at: <a href='https://wandb.ai/usf-guardians/GoTG_Assignment06_RNN_Take2' target=\"_blank\">https://wandb.ai/usf-guardians/GoTG_Assignment06_RNN_Take2</a><br>Synced 5 W&B file(s), 0 media file(s), 2 artifact file(s) and 0 other file(s)"
            ]
          },
          "metadata": {}
        },
        {
          "output_type": "display_data",
          "data": {
            "text/plain": [
              "<IPython.core.display.HTML object>"
            ],
            "text/html": [
              "Find logs at: <code>./wandb/run-20250329_172447-8o6gddbk/logs</code>"
            ]
          },
          "metadata": {}
        },
        {
          "output_type": "stream",
          "name": "stderr",
          "text": [
            "\u001b[34m\u001b[1mwandb\u001b[0m: Agent Starting Run: rc3f5g1h with config:\n",
            "\u001b[34m\u001b[1mwandb\u001b[0m: \tbatch_size: 32\n",
            "\u001b[34m\u001b[1mwandb\u001b[0m: \tdropout: 0.3\n",
            "\u001b[34m\u001b[1mwandb\u001b[0m: \tepochs: 10\n",
            "\u001b[34m\u001b[1mwandb\u001b[0m: \tfeatures: ['Global_active_power', 'Global_reactive_power', 'Voltage', 'Global_intensity', 'Sub_metering_1', 'Sub_metering_2', 'Sub_metering_3']\n",
            "\u001b[34m\u001b[1mwandb\u001b[0m: \thidden_size: 32\n",
            "\u001b[34m\u001b[1mwandb\u001b[0m: \tlearning_rate: 0.01\n",
            "\u001b[34m\u001b[1mwandb\u001b[0m: \tnum_layers: 1\n",
            "\u001b[34m\u001b[1mwandb\u001b[0m: \tsequence_length: 12\n"
          ]
        },
        {
          "output_type": "display_data",
          "data": {
            "text/plain": [
              "<IPython.core.display.HTML object>"
            ],
            "text/html": [
              "Tracking run with wandb version 0.19.8"
            ]
          },
          "metadata": {}
        },
        {
          "output_type": "display_data",
          "data": {
            "text/plain": [
              "<IPython.core.display.HTML object>"
            ],
            "text/html": [
              "Run data is saved locally in <code>/content/wandb/run-20250329_173011-rc3f5g1h</code>"
            ]
          },
          "metadata": {}
        },
        {
          "output_type": "display_data",
          "data": {
            "text/plain": [
              "<IPython.core.display.HTML object>"
            ],
            "text/html": [
              "Syncing run <strong><a href='https://wandb.ai/usf-guardians/GoTG_Assignment06_RNN_Take2/runs/rc3f5g1h' target=\"_blank\">summer-sweep-2</a></strong> to <a href='https://wandb.ai/usf-guardians/GoTG_Assignment06_RNN_Take2' target=\"_blank\">Weights & Biases</a> (<a href='https://wandb.me/developer-guide' target=\"_blank\">docs</a>)<br>Sweep page: <a href='https://wandb.ai/usf-guardians/GoTG_Assignment06_RNN_Take2/sweeps/oijlgw56' target=\"_blank\">https://wandb.ai/usf-guardians/GoTG_Assignment06_RNN_Take2/sweeps/oijlgw56</a>"
            ]
          },
          "metadata": {}
        },
        {
          "output_type": "display_data",
          "data": {
            "text/plain": [
              "<IPython.core.display.HTML object>"
            ],
            "text/html": [
              " View project at <a href='https://wandb.ai/usf-guardians/GoTG_Assignment06_RNN_Take2' target=\"_blank\">https://wandb.ai/usf-guardians/GoTG_Assignment06_RNN_Take2</a>"
            ]
          },
          "metadata": {}
        },
        {
          "output_type": "display_data",
          "data": {
            "text/plain": [
              "<IPython.core.display.HTML object>"
            ],
            "text/html": [
              " View sweep at <a href='https://wandb.ai/usf-guardians/GoTG_Assignment06_RNN_Take2/sweeps/oijlgw56' target=\"_blank\">https://wandb.ai/usf-guardians/GoTG_Assignment06_RNN_Take2/sweeps/oijlgw56</a>"
            ]
          },
          "metadata": {}
        },
        {
          "output_type": "display_data",
          "data": {
            "text/plain": [
              "<IPython.core.display.HTML object>"
            ],
            "text/html": [
              " View run at <a href='https://wandb.ai/usf-guardians/GoTG_Assignment06_RNN_Take2/runs/rc3f5g1h' target=\"_blank\">https://wandb.ai/usf-guardians/GoTG_Assignment06_RNN_Take2/runs/rc3f5g1h</a>"
            ]
          },
          "metadata": {}
        },
        {
          "output_type": "display_data",
          "data": {
            "text/plain": [
              "<IPython.core.display.HTML object>"
            ],
            "text/html": []
          },
          "metadata": {}
        },
        {
          "output_type": "display_data",
          "data": {
            "text/plain": [
              "<IPython.core.display.HTML object>"
            ],
            "text/html": [
              "<br>    <style><br>        .wandb-row {<br>            display: flex;<br>            flex-direction: row;<br>            flex-wrap: wrap;<br>            justify-content: flex-start;<br>            width: 100%;<br>        }<br>        .wandb-col {<br>            display: flex;<br>            flex-direction: column;<br>            flex-basis: 100%;<br>            flex: 1;<br>            padding: 10px;<br>        }<br>    </style><br><div class=\"wandb-row\"><div class=\"wandb-col\"><h3>Run history:</h3><br/><table class=\"wandb\"><tr><td>epoch</td><td>▁▁▂▃▃▃▄▅▅▅▆▇▇▇█</td></tr><tr><td>final_mae</td><td>▁</td></tr><tr><td>final_mse</td><td>▁</td></tr><tr><td>final_r2</td><td>▁</td></tr><tr><td>sequence_length</td><td>▁</td></tr><tr><td>test_size</td><td>▁</td></tr><tr><td>train_loss</td><td>█▂▂▁▁▂▁▁▂▁▁▁▁▁▁</td></tr><tr><td>train_size</td><td>▁</td></tr><tr><td>val_mae</td><td>▅▇▃▃▆▄▇█▃▃▆▂▃▁▆</td></tr><tr><td>val_mse</td><td>▅█▄▃▃▂▄▂▃▁▅▂▄▁▂</td></tr><tr><td>val_r2</td><td>▄▁▅▆▆▇▅▇▆█▄▇▅█▇</td></tr></table><br/></div><div class=\"wandb-col\"><h3>Run summary:</h3><br/><table class=\"wandb\"><tr><td>best_val_mse</td><td>0.00138</td></tr><tr><td>dataset_name</td><td>Household Electric P...</td></tr><tr><td>epoch</td><td>15</td></tr><tr><td>final_mae</td><td>0.02127</td></tr><tr><td>final_mse</td><td>0.00139</td></tr><tr><td>final_r2</td><td>0.82353</td></tr><tr><td>final_val_mae</td><td>0.02127</td></tr><tr><td>final_val_mse</td><td>0.00139</td></tr><tr><td>final_val_r2</td><td>0.82353</td></tr><tr><td>sequence_length</td><td>12</td></tr><tr><td>test_size</td><td>83009</td></tr><tr><td>train_loss</td><td>0.00201</td></tr><tr><td>train_size</td><td>332032</td></tr><tr><td>val_mae</td><td>0.02127</td></tr><tr><td>val_mse</td><td>0.00139</td></tr><tr><td>val_r2</td><td>0.82353</td></tr></table><br/></div></div>"
            ]
          },
          "metadata": {}
        },
        {
          "output_type": "display_data",
          "data": {
            "text/plain": [
              "<IPython.core.display.HTML object>"
            ],
            "text/html": [
              " View run <strong style=\"color:#cdcd00\">summer-sweep-2</strong> at: <a href='https://wandb.ai/usf-guardians/GoTG_Assignment06_RNN_Take2/runs/rc3f5g1h' target=\"_blank\">https://wandb.ai/usf-guardians/GoTG_Assignment06_RNN_Take2/runs/rc3f5g1h</a><br> View project at: <a href='https://wandb.ai/usf-guardians/GoTG_Assignment06_RNN_Take2' target=\"_blank\">https://wandb.ai/usf-guardians/GoTG_Assignment06_RNN_Take2</a><br>Synced 5 W&B file(s), 0 media file(s), 2 artifact file(s) and 0 other file(s)"
            ]
          },
          "metadata": {}
        },
        {
          "output_type": "display_data",
          "data": {
            "text/plain": [
              "<IPython.core.display.HTML object>"
            ],
            "text/html": [
              "Find logs at: <code>./wandb/run-20250329_173011-rc3f5g1h/logs</code>"
            ]
          },
          "metadata": {}
        },
        {
          "output_type": "stream",
          "name": "stderr",
          "text": [
            "\u001b[34m\u001b[1mwandb\u001b[0m: Sweep Agent: Waiting for job.\n",
            "\u001b[34m\u001b[1mwandb\u001b[0m: Job received.\n",
            "\u001b[34m\u001b[1mwandb\u001b[0m: Agent Starting Run: o7jbqyib with config:\n",
            "\u001b[34m\u001b[1mwandb\u001b[0m: \tbatch_size: 32\n",
            "\u001b[34m\u001b[1mwandb\u001b[0m: \tdropout: 0.3\n",
            "\u001b[34m\u001b[1mwandb\u001b[0m: \tepochs: 10\n",
            "\u001b[34m\u001b[1mwandb\u001b[0m: \tfeatures: ['Global_active_power', 'Global_reactive_power', 'Voltage', 'Global_intensity', 'Sub_metering_1', 'Sub_metering_2', 'Sub_metering_3']\n",
            "\u001b[34m\u001b[1mwandb\u001b[0m: \thidden_size: 128\n",
            "\u001b[34m\u001b[1mwandb\u001b[0m: \tlearning_rate: 0.005\n",
            "\u001b[34m\u001b[1mwandb\u001b[0m: \tnum_layers: 1\n",
            "\u001b[34m\u001b[1mwandb\u001b[0m: \tsequence_length: 12\n"
          ]
        },
        {
          "output_type": "display_data",
          "data": {
            "text/plain": [
              "<IPython.core.display.HTML object>"
            ],
            "text/html": [
              "Tracking run with wandb version 0.19.8"
            ]
          },
          "metadata": {}
        },
        {
          "output_type": "display_data",
          "data": {
            "text/plain": [
              "<IPython.core.display.HTML object>"
            ],
            "text/html": [
              "Run data is saved locally in <code>/content/wandb/run-20250329_173538-o7jbqyib</code>"
            ]
          },
          "metadata": {}
        },
        {
          "output_type": "display_data",
          "data": {
            "text/plain": [
              "<IPython.core.display.HTML object>"
            ],
            "text/html": [
              "Syncing run <strong><a href='https://wandb.ai/usf-guardians/GoTG_Assignment06_RNN_Take2/runs/o7jbqyib' target=\"_blank\">decent-sweep-3</a></strong> to <a href='https://wandb.ai/usf-guardians/GoTG_Assignment06_RNN_Take2' target=\"_blank\">Weights & Biases</a> (<a href='https://wandb.me/developer-guide' target=\"_blank\">docs</a>)<br>Sweep page: <a href='https://wandb.ai/usf-guardians/GoTG_Assignment06_RNN_Take2/sweeps/oijlgw56' target=\"_blank\">https://wandb.ai/usf-guardians/GoTG_Assignment06_RNN_Take2/sweeps/oijlgw56</a>"
            ]
          },
          "metadata": {}
        },
        {
          "output_type": "display_data",
          "data": {
            "text/plain": [
              "<IPython.core.display.HTML object>"
            ],
            "text/html": [
              " View project at <a href='https://wandb.ai/usf-guardians/GoTG_Assignment06_RNN_Take2' target=\"_blank\">https://wandb.ai/usf-guardians/GoTG_Assignment06_RNN_Take2</a>"
            ]
          },
          "metadata": {}
        },
        {
          "output_type": "display_data",
          "data": {
            "text/plain": [
              "<IPython.core.display.HTML object>"
            ],
            "text/html": [
              " View sweep at <a href='https://wandb.ai/usf-guardians/GoTG_Assignment06_RNN_Take2/sweeps/oijlgw56' target=\"_blank\">https://wandb.ai/usf-guardians/GoTG_Assignment06_RNN_Take2/sweeps/oijlgw56</a>"
            ]
          },
          "metadata": {}
        },
        {
          "output_type": "display_data",
          "data": {
            "text/plain": [
              "<IPython.core.display.HTML object>"
            ],
            "text/html": [
              " View run at <a href='https://wandb.ai/usf-guardians/GoTG_Assignment06_RNN_Take2/runs/o7jbqyib' target=\"_blank\">https://wandb.ai/usf-guardians/GoTG_Assignment06_RNN_Take2/runs/o7jbqyib</a>"
            ]
          },
          "metadata": {}
        },
        {
          "output_type": "display_data",
          "data": {
            "text/plain": [
              "<IPython.core.display.HTML object>"
            ],
            "text/html": []
          },
          "metadata": {}
        },
        {
          "output_type": "display_data",
          "data": {
            "text/plain": [
              "<IPython.core.display.HTML object>"
            ],
            "text/html": [
              "<br>    <style><br>        .wandb-row {<br>            display: flex;<br>            flex-direction: row;<br>            flex-wrap: wrap;<br>            justify-content: flex-start;<br>            width: 100%;<br>        }<br>        .wandb-col {<br>            display: flex;<br>            flex-direction: column;<br>            flex-basis: 100%;<br>            flex: 1;<br>            padding: 10px;<br>        }<br>    </style><br><div class=\"wandb-row\"><div class=\"wandb-col\"><h3>Run history:</h3><br/><table class=\"wandb\"><tr><td>epoch</td><td>▁▁▂▃▃▃▄▅▅▅▆▇▇▇█</td></tr><tr><td>final_mae</td><td>▁</td></tr><tr><td>final_mse</td><td>▁</td></tr><tr><td>final_r2</td><td>▁</td></tr><tr><td>sequence_length</td><td>▁</td></tr><tr><td>test_size</td><td>▁</td></tr><tr><td>train_loss</td><td>█▂▂▁▁▂▁▁▁▁▁▁▁▁▁</td></tr><tr><td>train_size</td><td>▁</td></tr><tr><td>val_mae</td><td>█▆▄▅▃▃▄▆▃▂▄▅▅▁▄</td></tr><tr><td>val_mse</td><td>█▆▆▆▄▅▄▄▅▅▄▄█▁▇</td></tr><tr><td>val_r2</td><td>▁▃▃▃▅▄▅▅▄▄▅▅▁█▂</td></tr></table><br/></div><div class=\"wandb-col\"><h3>Run summary:</h3><br/><table class=\"wandb\"><tr><td>best_val_mse</td><td>0.00135</td></tr><tr><td>dataset_name</td><td>Household Electric P...</td></tr><tr><td>epoch</td><td>15</td></tr><tr><td>final_mae</td><td>0.02033</td></tr><tr><td>final_mse</td><td>0.00143</td></tr><tr><td>final_r2</td><td>0.81854</td></tr><tr><td>final_val_mae</td><td>0.02033</td></tr><tr><td>final_val_mse</td><td>0.00143</td></tr><tr><td>final_val_r2</td><td>0.81854</td></tr><tr><td>sequence_length</td><td>12</td></tr><tr><td>test_size</td><td>83009</td></tr><tr><td>train_loss</td><td>0.00201</td></tr><tr><td>train_size</td><td>332032</td></tr><tr><td>val_mae</td><td>0.02033</td></tr><tr><td>val_mse</td><td>0.00143</td></tr><tr><td>val_r2</td><td>0.81854</td></tr></table><br/></div></div>"
            ]
          },
          "metadata": {}
        },
        {
          "output_type": "display_data",
          "data": {
            "text/plain": [
              "<IPython.core.display.HTML object>"
            ],
            "text/html": [
              " View run <strong style=\"color:#cdcd00\">decent-sweep-3</strong> at: <a href='https://wandb.ai/usf-guardians/GoTG_Assignment06_RNN_Take2/runs/o7jbqyib' target=\"_blank\">https://wandb.ai/usf-guardians/GoTG_Assignment06_RNN_Take2/runs/o7jbqyib</a><br> View project at: <a href='https://wandb.ai/usf-guardians/GoTG_Assignment06_RNN_Take2' target=\"_blank\">https://wandb.ai/usf-guardians/GoTG_Assignment06_RNN_Take2</a><br>Synced 5 W&B file(s), 0 media file(s), 2 artifact file(s) and 0 other file(s)"
            ]
          },
          "metadata": {}
        },
        {
          "output_type": "display_data",
          "data": {
            "text/plain": [
              "<IPython.core.display.HTML object>"
            ],
            "text/html": [
              "Find logs at: <code>./wandb/run-20250329_173538-o7jbqyib/logs</code>"
            ]
          },
          "metadata": {}
        },
        {
          "output_type": "stream",
          "name": "stderr",
          "text": [
            "\u001b[34m\u001b[1mwandb\u001b[0m: Agent Starting Run: ule4qatk with config:\n",
            "\u001b[34m\u001b[1mwandb\u001b[0m: \tbatch_size: 32\n",
            "\u001b[34m\u001b[1mwandb\u001b[0m: \tdropout: 0.1\n",
            "\u001b[34m\u001b[1mwandb\u001b[0m: \tepochs: 10\n",
            "\u001b[34m\u001b[1mwandb\u001b[0m: \tfeatures: ['Global_active_power', 'Global_reactive_power', 'Voltage', 'Global_intensity', 'Sub_metering_1', 'Sub_metering_2', 'Sub_metering_3']\n",
            "\u001b[34m\u001b[1mwandb\u001b[0m: \thidden_size: 32\n",
            "\u001b[34m\u001b[1mwandb\u001b[0m: \tlearning_rate: 0.005\n",
            "\u001b[34m\u001b[1mwandb\u001b[0m: \tnum_layers: 2\n",
            "\u001b[34m\u001b[1mwandb\u001b[0m: \tsequence_length: 12\n"
          ]
        },
        {
          "output_type": "display_data",
          "data": {
            "text/plain": [
              "<IPython.core.display.HTML object>"
            ],
            "text/html": [
              "Tracking run with wandb version 0.19.8"
            ]
          },
          "metadata": {}
        },
        {
          "output_type": "display_data",
          "data": {
            "text/plain": [
              "<IPython.core.display.HTML object>"
            ],
            "text/html": [
              "Run data is saved locally in <code>/content/wandb/run-20250329_174052-ule4qatk</code>"
            ]
          },
          "metadata": {}
        },
        {
          "output_type": "display_data",
          "data": {
            "text/plain": [
              "<IPython.core.display.HTML object>"
            ],
            "text/html": [
              "Syncing run <strong><a href='https://wandb.ai/usf-guardians/GoTG_Assignment06_RNN_Take2/runs/ule4qatk' target=\"_blank\">sparkling-sweep-4</a></strong> to <a href='https://wandb.ai/usf-guardians/GoTG_Assignment06_RNN_Take2' target=\"_blank\">Weights & Biases</a> (<a href='https://wandb.me/developer-guide' target=\"_blank\">docs</a>)<br>Sweep page: <a href='https://wandb.ai/usf-guardians/GoTG_Assignment06_RNN_Take2/sweeps/oijlgw56' target=\"_blank\">https://wandb.ai/usf-guardians/GoTG_Assignment06_RNN_Take2/sweeps/oijlgw56</a>"
            ]
          },
          "metadata": {}
        },
        {
          "output_type": "display_data",
          "data": {
            "text/plain": [
              "<IPython.core.display.HTML object>"
            ],
            "text/html": [
              " View project at <a href='https://wandb.ai/usf-guardians/GoTG_Assignment06_RNN_Take2' target=\"_blank\">https://wandb.ai/usf-guardians/GoTG_Assignment06_RNN_Take2</a>"
            ]
          },
          "metadata": {}
        },
        {
          "output_type": "display_data",
          "data": {
            "text/plain": [
              "<IPython.core.display.HTML object>"
            ],
            "text/html": [
              " View sweep at <a href='https://wandb.ai/usf-guardians/GoTG_Assignment06_RNN_Take2/sweeps/oijlgw56' target=\"_blank\">https://wandb.ai/usf-guardians/GoTG_Assignment06_RNN_Take2/sweeps/oijlgw56</a>"
            ]
          },
          "metadata": {}
        },
        {
          "output_type": "display_data",
          "data": {
            "text/plain": [
              "<IPython.core.display.HTML object>"
            ],
            "text/html": [
              " View run at <a href='https://wandb.ai/usf-guardians/GoTG_Assignment06_RNN_Take2/runs/ule4qatk' target=\"_blank\">https://wandb.ai/usf-guardians/GoTG_Assignment06_RNN_Take2/runs/ule4qatk</a>"
            ]
          },
          "metadata": {}
        },
        {
          "output_type": "display_data",
          "data": {
            "text/plain": [
              "<IPython.core.display.HTML object>"
            ],
            "text/html": []
          },
          "metadata": {}
        },
        {
          "output_type": "display_data",
          "data": {
            "text/plain": [
              "<IPython.core.display.HTML object>"
            ],
            "text/html": [
              "<br>    <style><br>        .wandb-row {<br>            display: flex;<br>            flex-direction: row;<br>            flex-wrap: wrap;<br>            justify-content: flex-start;<br>            width: 100%;<br>        }<br>        .wandb-col {<br>            display: flex;<br>            flex-direction: column;<br>            flex-basis: 100%;<br>            flex: 1;<br>            padding: 10px;<br>        }<br>    </style><br><div class=\"wandb-row\"><div class=\"wandb-col\"><h3>Run history:</h3><br/><table class=\"wandb\"><tr><td>epoch</td><td>▁▁▂▃▃▃▄▅▅▅▆▇▇▇█</td></tr><tr><td>final_mae</td><td>▁</td></tr><tr><td>final_mse</td><td>▁</td></tr><tr><td>final_r2</td><td>▁</td></tr><tr><td>sequence_length</td><td>▁</td></tr><tr><td>test_size</td><td>▁</td></tr><tr><td>train_loss</td><td>█▁▂▁▁▁▁▁▁▁▁▁▁▁▁</td></tr><tr><td>train_size</td><td>▁</td></tr><tr><td>val_mae</td><td>█▂▁▁▅▆▃▄▄▂▁▃▃▂▁</td></tr><tr><td>val_mse</td><td>█▄▂▄▂▅▃▃▃▂▁▃▂▂▃</td></tr><tr><td>val_r2</td><td>▁▅▇▅▇▄▆▆▆▇█▆▇▇▆</td></tr></table><br/></div><div class=\"wandb-col\"><h3>Run summary:</h3><br/><table class=\"wandb\"><tr><td>best_val_mse</td><td>0.00138</td></tr><tr><td>dataset_name</td><td>Household Electric P...</td></tr><tr><td>epoch</td><td>15</td></tr><tr><td>final_mae</td><td>0.02035</td></tr><tr><td>final_mse</td><td>0.00141</td></tr><tr><td>final_r2</td><td>0.82143</td></tr><tr><td>final_val_mae</td><td>0.02035</td></tr><tr><td>final_val_mse</td><td>0.00141</td></tr><tr><td>final_val_r2</td><td>0.82143</td></tr><tr><td>sequence_length</td><td>12</td></tr><tr><td>test_size</td><td>83009</td></tr><tr><td>train_loss</td><td>0.00201</td></tr><tr><td>train_size</td><td>332032</td></tr><tr><td>val_mae</td><td>0.02035</td></tr><tr><td>val_mse</td><td>0.00141</td></tr><tr><td>val_r2</td><td>0.82143</td></tr></table><br/></div></div>"
            ]
          },
          "metadata": {}
        },
        {
          "output_type": "display_data",
          "data": {
            "text/plain": [
              "<IPython.core.display.HTML object>"
            ],
            "text/html": [
              " View run <strong style=\"color:#cdcd00\">sparkling-sweep-4</strong> at: <a href='https://wandb.ai/usf-guardians/GoTG_Assignment06_RNN_Take2/runs/ule4qatk' target=\"_blank\">https://wandb.ai/usf-guardians/GoTG_Assignment06_RNN_Take2/runs/ule4qatk</a><br> View project at: <a href='https://wandb.ai/usf-guardians/GoTG_Assignment06_RNN_Take2' target=\"_blank\">https://wandb.ai/usf-guardians/GoTG_Assignment06_RNN_Take2</a><br>Synced 5 W&B file(s), 0 media file(s), 2 artifact file(s) and 0 other file(s)"
            ]
          },
          "metadata": {}
        },
        {
          "output_type": "display_data",
          "data": {
            "text/plain": [
              "<IPython.core.display.HTML object>"
            ],
            "text/html": [
              "Find logs at: <code>./wandb/run-20250329_174052-ule4qatk/logs</code>"
            ]
          },
          "metadata": {}
        },
        {
          "output_type": "stream",
          "name": "stderr",
          "text": [
            "\u001b[34m\u001b[1mwandb\u001b[0m: Agent Starting Run: 5ulrtfsi with config:\n",
            "\u001b[34m\u001b[1mwandb\u001b[0m: \tbatch_size: 32\n",
            "\u001b[34m\u001b[1mwandb\u001b[0m: \tdropout: 0.5\n",
            "\u001b[34m\u001b[1mwandb\u001b[0m: \tepochs: 10\n",
            "\u001b[34m\u001b[1mwandb\u001b[0m: \tfeatures: ['Global_active_power', 'Global_reactive_power', 'Voltage', 'Global_intensity', 'Sub_metering_1', 'Sub_metering_2', 'Sub_metering_3']\n",
            "\u001b[34m\u001b[1mwandb\u001b[0m: \thidden_size: 64\n",
            "\u001b[34m\u001b[1mwandb\u001b[0m: \tlearning_rate: 0.01\n",
            "\u001b[34m\u001b[1mwandb\u001b[0m: \tnum_layers: 1\n",
            "\u001b[34m\u001b[1mwandb\u001b[0m: \tsequence_length: 12\n"
          ]
        },
        {
          "output_type": "display_data",
          "data": {
            "text/plain": [
              "<IPython.core.display.HTML object>"
            ],
            "text/html": [
              "Tracking run with wandb version 0.19.8"
            ]
          },
          "metadata": {}
        },
        {
          "output_type": "display_data",
          "data": {
            "text/plain": [
              "<IPython.core.display.HTML object>"
            ],
            "text/html": [
              "Run data is saved locally in <code>/content/wandb/run-20250329_174606-5ulrtfsi</code>"
            ]
          },
          "metadata": {}
        },
        {
          "output_type": "display_data",
          "data": {
            "text/plain": [
              "<IPython.core.display.HTML object>"
            ],
            "text/html": [
              "Syncing run <strong><a href='https://wandb.ai/usf-guardians/GoTG_Assignment06_RNN_Take2/runs/5ulrtfsi' target=\"_blank\">fresh-sweep-5</a></strong> to <a href='https://wandb.ai/usf-guardians/GoTG_Assignment06_RNN_Take2' target=\"_blank\">Weights & Biases</a> (<a href='https://wandb.me/developer-guide' target=\"_blank\">docs</a>)<br>Sweep page: <a href='https://wandb.ai/usf-guardians/GoTG_Assignment06_RNN_Take2/sweeps/oijlgw56' target=\"_blank\">https://wandb.ai/usf-guardians/GoTG_Assignment06_RNN_Take2/sweeps/oijlgw56</a>"
            ]
          },
          "metadata": {}
        },
        {
          "output_type": "display_data",
          "data": {
            "text/plain": [
              "<IPython.core.display.HTML object>"
            ],
            "text/html": [
              " View project at <a href='https://wandb.ai/usf-guardians/GoTG_Assignment06_RNN_Take2' target=\"_blank\">https://wandb.ai/usf-guardians/GoTG_Assignment06_RNN_Take2</a>"
            ]
          },
          "metadata": {}
        },
        {
          "output_type": "display_data",
          "data": {
            "text/plain": [
              "<IPython.core.display.HTML object>"
            ],
            "text/html": [
              " View sweep at <a href='https://wandb.ai/usf-guardians/GoTG_Assignment06_RNN_Take2/sweeps/oijlgw56' target=\"_blank\">https://wandb.ai/usf-guardians/GoTG_Assignment06_RNN_Take2/sweeps/oijlgw56</a>"
            ]
          },
          "metadata": {}
        },
        {
          "output_type": "display_data",
          "data": {
            "text/plain": [
              "<IPython.core.display.HTML object>"
            ],
            "text/html": [
              " View run at <a href='https://wandb.ai/usf-guardians/GoTG_Assignment06_RNN_Take2/runs/5ulrtfsi' target=\"_blank\">https://wandb.ai/usf-guardians/GoTG_Assignment06_RNN_Take2/runs/5ulrtfsi</a>"
            ]
          },
          "metadata": {}
        },
        {
          "output_type": "display_data",
          "data": {
            "text/plain": [
              "<IPython.core.display.HTML object>"
            ],
            "text/html": []
          },
          "metadata": {}
        },
        {
          "output_type": "display_data",
          "data": {
            "text/plain": [
              "<IPython.core.display.HTML object>"
            ],
            "text/html": [
              "<br>    <style><br>        .wandb-row {<br>            display: flex;<br>            flex-direction: row;<br>            flex-wrap: wrap;<br>            justify-content: flex-start;<br>            width: 100%;<br>        }<br>        .wandb-col {<br>            display: flex;<br>            flex-direction: column;<br>            flex-basis: 100%;<br>            flex: 1;<br>            padding: 10px;<br>        }<br>    </style><br><div class=\"wandb-row\"><div class=\"wandb-col\"><h3>Run history:</h3><br/><table class=\"wandb\"><tr><td>epoch</td><td>▁▁▂▃▃▃▄▅▅▅▆▇▇▇█</td></tr><tr><td>final_mae</td><td>▁</td></tr><tr><td>final_mse</td><td>▁</td></tr><tr><td>final_r2</td><td>▁</td></tr><tr><td>sequence_length</td><td>▁</td></tr><tr><td>test_size</td><td>▁</td></tr><tr><td>train_loss</td><td>█▂▁▁▁▁▁▁▁▁▁▁▁▁▁</td></tr><tr><td>train_size</td><td>▁</td></tr><tr><td>val_mae</td><td>█▆▄▃▅▃▄▁▄▇▅▆▆▆▃</td></tr><tr><td>val_mse</td><td>▆▅▇▆█▅▄▁▄▃▃▇▄▇▄</td></tr><tr><td>val_r2</td><td>▃▄▂▃▁▄▅█▅▆▆▂▅▂▅</td></tr></table><br/></div><div class=\"wandb-col\"><h3>Run summary:</h3><br/><table class=\"wandb\"><tr><td>best_val_mse</td><td>0.00138</td></tr><tr><td>dataset_name</td><td>Household Electric P...</td></tr><tr><td>epoch</td><td>15</td></tr><tr><td>final_mae</td><td>0.02011</td></tr><tr><td>final_mse</td><td>0.00141</td></tr><tr><td>final_r2</td><td>0.8221</td></tr><tr><td>final_val_mae</td><td>0.02011</td></tr><tr><td>final_val_mse</td><td>0.00141</td></tr><tr><td>final_val_r2</td><td>0.8221</td></tr><tr><td>sequence_length</td><td>12</td></tr><tr><td>test_size</td><td>83009</td></tr><tr><td>train_loss</td><td>0.00201</td></tr><tr><td>train_size</td><td>332032</td></tr><tr><td>val_mae</td><td>0.02011</td></tr><tr><td>val_mse</td><td>0.00141</td></tr><tr><td>val_r2</td><td>0.8221</td></tr></table><br/></div></div>"
            ]
          },
          "metadata": {}
        },
        {
          "output_type": "display_data",
          "data": {
            "text/plain": [
              "<IPython.core.display.HTML object>"
            ],
            "text/html": [
              " View run <strong style=\"color:#cdcd00\">fresh-sweep-5</strong> at: <a href='https://wandb.ai/usf-guardians/GoTG_Assignment06_RNN_Take2/runs/5ulrtfsi' target=\"_blank\">https://wandb.ai/usf-guardians/GoTG_Assignment06_RNN_Take2/runs/5ulrtfsi</a><br> View project at: <a href='https://wandb.ai/usf-guardians/GoTG_Assignment06_RNN_Take2' target=\"_blank\">https://wandb.ai/usf-guardians/GoTG_Assignment06_RNN_Take2</a><br>Synced 5 W&B file(s), 0 media file(s), 2 artifact file(s) and 0 other file(s)"
            ]
          },
          "metadata": {}
        },
        {
          "output_type": "display_data",
          "data": {
            "text/plain": [
              "<IPython.core.display.HTML object>"
            ],
            "text/html": [
              "Find logs at: <code>./wandb/run-20250329_174606-5ulrtfsi/logs</code>"
            ]
          },
          "metadata": {}
        },
        {
          "output_type": "stream",
          "name": "stderr",
          "text": [
            "\u001b[34m\u001b[1mwandb\u001b[0m: Agent Starting Run: 76fcrst7 with config:\n",
            "\u001b[34m\u001b[1mwandb\u001b[0m: \tbatch_size: 64\n",
            "\u001b[34m\u001b[1mwandb\u001b[0m: \tdropout: 0.5\n",
            "\u001b[34m\u001b[1mwandb\u001b[0m: \tepochs: 10\n",
            "\u001b[34m\u001b[1mwandb\u001b[0m: \tfeatures: ['Global_active_power', 'Global_reactive_power', 'Voltage', 'Global_intensity', 'Sub_metering_1', 'Sub_metering_2', 'Sub_metering_3']\n",
            "\u001b[34m\u001b[1mwandb\u001b[0m: \thidden_size: 32\n",
            "\u001b[34m\u001b[1mwandb\u001b[0m: \tlearning_rate: 0.01\n",
            "\u001b[34m\u001b[1mwandb\u001b[0m: \tnum_layers: 2\n",
            "\u001b[34m\u001b[1mwandb\u001b[0m: \tsequence_length: 12\n"
          ]
        },
        {
          "output_type": "display_data",
          "data": {
            "text/plain": [
              "<IPython.core.display.HTML object>"
            ],
            "text/html": [
              "Tracking run with wandb version 0.19.8"
            ]
          },
          "metadata": {}
        },
        {
          "output_type": "display_data",
          "data": {
            "text/plain": [
              "<IPython.core.display.HTML object>"
            ],
            "text/html": [
              "Run data is saved locally in <code>/content/wandb/run-20250329_175119-76fcrst7</code>"
            ]
          },
          "metadata": {}
        },
        {
          "output_type": "display_data",
          "data": {
            "text/plain": [
              "<IPython.core.display.HTML object>"
            ],
            "text/html": [
              "Syncing run <strong><a href='https://wandb.ai/usf-guardians/GoTG_Assignment06_RNN_Take2/runs/76fcrst7' target=\"_blank\">summer-sweep-6</a></strong> to <a href='https://wandb.ai/usf-guardians/GoTG_Assignment06_RNN_Take2' target=\"_blank\">Weights & Biases</a> (<a href='https://wandb.me/developer-guide' target=\"_blank\">docs</a>)<br>Sweep page: <a href='https://wandb.ai/usf-guardians/GoTG_Assignment06_RNN_Take2/sweeps/oijlgw56' target=\"_blank\">https://wandb.ai/usf-guardians/GoTG_Assignment06_RNN_Take2/sweeps/oijlgw56</a>"
            ]
          },
          "metadata": {}
        },
        {
          "output_type": "display_data",
          "data": {
            "text/plain": [
              "<IPython.core.display.HTML object>"
            ],
            "text/html": [
              " View project at <a href='https://wandb.ai/usf-guardians/GoTG_Assignment06_RNN_Take2' target=\"_blank\">https://wandb.ai/usf-guardians/GoTG_Assignment06_RNN_Take2</a>"
            ]
          },
          "metadata": {}
        },
        {
          "output_type": "display_data",
          "data": {
            "text/plain": [
              "<IPython.core.display.HTML object>"
            ],
            "text/html": [
              " View sweep at <a href='https://wandb.ai/usf-guardians/GoTG_Assignment06_RNN_Take2/sweeps/oijlgw56' target=\"_blank\">https://wandb.ai/usf-guardians/GoTG_Assignment06_RNN_Take2/sweeps/oijlgw56</a>"
            ]
          },
          "metadata": {}
        },
        {
          "output_type": "display_data",
          "data": {
            "text/plain": [
              "<IPython.core.display.HTML object>"
            ],
            "text/html": [
              " View run at <a href='https://wandb.ai/usf-guardians/GoTG_Assignment06_RNN_Take2/runs/76fcrst7' target=\"_blank\">https://wandb.ai/usf-guardians/GoTG_Assignment06_RNN_Take2/runs/76fcrst7</a>"
            ]
          },
          "metadata": {}
        },
        {
          "output_type": "display_data",
          "data": {
            "text/plain": [
              "<IPython.core.display.HTML object>"
            ],
            "text/html": []
          },
          "metadata": {}
        },
        {
          "output_type": "display_data",
          "data": {
            "text/plain": [
              "<IPython.core.display.HTML object>"
            ],
            "text/html": [
              "<br>    <style><br>        .wandb-row {<br>            display: flex;<br>            flex-direction: row;<br>            flex-wrap: wrap;<br>            justify-content: flex-start;<br>            width: 100%;<br>        }<br>        .wandb-col {<br>            display: flex;<br>            flex-direction: column;<br>            flex-basis: 100%;<br>            flex: 1;<br>            padding: 10px;<br>        }<br>    </style><br><div class=\"wandb-row\"><div class=\"wandb-col\"><h3>Run history:</h3><br/><table class=\"wandb\"><tr><td>epoch</td><td>▁▁▂▃▃▃▄▅▅▅▆▇▇▇█</td></tr><tr><td>final_mae</td><td>▁</td></tr><tr><td>final_mse</td><td>▁</td></tr><tr><td>final_r2</td><td>▁</td></tr><tr><td>sequence_length</td><td>▁</td></tr><tr><td>test_size</td><td>▁</td></tr><tr><td>train_loss</td><td>█▂▁▂▁▁▁▁▁▁▁▁▁▁▁</td></tr><tr><td>train_size</td><td>▁</td></tr><tr><td>val_mae</td><td>▇▅▄▃▄▆█▃▆▃▃▃▆▁▄</td></tr><tr><td>val_mse</td><td>█▆▄▂▅▄▆▅▇▄▃▁▃▂▅</td></tr><tr><td>val_r2</td><td>▁▃▅▇▄▅▃▄▂▅▆█▆▇▄</td></tr></table><br/></div><div class=\"wandb-col\"><h3>Run summary:</h3><br/><table class=\"wandb\"><tr><td>best_val_mse</td><td>0.00137</td></tr><tr><td>dataset_name</td><td>Household Electric P...</td></tr><tr><td>epoch</td><td>15</td></tr><tr><td>final_mae</td><td>0.02081</td></tr><tr><td>final_mse</td><td>0.00144</td></tr><tr><td>final_r2</td><td>0.81822</td></tr><tr><td>final_val_mae</td><td>0.02081</td></tr><tr><td>final_val_mse</td><td>0.00144</td></tr><tr><td>final_val_r2</td><td>0.81822</td></tr><tr><td>sequence_length</td><td>12</td></tr><tr><td>test_size</td><td>83009</td></tr><tr><td>train_loss</td><td>0.00201</td></tr><tr><td>train_size</td><td>332032</td></tr><tr><td>val_mae</td><td>0.02081</td></tr><tr><td>val_mse</td><td>0.00144</td></tr><tr><td>val_r2</td><td>0.81822</td></tr></table><br/></div></div>"
            ]
          },
          "metadata": {}
        },
        {
          "output_type": "display_data",
          "data": {
            "text/plain": [
              "<IPython.core.display.HTML object>"
            ],
            "text/html": [
              " View run <strong style=\"color:#cdcd00\">summer-sweep-6</strong> at: <a href='https://wandb.ai/usf-guardians/GoTG_Assignment06_RNN_Take2/runs/76fcrst7' target=\"_blank\">https://wandb.ai/usf-guardians/GoTG_Assignment06_RNN_Take2/runs/76fcrst7</a><br> View project at: <a href='https://wandb.ai/usf-guardians/GoTG_Assignment06_RNN_Take2' target=\"_blank\">https://wandb.ai/usf-guardians/GoTG_Assignment06_RNN_Take2</a><br>Synced 5 W&B file(s), 0 media file(s), 2 artifact file(s) and 0 other file(s)"
            ]
          },
          "metadata": {}
        },
        {
          "output_type": "display_data",
          "data": {
            "text/plain": [
              "<IPython.core.display.HTML object>"
            ],
            "text/html": [
              "Find logs at: <code>./wandb/run-20250329_175119-76fcrst7/logs</code>"
            ]
          },
          "metadata": {}
        },
        {
          "output_type": "stream",
          "name": "stderr",
          "text": [
            "\u001b[34m\u001b[1mwandb\u001b[0m: Agent Starting Run: mho59vg8 with config:\n",
            "\u001b[34m\u001b[1mwandb\u001b[0m: \tbatch_size: 32\n",
            "\u001b[34m\u001b[1mwandb\u001b[0m: \tdropout: 0.3\n",
            "\u001b[34m\u001b[1mwandb\u001b[0m: \tepochs: 10\n",
            "\u001b[34m\u001b[1mwandb\u001b[0m: \tfeatures: ['Global_active_power', 'Global_reactive_power', 'Voltage', 'Global_intensity', 'Sub_metering_1', 'Sub_metering_2', 'Sub_metering_3']\n",
            "\u001b[34m\u001b[1mwandb\u001b[0m: \thidden_size: 64\n",
            "\u001b[34m\u001b[1mwandb\u001b[0m: \tlearning_rate: 0.01\n",
            "\u001b[34m\u001b[1mwandb\u001b[0m: \tnum_layers: 1\n",
            "\u001b[34m\u001b[1mwandb\u001b[0m: \tsequence_length: 12\n"
          ]
        },
        {
          "output_type": "display_data",
          "data": {
            "text/plain": [
              "<IPython.core.display.HTML object>"
            ],
            "text/html": [
              "Tracking run with wandb version 0.19.8"
            ]
          },
          "metadata": {}
        },
        {
          "output_type": "display_data",
          "data": {
            "text/plain": [
              "<IPython.core.display.HTML object>"
            ],
            "text/html": [
              "Run data is saved locally in <code>/content/wandb/run-20250329_175633-mho59vg8</code>"
            ]
          },
          "metadata": {}
        },
        {
          "output_type": "display_data",
          "data": {
            "text/plain": [
              "<IPython.core.display.HTML object>"
            ],
            "text/html": [
              "Syncing run <strong><a href='https://wandb.ai/usf-guardians/GoTG_Assignment06_RNN_Take2/runs/mho59vg8' target=\"_blank\">devoted-sweep-7</a></strong> to <a href='https://wandb.ai/usf-guardians/GoTG_Assignment06_RNN_Take2' target=\"_blank\">Weights & Biases</a> (<a href='https://wandb.me/developer-guide' target=\"_blank\">docs</a>)<br>Sweep page: <a href='https://wandb.ai/usf-guardians/GoTG_Assignment06_RNN_Take2/sweeps/oijlgw56' target=\"_blank\">https://wandb.ai/usf-guardians/GoTG_Assignment06_RNN_Take2/sweeps/oijlgw56</a>"
            ]
          },
          "metadata": {}
        },
        {
          "output_type": "display_data",
          "data": {
            "text/plain": [
              "<IPython.core.display.HTML object>"
            ],
            "text/html": [
              " View project at <a href='https://wandb.ai/usf-guardians/GoTG_Assignment06_RNN_Take2' target=\"_blank\">https://wandb.ai/usf-guardians/GoTG_Assignment06_RNN_Take2</a>"
            ]
          },
          "metadata": {}
        },
        {
          "output_type": "display_data",
          "data": {
            "text/plain": [
              "<IPython.core.display.HTML object>"
            ],
            "text/html": [
              " View sweep at <a href='https://wandb.ai/usf-guardians/GoTG_Assignment06_RNN_Take2/sweeps/oijlgw56' target=\"_blank\">https://wandb.ai/usf-guardians/GoTG_Assignment06_RNN_Take2/sweeps/oijlgw56</a>"
            ]
          },
          "metadata": {}
        },
        {
          "output_type": "display_data",
          "data": {
            "text/plain": [
              "<IPython.core.display.HTML object>"
            ],
            "text/html": [
              " View run at <a href='https://wandb.ai/usf-guardians/GoTG_Assignment06_RNN_Take2/runs/mho59vg8' target=\"_blank\">https://wandb.ai/usf-guardians/GoTG_Assignment06_RNN_Take2/runs/mho59vg8</a>"
            ]
          },
          "metadata": {}
        },
        {
          "output_type": "display_data",
          "data": {
            "text/plain": [
              "<IPython.core.display.HTML object>"
            ],
            "text/html": []
          },
          "metadata": {}
        },
        {
          "output_type": "display_data",
          "data": {
            "text/plain": [
              "<IPython.core.display.HTML object>"
            ],
            "text/html": [
              "<br>    <style><br>        .wandb-row {<br>            display: flex;<br>            flex-direction: row;<br>            flex-wrap: wrap;<br>            justify-content: flex-start;<br>            width: 100%;<br>        }<br>        .wandb-col {<br>            display: flex;<br>            flex-direction: column;<br>            flex-basis: 100%;<br>            flex: 1;<br>            padding: 10px;<br>        }<br>    </style><br><div class=\"wandb-row\"><div class=\"wandb-col\"><h3>Run history:</h3><br/><table class=\"wandb\"><tr><td>epoch</td><td>▁▁▂▃▃▃▄▅▅▅▆▇▇▇█</td></tr><tr><td>final_mae</td><td>▁</td></tr><tr><td>final_mse</td><td>▁</td></tr><tr><td>final_r2</td><td>▁</td></tr><tr><td>sequence_length</td><td>▁</td></tr><tr><td>test_size</td><td>▁</td></tr><tr><td>train_loss</td><td>█▂▂▂▂▂▁▂▁▁▁▁▁▁▁</td></tr><tr><td>train_size</td><td>▁</td></tr><tr><td>val_mae</td><td>▃▃▅▄▄▃▅▅▃▁▃▃▄▃█</td></tr><tr><td>val_mse</td><td>▄▃▁▁▃▆▂▄▄▁▃▅▆▂█</td></tr><tr><td>val_r2</td><td>▅▆██▆▃▇▅▅█▆▄▃▇▁</td></tr></table><br/></div><div class=\"wandb-col\"><h3>Run summary:</h3><br/><table class=\"wandb\"><tr><td>best_val_mse</td><td>0.0014</td></tr><tr><td>dataset_name</td><td>Household Electric P...</td></tr><tr><td>epoch</td><td>15</td></tr><tr><td>final_mae</td><td>0.02135</td></tr><tr><td>final_mse</td><td>0.00145</td></tr><tr><td>final_r2</td><td>0.81631</td></tr><tr><td>final_val_mae</td><td>0.02135</td></tr><tr><td>final_val_mse</td><td>0.00145</td></tr><tr><td>final_val_r2</td><td>0.81631</td></tr><tr><td>sequence_length</td><td>12</td></tr><tr><td>test_size</td><td>83009</td></tr><tr><td>train_loss</td><td>0.00201</td></tr><tr><td>train_size</td><td>332032</td></tr><tr><td>val_mae</td><td>0.02135</td></tr><tr><td>val_mse</td><td>0.00145</td></tr><tr><td>val_r2</td><td>0.81631</td></tr></table><br/></div></div>"
            ]
          },
          "metadata": {}
        },
        {
          "output_type": "display_data",
          "data": {
            "text/plain": [
              "<IPython.core.display.HTML object>"
            ],
            "text/html": [
              " View run <strong style=\"color:#cdcd00\">devoted-sweep-7</strong> at: <a href='https://wandb.ai/usf-guardians/GoTG_Assignment06_RNN_Take2/runs/mho59vg8' target=\"_blank\">https://wandb.ai/usf-guardians/GoTG_Assignment06_RNN_Take2/runs/mho59vg8</a><br> View project at: <a href='https://wandb.ai/usf-guardians/GoTG_Assignment06_RNN_Take2' target=\"_blank\">https://wandb.ai/usf-guardians/GoTG_Assignment06_RNN_Take2</a><br>Synced 5 W&B file(s), 0 media file(s), 2 artifact file(s) and 0 other file(s)"
            ]
          },
          "metadata": {}
        },
        {
          "output_type": "display_data",
          "data": {
            "text/plain": [
              "<IPython.core.display.HTML object>"
            ],
            "text/html": [
              "Find logs at: <code>./wandb/run-20250329_175633-mho59vg8/logs</code>"
            ]
          },
          "metadata": {}
        },
        {
          "output_type": "stream",
          "name": "stderr",
          "text": [
            "\u001b[34m\u001b[1mwandb\u001b[0m: Agent Starting Run: kd9rid3x with config:\n",
            "\u001b[34m\u001b[1mwandb\u001b[0m: \tbatch_size: 64\n",
            "\u001b[34m\u001b[1mwandb\u001b[0m: \tdropout: 0.3\n",
            "\u001b[34m\u001b[1mwandb\u001b[0m: \tepochs: 10\n",
            "\u001b[34m\u001b[1mwandb\u001b[0m: \tfeatures: ['Global_active_power', 'Global_reactive_power', 'Voltage', 'Global_intensity', 'Sub_metering_1', 'Sub_metering_2', 'Sub_metering_3']\n",
            "\u001b[34m\u001b[1mwandb\u001b[0m: \thidden_size: 64\n",
            "\u001b[34m\u001b[1mwandb\u001b[0m: \tlearning_rate: 0.01\n",
            "\u001b[34m\u001b[1mwandb\u001b[0m: \tnum_layers: 2\n",
            "\u001b[34m\u001b[1mwandb\u001b[0m: \tsequence_length: 12\n"
          ]
        },
        {
          "output_type": "display_data",
          "data": {
            "text/plain": [
              "<IPython.core.display.HTML object>"
            ],
            "text/html": [
              "Tracking run with wandb version 0.19.8"
            ]
          },
          "metadata": {}
        },
        {
          "output_type": "display_data",
          "data": {
            "text/plain": [
              "<IPython.core.display.HTML object>"
            ],
            "text/html": [
              "Run data is saved locally in <code>/content/wandb/run-20250329_180147-kd9rid3x</code>"
            ]
          },
          "metadata": {}
        },
        {
          "output_type": "display_data",
          "data": {
            "text/plain": [
              "<IPython.core.display.HTML object>"
            ],
            "text/html": [
              "Syncing run <strong><a href='https://wandb.ai/usf-guardians/GoTG_Assignment06_RNN_Take2/runs/kd9rid3x' target=\"_blank\">peach-sweep-8</a></strong> to <a href='https://wandb.ai/usf-guardians/GoTG_Assignment06_RNN_Take2' target=\"_blank\">Weights & Biases</a> (<a href='https://wandb.me/developer-guide' target=\"_blank\">docs</a>)<br>Sweep page: <a href='https://wandb.ai/usf-guardians/GoTG_Assignment06_RNN_Take2/sweeps/oijlgw56' target=\"_blank\">https://wandb.ai/usf-guardians/GoTG_Assignment06_RNN_Take2/sweeps/oijlgw56</a>"
            ]
          },
          "metadata": {}
        },
        {
          "output_type": "display_data",
          "data": {
            "text/plain": [
              "<IPython.core.display.HTML object>"
            ],
            "text/html": [
              " View project at <a href='https://wandb.ai/usf-guardians/GoTG_Assignment06_RNN_Take2' target=\"_blank\">https://wandb.ai/usf-guardians/GoTG_Assignment06_RNN_Take2</a>"
            ]
          },
          "metadata": {}
        },
        {
          "output_type": "display_data",
          "data": {
            "text/plain": [
              "<IPython.core.display.HTML object>"
            ],
            "text/html": [
              " View sweep at <a href='https://wandb.ai/usf-guardians/GoTG_Assignment06_RNN_Take2/sweeps/oijlgw56' target=\"_blank\">https://wandb.ai/usf-guardians/GoTG_Assignment06_RNN_Take2/sweeps/oijlgw56</a>"
            ]
          },
          "metadata": {}
        },
        {
          "output_type": "display_data",
          "data": {
            "text/plain": [
              "<IPython.core.display.HTML object>"
            ],
            "text/html": [
              " View run at <a href='https://wandb.ai/usf-guardians/GoTG_Assignment06_RNN_Take2/runs/kd9rid3x' target=\"_blank\">https://wandb.ai/usf-guardians/GoTG_Assignment06_RNN_Take2/runs/kd9rid3x</a>"
            ]
          },
          "metadata": {}
        },
        {
          "output_type": "display_data",
          "data": {
            "text/plain": [
              "<IPython.core.display.HTML object>"
            ],
            "text/html": []
          },
          "metadata": {}
        },
        {
          "output_type": "display_data",
          "data": {
            "text/plain": [
              "<IPython.core.display.HTML object>"
            ],
            "text/html": [
              "<br>    <style><br>        .wandb-row {<br>            display: flex;<br>            flex-direction: row;<br>            flex-wrap: wrap;<br>            justify-content: flex-start;<br>            width: 100%;<br>        }<br>        .wandb-col {<br>            display: flex;<br>            flex-direction: column;<br>            flex-basis: 100%;<br>            flex: 1;<br>            padding: 10px;<br>        }<br>    </style><br><div class=\"wandb-row\"><div class=\"wandb-col\"><h3>Run history:</h3><br/><table class=\"wandb\"><tr><td>epoch</td><td>▁▁▂▃▃▃▄▅▅▅▆▇▇▇█</td></tr><tr><td>final_mae</td><td>▁</td></tr><tr><td>final_mse</td><td>▁</td></tr><tr><td>final_r2</td><td>▁</td></tr><tr><td>sequence_length</td><td>▁</td></tr><tr><td>test_size</td><td>▁</td></tr><tr><td>train_loss</td><td>█▂▂▂▁▁▁▁▁▁▁▁▁▁▁</td></tr><tr><td>train_size</td><td>▁</td></tr><tr><td>val_mae</td><td>▃▅▆▇▅▁▂▄▄▄▄▅█▆▂</td></tr><tr><td>val_mse</td><td>▄▆▄▇▅▃▂▅▂▃▅▃▃█▁</td></tr><tr><td>val_r2</td><td>▅▃▅▂▄▆▇▄▇▆▄▆▆▁█</td></tr></table><br/></div><div class=\"wandb-col\"><h3>Run summary:</h3><br/><table class=\"wandb\"><tr><td>best_val_mse</td><td>0.00136</td></tr><tr><td>dataset_name</td><td>Household Electric P...</td></tr><tr><td>epoch</td><td>15</td></tr><tr><td>final_mae</td><td>0.02016</td></tr><tr><td>final_mse</td><td>0.00136</td></tr><tr><td>final_r2</td><td>0.8275</td></tr><tr><td>final_val_mae</td><td>0.02016</td></tr><tr><td>final_val_mse</td><td>0.00136</td></tr><tr><td>final_val_r2</td><td>0.8275</td></tr><tr><td>sequence_length</td><td>12</td></tr><tr><td>test_size</td><td>83009</td></tr><tr><td>train_loss</td><td>0.002</td></tr><tr><td>train_size</td><td>332032</td></tr><tr><td>val_mae</td><td>0.02016</td></tr><tr><td>val_mse</td><td>0.00136</td></tr><tr><td>val_r2</td><td>0.8275</td></tr></table><br/></div></div>"
            ]
          },
          "metadata": {}
        },
        {
          "output_type": "display_data",
          "data": {
            "text/plain": [
              "<IPython.core.display.HTML object>"
            ],
            "text/html": [
              " View run <strong style=\"color:#cdcd00\">peach-sweep-8</strong> at: <a href='https://wandb.ai/usf-guardians/GoTG_Assignment06_RNN_Take2/runs/kd9rid3x' target=\"_blank\">https://wandb.ai/usf-guardians/GoTG_Assignment06_RNN_Take2/runs/kd9rid3x</a><br> View project at: <a href='https://wandb.ai/usf-guardians/GoTG_Assignment06_RNN_Take2' target=\"_blank\">https://wandb.ai/usf-guardians/GoTG_Assignment06_RNN_Take2</a><br>Synced 5 W&B file(s), 0 media file(s), 2 artifact file(s) and 0 other file(s)"
            ]
          },
          "metadata": {}
        },
        {
          "output_type": "display_data",
          "data": {
            "text/plain": [
              "<IPython.core.display.HTML object>"
            ],
            "text/html": [
              "Find logs at: <code>./wandb/run-20250329_180147-kd9rid3x/logs</code>"
            ]
          },
          "metadata": {}
        },
        {
          "output_type": "stream",
          "name": "stderr",
          "text": [
            "\u001b[34m\u001b[1mwandb\u001b[0m: Sweep Agent: Waiting for job.\n",
            "\u001b[34m\u001b[1mwandb\u001b[0m: Job received.\n",
            "\u001b[34m\u001b[1mwandb\u001b[0m: Agent Starting Run: o7ewojaz with config:\n",
            "\u001b[34m\u001b[1mwandb\u001b[0m: \tbatch_size: 64\n",
            "\u001b[34m\u001b[1mwandb\u001b[0m: \tdropout: 0.5\n",
            "\u001b[34m\u001b[1mwandb\u001b[0m: \tepochs: 10\n",
            "\u001b[34m\u001b[1mwandb\u001b[0m: \tfeatures: ['Global_active_power', 'Global_reactive_power', 'Voltage', 'Global_intensity', 'Sub_metering_1', 'Sub_metering_2', 'Sub_metering_3']\n",
            "\u001b[34m\u001b[1mwandb\u001b[0m: \thidden_size: 128\n",
            "\u001b[34m\u001b[1mwandb\u001b[0m: \tlearning_rate: 0.01\n",
            "\u001b[34m\u001b[1mwandb\u001b[0m: \tnum_layers: 1\n",
            "\u001b[34m\u001b[1mwandb\u001b[0m: \tsequence_length: 12\n"
          ]
        },
        {
          "output_type": "display_data",
          "data": {
            "text/plain": [
              "<IPython.core.display.HTML object>"
            ],
            "text/html": [
              "Tracking run with wandb version 0.19.8"
            ]
          },
          "metadata": {}
        },
        {
          "output_type": "display_data",
          "data": {
            "text/plain": [
              "<IPython.core.display.HTML object>"
            ],
            "text/html": [
              "Run data is saved locally in <code>/content/wandb/run-20250329_180707-o7ewojaz</code>"
            ]
          },
          "metadata": {}
        },
        {
          "output_type": "display_data",
          "data": {
            "text/plain": [
              "<IPython.core.display.HTML object>"
            ],
            "text/html": [
              "Syncing run <strong><a href='https://wandb.ai/usf-guardians/GoTG_Assignment06_RNN_Take2/runs/o7ewojaz' target=\"_blank\">summer-sweep-9</a></strong> to <a href='https://wandb.ai/usf-guardians/GoTG_Assignment06_RNN_Take2' target=\"_blank\">Weights & Biases</a> (<a href='https://wandb.me/developer-guide' target=\"_blank\">docs</a>)<br>Sweep page: <a href='https://wandb.ai/usf-guardians/GoTG_Assignment06_RNN_Take2/sweeps/oijlgw56' target=\"_blank\">https://wandb.ai/usf-guardians/GoTG_Assignment06_RNN_Take2/sweeps/oijlgw56</a>"
            ]
          },
          "metadata": {}
        },
        {
          "output_type": "display_data",
          "data": {
            "text/plain": [
              "<IPython.core.display.HTML object>"
            ],
            "text/html": [
              " View project at <a href='https://wandb.ai/usf-guardians/GoTG_Assignment06_RNN_Take2' target=\"_blank\">https://wandb.ai/usf-guardians/GoTG_Assignment06_RNN_Take2</a>"
            ]
          },
          "metadata": {}
        },
        {
          "output_type": "display_data",
          "data": {
            "text/plain": [
              "<IPython.core.display.HTML object>"
            ],
            "text/html": [
              " View sweep at <a href='https://wandb.ai/usf-guardians/GoTG_Assignment06_RNN_Take2/sweeps/oijlgw56' target=\"_blank\">https://wandb.ai/usf-guardians/GoTG_Assignment06_RNN_Take2/sweeps/oijlgw56</a>"
            ]
          },
          "metadata": {}
        },
        {
          "output_type": "display_data",
          "data": {
            "text/plain": [
              "<IPython.core.display.HTML object>"
            ],
            "text/html": [
              " View run at <a href='https://wandb.ai/usf-guardians/GoTG_Assignment06_RNN_Take2/runs/o7ewojaz' target=\"_blank\">https://wandb.ai/usf-guardians/GoTG_Assignment06_RNN_Take2/runs/o7ewojaz</a>"
            ]
          },
          "metadata": {}
        },
        {
          "output_type": "display_data",
          "data": {
            "text/plain": [
              "<IPython.core.display.HTML object>"
            ],
            "text/html": []
          },
          "metadata": {}
        },
        {
          "output_type": "display_data",
          "data": {
            "text/plain": [
              "<IPython.core.display.HTML object>"
            ],
            "text/html": [
              "<br>    <style><br>        .wandb-row {<br>            display: flex;<br>            flex-direction: row;<br>            flex-wrap: wrap;<br>            justify-content: flex-start;<br>            width: 100%;<br>        }<br>        .wandb-col {<br>            display: flex;<br>            flex-direction: column;<br>            flex-basis: 100%;<br>            flex: 1;<br>            padding: 10px;<br>        }<br>    </style><br><div class=\"wandb-row\"><div class=\"wandb-col\"><h3>Run history:</h3><br/><table class=\"wandb\"><tr><td>epoch</td><td>▁▁▂▃▃▃▄▅▅▅▆▇▇▇█</td></tr><tr><td>final_mae</td><td>▁</td></tr><tr><td>final_mse</td><td>▁</td></tr><tr><td>final_r2</td><td>▁</td></tr><tr><td>sequence_length</td><td>▁</td></tr><tr><td>test_size</td><td>▁</td></tr><tr><td>train_loss</td><td>█▂▁▁▁▁▁▁▁▁▁▁▁▁▁</td></tr><tr><td>train_size</td><td>▁</td></tr><tr><td>val_mae</td><td>▅█▅▄▂▂▂▁▅▅▂▂▃▂▆</td></tr><tr><td>val_mse</td><td>▅█▅▄▂▃▃▂▄▃▁▁▄▃▅</td></tr><tr><td>val_r2</td><td>▄▁▄▅▇▆▆▇▅▆██▅▆▄</td></tr></table><br/></div><div class=\"wandb-col\"><h3>Run summary:</h3><br/><table class=\"wandb\"><tr><td>best_val_mse</td><td>0.00139</td></tr><tr><td>dataset_name</td><td>Household Electric P...</td></tr><tr><td>epoch</td><td>15</td></tr><tr><td>final_mae</td><td>0.02139</td></tr><tr><td>final_mse</td><td>0.00146</td></tr><tr><td>final_r2</td><td>0.81525</td></tr><tr><td>final_val_mae</td><td>0.02139</td></tr><tr><td>final_val_mse</td><td>0.00146</td></tr><tr><td>final_val_r2</td><td>0.81525</td></tr><tr><td>sequence_length</td><td>12</td></tr><tr><td>test_size</td><td>83009</td></tr><tr><td>train_loss</td><td>0.00201</td></tr><tr><td>train_size</td><td>332032</td></tr><tr><td>val_mae</td><td>0.02139</td></tr><tr><td>val_mse</td><td>0.00146</td></tr><tr><td>val_r2</td><td>0.81525</td></tr></table><br/></div></div>"
            ]
          },
          "metadata": {}
        },
        {
          "output_type": "display_data",
          "data": {
            "text/plain": [
              "<IPython.core.display.HTML object>"
            ],
            "text/html": [
              " View run <strong style=\"color:#cdcd00\">summer-sweep-9</strong> at: <a href='https://wandb.ai/usf-guardians/GoTG_Assignment06_RNN_Take2/runs/o7ewojaz' target=\"_blank\">https://wandb.ai/usf-guardians/GoTG_Assignment06_RNN_Take2/runs/o7ewojaz</a><br> View project at: <a href='https://wandb.ai/usf-guardians/GoTG_Assignment06_RNN_Take2' target=\"_blank\">https://wandb.ai/usf-guardians/GoTG_Assignment06_RNN_Take2</a><br>Synced 5 W&B file(s), 0 media file(s), 2 artifact file(s) and 0 other file(s)"
            ]
          },
          "metadata": {}
        },
        {
          "output_type": "display_data",
          "data": {
            "text/plain": [
              "<IPython.core.display.HTML object>"
            ],
            "text/html": [
              "Find logs at: <code>./wandb/run-20250329_180707-o7ewojaz/logs</code>"
            ]
          },
          "metadata": {}
        },
        {
          "output_type": "stream",
          "name": "stderr",
          "text": [
            "\u001b[34m\u001b[1mwandb\u001b[0m: Agent Starting Run: vd0crf7p with config:\n",
            "\u001b[34m\u001b[1mwandb\u001b[0m: \tbatch_size: 32\n",
            "\u001b[34m\u001b[1mwandb\u001b[0m: \tdropout: 0.1\n",
            "\u001b[34m\u001b[1mwandb\u001b[0m: \tepochs: 10\n",
            "\u001b[34m\u001b[1mwandb\u001b[0m: \tfeatures: ['Global_active_power', 'Global_reactive_power', 'Voltage', 'Global_intensity', 'Sub_metering_1', 'Sub_metering_2', 'Sub_metering_3']\n",
            "\u001b[34m\u001b[1mwandb\u001b[0m: \thidden_size: 32\n",
            "\u001b[34m\u001b[1mwandb\u001b[0m: \tlearning_rate: 0.005\n",
            "\u001b[34m\u001b[1mwandb\u001b[0m: \tnum_layers: 1\n",
            "\u001b[34m\u001b[1mwandb\u001b[0m: \tsequence_length: 12\n"
          ]
        },
        {
          "output_type": "display_data",
          "data": {
            "text/plain": [
              "<IPython.core.display.HTML object>"
            ],
            "text/html": [
              "Tracking run with wandb version 0.19.8"
            ]
          },
          "metadata": {}
        },
        {
          "output_type": "display_data",
          "data": {
            "text/plain": [
              "<IPython.core.display.HTML object>"
            ],
            "text/html": [
              "Run data is saved locally in <code>/content/wandb/run-20250329_181220-vd0crf7p</code>"
            ]
          },
          "metadata": {}
        },
        {
          "output_type": "display_data",
          "data": {
            "text/plain": [
              "<IPython.core.display.HTML object>"
            ],
            "text/html": [
              "Syncing run <strong><a href='https://wandb.ai/usf-guardians/GoTG_Assignment06_RNN_Take2/runs/vd0crf7p' target=\"_blank\">summer-sweep-10</a></strong> to <a href='https://wandb.ai/usf-guardians/GoTG_Assignment06_RNN_Take2' target=\"_blank\">Weights & Biases</a> (<a href='https://wandb.me/developer-guide' target=\"_blank\">docs</a>)<br>Sweep page: <a href='https://wandb.ai/usf-guardians/GoTG_Assignment06_RNN_Take2/sweeps/oijlgw56' target=\"_blank\">https://wandb.ai/usf-guardians/GoTG_Assignment06_RNN_Take2/sweeps/oijlgw56</a>"
            ]
          },
          "metadata": {}
        },
        {
          "output_type": "display_data",
          "data": {
            "text/plain": [
              "<IPython.core.display.HTML object>"
            ],
            "text/html": [
              " View project at <a href='https://wandb.ai/usf-guardians/GoTG_Assignment06_RNN_Take2' target=\"_blank\">https://wandb.ai/usf-guardians/GoTG_Assignment06_RNN_Take2</a>"
            ]
          },
          "metadata": {}
        },
        {
          "output_type": "display_data",
          "data": {
            "text/plain": [
              "<IPython.core.display.HTML object>"
            ],
            "text/html": [
              " View sweep at <a href='https://wandb.ai/usf-guardians/GoTG_Assignment06_RNN_Take2/sweeps/oijlgw56' target=\"_blank\">https://wandb.ai/usf-guardians/GoTG_Assignment06_RNN_Take2/sweeps/oijlgw56</a>"
            ]
          },
          "metadata": {}
        },
        {
          "output_type": "display_data",
          "data": {
            "text/plain": [
              "<IPython.core.display.HTML object>"
            ],
            "text/html": [
              " View run at <a href='https://wandb.ai/usf-guardians/GoTG_Assignment06_RNN_Take2/runs/vd0crf7p' target=\"_blank\">https://wandb.ai/usf-guardians/GoTG_Assignment06_RNN_Take2/runs/vd0crf7p</a>"
            ]
          },
          "metadata": {}
        },
        {
          "output_type": "display_data",
          "data": {
            "text/plain": [
              "<IPython.core.display.HTML object>"
            ],
            "text/html": []
          },
          "metadata": {}
        },
        {
          "output_type": "display_data",
          "data": {
            "text/plain": [
              "<IPython.core.display.HTML object>"
            ],
            "text/html": [
              "<br>    <style><br>        .wandb-row {<br>            display: flex;<br>            flex-direction: row;<br>            flex-wrap: wrap;<br>            justify-content: flex-start;<br>            width: 100%;<br>        }<br>        .wandb-col {<br>            display: flex;<br>            flex-direction: column;<br>            flex-basis: 100%;<br>            flex: 1;<br>            padding: 10px;<br>        }<br>    </style><br><div class=\"wandb-row\"><div class=\"wandb-col\"><h3>Run history:</h3><br/><table class=\"wandb\"><tr><td>epoch</td><td>▁▁▂▃▃▃▄▅▅▅▆▇▇▇█</td></tr><tr><td>final_mae</td><td>▁</td></tr><tr><td>final_mse</td><td>▁</td></tr><tr><td>final_r2</td><td>▁</td></tr><tr><td>sequence_length</td><td>▁</td></tr><tr><td>test_size</td><td>▁</td></tr><tr><td>train_loss</td><td>█▂▂▁▁▁▁▁▁▁▁▁▁▁▁</td></tr><tr><td>train_size</td><td>▁</td></tr><tr><td>val_mae</td><td>▆█▁▃▄▂▂▁▃▃▂▅▃▂▂</td></tr><tr><td>val_mse</td><td>▆█▂▄▁▁▂▁▂▄▃▄▃▃▄</td></tr><tr><td>val_r2</td><td>▃▁▇▅██▇█▇▅▆▅▆▆▅</td></tr></table><br/></div><div class=\"wandb-col\"><h3>Run summary:</h3><br/><table class=\"wandb\"><tr><td>best_val_mse</td><td>0.00138</td></tr><tr><td>dataset_name</td><td>Household Electric P...</td></tr><tr><td>epoch</td><td>15</td></tr><tr><td>final_mae</td><td>0.02041</td></tr><tr><td>final_mse</td><td>0.00142</td></tr><tr><td>final_r2</td><td>0.81974</td></tr><tr><td>final_val_mae</td><td>0.02041</td></tr><tr><td>final_val_mse</td><td>0.00142</td></tr><tr><td>final_val_r2</td><td>0.81974</td></tr><tr><td>sequence_length</td><td>12</td></tr><tr><td>test_size</td><td>83009</td></tr><tr><td>train_loss</td><td>0.00201</td></tr><tr><td>train_size</td><td>332032</td></tr><tr><td>val_mae</td><td>0.02041</td></tr><tr><td>val_mse</td><td>0.00142</td></tr><tr><td>val_r2</td><td>0.81974</td></tr></table><br/></div></div>"
            ]
          },
          "metadata": {}
        },
        {
          "output_type": "display_data",
          "data": {
            "text/plain": [
              "<IPython.core.display.HTML object>"
            ],
            "text/html": [
              " View run <strong style=\"color:#cdcd00\">summer-sweep-10</strong> at: <a href='https://wandb.ai/usf-guardians/GoTG_Assignment06_RNN_Take2/runs/vd0crf7p' target=\"_blank\">https://wandb.ai/usf-guardians/GoTG_Assignment06_RNN_Take2/runs/vd0crf7p</a><br> View project at: <a href='https://wandb.ai/usf-guardians/GoTG_Assignment06_RNN_Take2' target=\"_blank\">https://wandb.ai/usf-guardians/GoTG_Assignment06_RNN_Take2</a><br>Synced 5 W&B file(s), 0 media file(s), 2 artifact file(s) and 0 other file(s)"
            ]
          },
          "metadata": {}
        },
        {
          "output_type": "display_data",
          "data": {
            "text/plain": [
              "<IPython.core.display.HTML object>"
            ],
            "text/html": [
              "Find logs at: <code>./wandb/run-20250329_181220-vd0crf7p/logs</code>"
            ]
          },
          "metadata": {}
        }
      ]
    },
    {
      "cell_type": "markdown",
      "source": [
        "## 📊 Model Evaluation and Performance Interpretation\n",
        "\n",
        "This section analyzes the performance of different LSTM models based on the W&B sweep results. The primary evaluation metric was **Mean Squared Error (MSE)**, complemented by **Mean Absolute Error (MAE)** and **R² Score** for interpretability.\n",
        "\n",
        "---\n",
        "### ✅ Best Performing Models\n",
        "\n",
        "| Run Name         | final_mse | final_r2 | final_mae | Key Configuration |\n",
        "|------------------|------------|-----------|-----------|--------------------|\n",
        "| **peach-sweep-8** | **0.001363** | 0.8275    | 0.020158   | hidden_size=64, dropout=0.3, batch_size=64, learning_rate=0.01, num_layers=2 |\n",
        "| **summer-sweep-2** | **0.001395** | 0.8235    | 0.021265   | hidden_size=32, dropout=0.3, batch_size=32, learning_rate=0.01, num_layers=1 |\n",
        "\n",
        "**Interpretation:**\n",
        "\n",
        "1. **Superior Performance of peach-sweep-8:**\n",
        " - **Better accuracy:** Lower MSE and MAE\n",
        " - **Higher R²:** Better fit to the data, indicating stronger generalization\n",
        " - **More stable training:** The larger batch size (64) likely contributed to smoother, more reliable gradient updates, resulting in slightly better performance.\n",
        "2. **Marginally Weaker Performance of summer-sweep-2:**\n",
        " - Despite using the same dropout, the smaller batch size (32) introduced slightly noisier gradient updates, reducing accuracy.\n",
        " - The model still performed well but had slightly higher errors and lower fit metrics compared to **peach-sweep-8**.\n",
        "\n",
        "**Verdict:**\n",
        "\n",
        " Both models performed exceptionally well, but **peach-sweep-8** demonstrated slightly better accuracy, fit, and stability due to its larger batch size and marginally lower train loss. **summer-sweep-2** remained a strong contender, but its smaller batch size led to noisier updates, reducing its performance slightly.\n",
        "\n",
        "---\n",
        "\n",
        " ### ❌ Worst Performing Models\n",
        "\n",
        "| Run Name         | final_mse | final_r2 | final_mae | Key Configuration |\n",
        "|------------------|------------|-----------|-----------|--------------------|\n",
        "| **summer-sweep-9** | 0.001460   | 0.8152    | 0.021394   | hidden_size=128, dropout=0.5, batch_size=64, learning_rate=0.01, num_layers=1 |\n",
        "| **devoted-sweep-7** | 0.001452   | 0.8163    | 0.021347   | hidden_size=64, dropout=0.3, batch_size=32, learning_rate=0.01, num_layers=1 |\n",
        "\n",
        "**Interpretation:**\n",
        "\n",
        "1. **Poor Performance of summer-sweep-9:**\n",
        " - The higher dropout (0.5) caused underfitting, reducing the model's capacity to learn complex patterns.\n",
        " - Although it used a larger batch size (64), which typically promotes stability, the excessive regularization outweighed the batch benefits, degrading performance.\n",
        " - This model had the largest MAE, indicating less precise predictions.\n",
        "2. **Slightly Better Performing Model: devoted-sweep-7**\n",
        " - The lower dropout (0.3) prevented extreme underfitting, resulting in slightly better accuracy and fit.\n",
        " - However, the smaller batch size (32) caused noisier gradient updates, making the training less stable.\n",
        " - Despite marginally better metrics, it still ranked among the worst performers.\n",
        "\n",
        "**Verdict:**\n",
        "\n",
        "Both models performed poorly compared to the top performers, but **devoted-sweep-7** was slightly more accurate and generalizable due to its lower dropout. **summer-sweep-9** suffered more due to excessive regularization, which caused underfitting.\n",
        "\n",
        "---\n",
        "\n",
        "### 🧠 Conclusion\n",
        "\n",
        "The experiment highlights that **moderate regularization** (dropout = 0.3) combined with **larger batch sizes (64)** delivers **superior model performance**, resulting in **higher accuracy, stronger generalization, and lower prediction errors**. The **best-performing models** achieved **MSE values below 0.0014**, **R² scores above 0.82**, and **MAE below 0.0213**, indicating their strong predictive power. Conversely, the **worst-performing models** suffered from **over-regularization (dropout = 0.5)** and smaller batch sizes, leading to **weaker fit**, **larger errors**, and **noisier gradient updates**."
      ],
      "metadata": {
        "id": "ARyY8XlqrgpK"
      }
    },
    {
      "cell_type": "markdown",
      "source": [
        "# Evaluations\n",
        "\n",
        "## 📉 Visual Evaluation of Model Performance on Test Set\n",
        "\n",
        "To support our quantitative evaluation, we now visualize how the best-performing model behaves on the test set. We use the configuration from the top-performing sweep run (`peach-sweep-8`) and analyze the following plots:\n",
        "\n",
        "1. **Line Plot:** Actual vs. Predicted values over time (zoomed slice).\n",
        "2. **Residual Plot:** Distribution of prediction errors.\n",
        "3. **Scatter Plot:** Predicted vs. True values.\n",
        "4. **Histogram:** Frequency distribution of prediction errors.\n",
        "\n",
        "These visualizations help assess the model's forecasting accuracy, bias, and generalization.\n"
      ],
      "metadata": {
        "id": "3tpzWOSksmXp"
      }
    },
    {
      "cell_type": "code",
      "source": [
        "# Best config from 'peach-sweep-8'\n",
        "best_config = {\n",
        "    \"hidden_size\": 64,\n",
        "    \"dropout\": 0.3,\n",
        "    \"num_layers\": 2,\n",
        "    \"batch_size\": 64,\n",
        "    \"learning_rate\": 0.01\n",
        "}\n"
      ],
      "metadata": {
        "id": "WHOWNgMvpRCh"
      },
      "execution_count": null,
      "outputs": []
    },
    {
      "cell_type": "code",
      "source": [
        "import torch\n",
        "import torch.nn as nn\n",
        "import numpy as np\n",
        "import matplotlib.pyplot as plt\n",
        "from sklearn.metrics import mean_squared_error, mean_absolute_error, r2_score\n",
        "\n",
        "# Ensure test set exists\n",
        "assert X_test.shape[0] > 0, \"Test set not found.\"\n",
        "\n",
        "# Define model class (same as before)\n",
        "class LSTMForecaster(nn.Module):\n",
        "    def __init__(self, input_size, hidden_size, num_layers, dropout):\n",
        "        super(LSTMForecaster, self).__init__()\n",
        "        self.lstm = nn.LSTM(input_size, hidden_size, num_layers, batch_first=True, dropout=dropout)\n",
        "        self.fc = nn.Linear(hidden_size, 1)\n",
        "\n",
        "    def forward(self, x):\n",
        "        out, _ = self.lstm(x)\n",
        "        out = self.fc(out[:, -1])\n",
        "        return out.squeeze(1)\n",
        "\n",
        "# Device\n",
        "device = torch.device(\"cuda\" if torch.cuda.is_available() else \"cpu\")\n",
        "\n",
        "# Reload model with best config\n",
        "model = LSTMForecaster(\n",
        "    input_size=X_test.shape[2],\n",
        "    hidden_size=best_config[\"hidden_size\"],\n",
        "    num_layers=best_config[\"num_layers\"],\n",
        "    dropout=best_config[\"dropout\"]\n",
        ").to(device)\n",
        "\n",
        "# Load trained weights\n",
        "model.load_state_dict(torch.load(\"/content/drive/MyDrive/best_model.pt\", map_location=device))\n",
        "model.eval()\n",
        "\n",
        "# Prepare test data\n",
        "X_tensor = torch.tensor(X_test, dtype=torch.float32).to(device)\n",
        "\n",
        "# Run inference\n",
        "with torch.no_grad():\n",
        "    y_pred = model(X_tensor).cpu().numpy()\n",
        "\n",
        "# Convert true values\n",
        "y_true = y_test\n",
        "\n",
        "# Compute metrics\n",
        "mse = mean_squared_error(y_true, y_pred)\n",
        "mae = mean_absolute_error(y_true, y_pred)\n",
        "r2 = r2_score(y_true, y_pred)\n",
        "\n",
        "print(f\"Test MSE: {mse:.5f}, MAE: {mae:.5f}, R²: {r2:.5f}\")\n"
      ],
      "metadata": {
        "id": "zK95tIcfsrTJ",
        "colab": {
          "base_uri": "https://localhost:8080/"
        },
        "outputId": "ffac8522-178e-4b47-8951-56b665d7fd62"
      },
      "execution_count": null,
      "outputs": [
        {
          "output_type": "stream",
          "name": "stdout",
          "text": [
            "Test MSE: 0.00136, MAE: 0.02016, R²: 0.82750\n"
          ]
        }
      ]
    },
    {
      "cell_type": "code",
      "source": [
        "import seaborn as sns\n",
        "\n",
        "# Plot 1: Line plot (first 200 points)\n",
        "plt.figure(figsize=(14, 5))\n",
        "plt.plot(y_true[:200], label=\"True\", linewidth=2)\n",
        "plt.plot(y_pred[:200], label=\"Predicted\", linewidth=2)\n",
        "plt.title(\"True vs. Predicted Values (First 200 Time Steps)\")\n",
        "plt.xlabel(\"Time Step\")\n",
        "plt.ylabel(\"Normalized Power Consumption\")\n",
        "plt.legend()\n",
        "plt.grid(True)\n",
        "plt.tight_layout()\n",
        "plt.show()\n",
        "\n",
        "# Plot 2: Residuals (Prediction Errors)\n",
        "residuals = y_true - y_pred\n",
        "plt.figure(figsize=(8, 4))\n",
        "sns.histplot(residuals, kde=True, bins=50)\n",
        "plt.title(\"Residual Distribution (y_true - y_pred)\")\n",
        "plt.xlabel(\"Error\")\n",
        "plt.ylabel(\"Frequency\")\n",
        "plt.grid(True)\n",
        "plt.tight_layout()\n",
        "plt.show()\n",
        "\n",
        "# Plot 3: Predicted vs. True (Scatter)\n",
        "plt.figure(figsize=(6, 6))\n",
        "plt.scatter(y_true, y_pred, alpha=0.3)\n",
        "plt.plot([0, 1], [0, 1], 'r--')  # identity line\n",
        "plt.title(\"Scatter Plot: Predicted vs. True Values\")\n",
        "plt.xlabel(\"True Values\")\n",
        "plt.ylabel(\"Predicted Values\")\n",
        "plt.grid(True)\n",
        "plt.tight_layout()\n",
        "plt.show()\n",
        "\n",
        "# Plot 4: Prediction Error Histogram\n",
        "error = y_pred - y_true\n",
        "plt.figure(figsize=(8, 4))\n",
        "plt.hist(error, bins=50, edgecolor='black')\n",
        "plt.title(\"Prediction Error Histogram (y_pred - y_true)\")\n",
        "plt.xlabel(\"Prediction Error\")\n",
        "plt.ylabel(\"Count\")\n",
        "plt.tight_layout()\n",
        "plt.show()\n"
      ],
      "metadata": {
        "id": "Mq6smv_1tE3j",
        "colab": {
          "base_uri": "https://localhost:8080/",
          "height": 1000
        },
        "outputId": "6c85308b-711b-4032-ca5b-b8027d174661"
      },
      "execution_count": null,
      "outputs": [
        {
          "output_type": "display_data",
          "data": {
            "text/plain": [
              "<Figure size 1400x500 with 1 Axes>"
            ],
            "image/png": "[encoded data removed]"
          },
          "metadata": {}
        },
        {
          "output_type": "display_data",
          "data": {
            "text/plain": [
              "<Figure size 800x400 with 1 Axes>"
            ],
            "image/png": "[encoded data removed]"
          },
          "metadata": {}
        },
        {
          "output_type": "display_data",
          "data": {
            "text/plain": [
              "<Figure size 600x600 with 1 Axes>"
            ],
            "image/png": "[encoded data removed]"
          },
          "metadata": {}
        },
        {
          "output_type": "display_data",
          "data": {
            "text/plain": [
              "<Figure size 800x400 with 1 Axes>"
            ],
            "image/png": "[encoded data removed]"
          },
          "metadata": {}
        }
      ]
    }
  ]
}