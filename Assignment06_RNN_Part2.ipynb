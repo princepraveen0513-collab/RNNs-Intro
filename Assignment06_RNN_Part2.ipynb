{
  "nbformat": 4,
  "nbformat_minor": 0,
  "metadata": {
    "colab": {
      "provenance": [],
      "gpuType": "T4"
    },
    "kernelspec": {
      "name": "python3",
      "display_name": "Python 3"
    },
    "language_info": {
      "name": "python"
    },
    "accelerator": "GPU"
  },
  "cells": [
    {
      "cell_type": "markdown",
      "source": [
        "## Step 1: Load and Inspect the Dataset\n",
        "\n",
        "In this step, we will:\n",
        "\n",
        "- Import necessary Python libraries\n",
        "- Load the dataset using `pandas`\n",
        "- Combine the `Date` and `Time` columns into a single `Datetime` column\n",
        "- Set the `Datetime` column as the index for easier time series manipulation\n",
        "- Display the first few rows of the cleaned dataset to verify formatting\n"
      ],
      "metadata": {
        "id": "etDXgBx6SfR1"
      }
    },
    {
      "cell_type": "code",
      "execution_count": null,
      "metadata": {
        "colab": {
          "base_uri": "https://localhost:8080/",
          "height": 387
        },
        "id": "77zUWY-An0Q6",
        "outputId": "0a724066-d24e-42a3-e768-103735fb00c3"
      },
      "outputs": [
        {
          "output_type": "stream",
          "name": "stderr",
          "text": [
            "<ipython-input-1-18a7f173aca8>:4: FutureWarning: Support for nested sequences for 'parse_dates' in pd.read_csv is deprecated. Combine the desired columns with pd.to_datetime after parsing instead.\n",
            "  df = pd.read_csv('household_power_consumption.txt', sep=';',\n",
            "<ipython-input-1-18a7f173aca8>:4: FutureWarning: The argument 'infer_datetime_format' is deprecated and will be removed in a future version. A strict version of it is now the default, see https://pandas.pydata.org/pdeps/0004-consistent-to-datetime-parsing.html. You can safely remove this argument.\n",
            "  df = pd.read_csv('household_power_consumption.txt', sep=';',\n"
          ]
        },
        {
          "output_type": "stream",
          "name": "stdout",
          "text": [
            "Shape of dataset: (2075259, 7)\n"
          ]
        },
        {
          "output_type": "stream",
          "name": "stderr",
          "text": [
            "<ipython-input-1-18a7f173aca8>:4: UserWarning: Parsing dates in %d/%m/%Y %H:%M:%S format when dayfirst=False (the default) was specified. Pass `dayfirst=True` or specify a format to silence this warning.\n",
            "  df = pd.read_csv('household_power_consumption.txt', sep=';',\n"
          ]
        },
        {
          "output_type": "execute_result",
          "data": {
            "text/plain": [
              "                     Global_active_power  Global_reactive_power  Voltage  \\\n",
              "Datetime                                                                   \n",
              "2006-12-16 17:24:00                4.216                  0.418   234.84   \n",
              "2006-12-16 17:25:00                5.360                  0.436   233.63   \n",
              "2006-12-16 17:26:00                5.374                  0.498   233.29   \n",
              "2006-12-16 17:27:00                5.388                  0.502   233.74   \n",
              "2006-12-16 17:28:00                3.666                  0.528   235.68   \n",
              "\n",
              "                     Global_intensity  Sub_metering_1  Sub_metering_2  \\\n",
              "Datetime                                                                \n",
              "2006-12-16 17:24:00              18.4             0.0             1.0   \n",
              "2006-12-16 17:25:00              23.0             0.0             1.0   \n",
              "2006-12-16 17:26:00              23.0             0.0             2.0   \n",
              "2006-12-16 17:27:00              23.0             0.0             1.0   \n",
              "2006-12-16 17:28:00              15.8             0.0             1.0   \n",
              "\n",
              "                     Sub_metering_3  \n",
              "Datetime                             \n",
              "2006-12-16 17:24:00            17.0  \n",
              "2006-12-16 17:25:00            16.0  \n",
              "2006-12-16 17:26:00            17.0  \n",
              "2006-12-16 17:27:00            17.0  \n",
              "2006-12-16 17:28:00            17.0  "
            ],
            "text/html": [
              "\n",
              "  <div id=\"df-886187e1-5ca0-4d3d-823f-228a1e4ac96d\" class=\"colab-df-container\">\n",
              "    <div>\n",
              "<style scoped>\n",
              "    .dataframe tbody tr th:only-of-type {\n",
              "        vertical-align: middle;\n",
              "    }\n",
              "\n",
              "    .dataframe tbody tr th {\n",
              "        vertical-align: top;\n",
              "    }\n",
              "\n",
              "    .dataframe thead th {\n",
              "        text-align: right;\n",
              "    }\n",
              "</style>\n",
              "<table border=\"1\" class=\"dataframe\">\n",
              "  <thead>\n",
              "    <tr style=\"text-align: right;\">\n",
              "      <th></th>\n",
              "      <th>Global_active_power</th>\n",
              "      <th>Global_reactive_power</th>\n",
              "      <th>Voltage</th>\n",
              "      <th>Global_intensity</th>\n",
              "      <th>Sub_metering_1</th>\n",
              "      <th>Sub_metering_2</th>\n",
              "      <th>Sub_metering_3</th>\n",
              "    </tr>\n",
              "    <tr>\n",
              "      <th>Datetime</th>\n",
              "      <th></th>\n",
              "      <th></th>\n",
              "      <th></th>\n",
              "      <th></th>\n",
              "      <th></th>\n",
              "      <th></th>\n",
              "      <th></th>\n",
              "    </tr>\n",
              "  </thead>\n",
              "  <tbody>\n",
              "    <tr>\n",
              "      <th>2006-12-16 17:24:00</th>\n",
              "      <td>4.216</td>\n",
              "      <td>0.418</td>\n",
              "      <td>234.84</td>\n",
              "      <td>18.4</td>\n",
              "      <td>0.0</td>\n",
              "      <td>1.0</td>\n",
              "      <td>17.0</td>\n",
              "    </tr>\n",
              "    <tr>\n",
              "      <th>2006-12-16 17:25:00</th>\n",
              "      <td>5.360</td>\n",
              "      <td>0.436</td>\n",
              "      <td>233.63</td>\n",
              "      <td>23.0</td>\n",
              "      <td>0.0</td>\n",
              "      <td>1.0</td>\n",
              "      <td>16.0</td>\n",
              "    </tr>\n",
              "    <tr>\n",
              "      <th>2006-12-16 17:26:00</th>\n",
              "      <td>5.374</td>\n",
              "      <td>0.498</td>\n",
              "      <td>233.29</td>\n",
              "      <td>23.0</td>\n",
              "      <td>0.0</td>\n",
              "      <td>2.0</td>\n",
              "      <td>17.0</td>\n",
              "    </tr>\n",
              "    <tr>\n",
              "      <th>2006-12-16 17:27:00</th>\n",
              "      <td>5.388</td>\n",
              "      <td>0.502</td>\n",
              "      <td>233.74</td>\n",
              "      <td>23.0</td>\n",
              "      <td>0.0</td>\n",
              "      <td>1.0</td>\n",
              "      <td>17.0</td>\n",
              "    </tr>\n",
              "    <tr>\n",
              "      <th>2006-12-16 17:28:00</th>\n",
              "      <td>3.666</td>\n",
              "      <td>0.528</td>\n",
              "      <td>235.68</td>\n",
              "      <td>15.8</td>\n",
              "      <td>0.0</td>\n",
              "      <td>1.0</td>\n",
              "      <td>17.0</td>\n",
              "    </tr>\n",
              "  </tbody>\n",
              "</table>\n",
              "</div>\n",
              "    <div class=\"colab-df-buttons\">\n",
              "\n",
              "  <div class=\"colab-df-container\">\n",
              "    <button class=\"colab-df-convert\" onclick=\"convertToInteractive('df-886187e1-5ca0-4d3d-823f-228a1e4ac96d')\"\n",
              "            title=\"Convert this dataframe to an interactive table.\"\n",
              "            style=\"display:none;\">\n",
              "\n",
              "  <svg xmlns=\"http://www.w3.org/2000/svg\" height=\"24px\" viewBox=\"0 -960 960 960\">\n",
              "    <path d=\"M120-120v-720h720v720H120Zm60-500h600v-160H180v160Zm220 220h160v-160H400v160Zm0 220h160v-160H400v160ZM180-400h160v-160H180v160Zm440 0h160v-160H620v160ZM180-180h160v-160H180v160Zm440 0h160v-160H620v160Z\"/>\n",
              "  </svg>\n",
              "    </button>\n",
              "\n",
              "  <style>\n",
              "    .colab-df-container {\n",
              "      display:flex;\n",
              "      gap: 12px;\n",
              "    }\n",
              "\n",
              "    .colab-df-convert {\n",
              "      background-color: #E8F0FE;\n",
              "      border: none;\n",
              "      border-radius: 50%;\n",
              "      cursor: pointer;\n",
              "      display: none;\n",
              "      fill: #1967D2;\n",
              "      height: 32px;\n",
              "      padding: 0 0 0 0;\n",
              "      width: 32px;\n",
              "    }\n",
              "\n",
              "    .colab-df-convert:hover {\n",
              "      background-color: #E2EBFA;\n",
              "      box-shadow: 0px 1px 2px rgba(60, 64, 67, 0.3), 0px 1px 3px 1px rgba(60, 64, 67, 0.15);\n",
              "      fill: #174EA6;\n",
              "    }\n",
              "\n",
              "    .colab-df-buttons div {\n",
              "      margin-bottom: 4px;\n",
              "    }\n",
              "\n",
              "    [theme=dark] .colab-df-convert {\n",
              "      background-color: #3B4455;\n",
              "      fill: #D2E3FC;\n",
              "    }\n",
              "\n",
              "    [theme=dark] .colab-df-convert:hover {\n",
              "      background-color: #434B5C;\n",
              "      box-shadow: 0px 1px 3px 1px rgba(0, 0, 0, 0.15);\n",
              "      filter: drop-shadow(0px 1px 2px rgba(0, 0, 0, 0.3));\n",
              "      fill: #FFFFFF;\n",
              "    }\n",
              "  </style>\n",
              "\n",
              "    <script>\n",
              "      const buttonEl =\n",
              "        document.querySelector('#df-886187e1-5ca0-4d3d-823f-228a1e4ac96d button.colab-df-convert');\n",
              "      buttonEl.style.display =\n",
              "        google.colab.kernel.accessAllowed ? 'block' : 'none';\n",
              "\n",
              "      async function convertToInteractive(key) {\n",
              "        const element = document.querySelector('#df-886187e1-5ca0-4d3d-823f-228a1e4ac96d');\n",
              "        const dataTable =\n",
              "          await google.colab.kernel.invokeFunction('convertToInteractive',\n",
              "                                                    [key], {});\n",
              "        if (!dataTable) return;\n",
              "\n",
              "        const docLinkHtml = 'Like what you see? Visit the ' +\n",
              "          '<a target=\"_blank\" href=https://colab.research.google.com/notebooks/data_table.ipynb>data table notebook</a>'\n",
              "          + ' to learn more about interactive tables.';\n",
              "        element.innerHTML = '';\n",
              "        dataTable['output_type'] = 'display_data';\n",
              "        await google.colab.output.renderOutput(dataTable, element);\n",
              "        const docLink = document.createElement('div');\n",
              "        docLink.innerHTML = docLinkHtml;\n",
              "        element.appendChild(docLink);\n",
              "      }\n",
              "    </script>\n",
              "  </div>\n",
              "\n",
              "\n",
              "<div id=\"df-84e114b0-9c9c-4ae4-b3e4-4b03b5c2da62\">\n",
              "  <button class=\"colab-df-quickchart\" onclick=\"quickchart('df-84e114b0-9c9c-4ae4-b3e4-4b03b5c2da62')\"\n",
              "            title=\"Suggest charts\"\n",
              "            style=\"display:none;\">\n",
              "\n",
              "<svg xmlns=\"http://www.w3.org/2000/svg\" height=\"24px\"viewBox=\"0 0 24 24\"\n",
              "     width=\"24px\">\n",
              "    <g>\n",
              "        <path d=\"M19 3H5c-1.1 0-2 .9-2 2v14c0 1.1.9 2 2 2h14c1.1 0 2-.9 2-2V5c0-1.1-.9-2-2-2zM9 17H7v-7h2v7zm4 0h-2V7h2v10zm4 0h-2v-4h2v4z\"/>\n",
              "    </g>\n",
              "</svg>\n",
              "  </button>\n",
              "\n",
              "<style>\n",
              "  .colab-df-quickchart {\n",
              "      --bg-color: #E8F0FE;\n",
              "      --fill-color: #1967D2;\n",
              "      --hover-bg-color: #E2EBFA;\n",
              "      --hover-fill-color: #174EA6;\n",
              "      --disabled-fill-color: #AAA;\n",
              "      --disabled-bg-color: #DDD;\n",
              "  }\n",
              "\n",
              "  [theme=dark] .colab-df-quickchart {\n",
              "      --bg-color: #3B4455;\n",
              "      --fill-color: #D2E3FC;\n",
              "      --hover-bg-color: #434B5C;\n",
              "      --hover-fill-color: #FFFFFF;\n",
              "      --disabled-bg-color: #3B4455;\n",
              "      --disabled-fill-color: #666;\n",
              "  }\n",
              "\n",
              "  .colab-df-quickchart {\n",
              "    background-color: var(--bg-color);\n",
              "    border: none;\n",
              "    border-radius: 50%;\n",
              "    cursor: pointer;\n",
              "    display: none;\n",
              "    fill: var(--fill-color);\n",
              "    height: 32px;\n",
              "    padding: 0;\n",
              "    width: 32px;\n",
              "  }\n",
              "\n",
              "  .colab-df-quickchart:hover {\n",
              "    background-color: var(--hover-bg-color);\n",
              "    box-shadow: 0 1px 2px rgba(60, 64, 67, 0.3), 0 1px 3px 1px rgba(60, 64, 67, 0.15);\n",
              "    fill: var(--button-hover-fill-color);\n",
              "  }\n",
              "\n",
              "  .colab-df-quickchart-complete:disabled,\n",
              "  .colab-df-quickchart-complete:disabled:hover {\n",
              "    background-color: var(--disabled-bg-color);\n",
              "    fill: var(--disabled-fill-color);\n",
              "    box-shadow: none;\n",
              "  }\n",
              "\n",
              "  .colab-df-spinner {\n",
              "    border: 2px solid var(--fill-color);\n",
              "    border-color: transparent;\n",
              "    border-bottom-color: var(--fill-color);\n",
              "    animation:\n",
              "      spin 1s steps(1) infinite;\n",
              "  }\n",
              "\n",
              "  @keyframes spin {\n",
              "    0% {\n",
              "      border-color: transparent;\n",
              "      border-bottom-color: var(--fill-color);\n",
              "      border-left-color: var(--fill-color);\n",
              "    }\n",
              "    20% {\n",
              "      border-color: transparent;\n",
              "      border-left-color: var(--fill-color);\n",
              "      border-top-color: var(--fill-color);\n",
              "    }\n",
              "    30% {\n",
              "      border-color: transparent;\n",
              "      border-left-color: var(--fill-color);\n",
              "      border-top-color: var(--fill-color);\n",
              "      border-right-color: var(--fill-color);\n",
              "    }\n",
              "    40% {\n",
              "      border-color: transparent;\n",
              "      border-right-color: var(--fill-color);\n",
              "      border-top-color: var(--fill-color);\n",
              "    }\n",
              "    60% {\n",
              "      border-color: transparent;\n",
              "      border-right-color: var(--fill-color);\n",
              "    }\n",
              "    80% {\n",
              "      border-color: transparent;\n",
              "      border-right-color: var(--fill-color);\n",
              "      border-bottom-color: var(--fill-color);\n",
              "    }\n",
              "    90% {\n",
              "      border-color: transparent;\n",
              "      border-bottom-color: var(--fill-color);\n",
              "    }\n",
              "  }\n",
              "</style>\n",
              "\n",
              "  <script>\n",
              "    async function quickchart(key) {\n",
              "      const quickchartButtonEl =\n",
              "        document.querySelector('#' + key + ' button');\n",
              "      quickchartButtonEl.disabled = true;  // To prevent multiple clicks.\n",
              "      quickchartButtonEl.classList.add('colab-df-spinner');\n",
              "      try {\n",
              "        const charts = await google.colab.kernel.invokeFunction(\n",
              "            'suggestCharts', [key], {});\n",
              "      } catch (error) {\n",
              "        console.error('Error during call to suggestCharts:', error);\n",
              "      }\n",
              "      quickchartButtonEl.classList.remove('colab-df-spinner');\n",
              "      quickchartButtonEl.classList.add('colab-df-quickchart-complete');\n",
              "    }\n",
              "    (() => {\n",
              "      let quickchartButtonEl =\n",
              "        document.querySelector('#df-84e114b0-9c9c-4ae4-b3e4-4b03b5c2da62 button');\n",
              "      quickchartButtonEl.style.display =\n",
              "        google.colab.kernel.accessAllowed ? 'block' : 'none';\n",
              "    })();\n",
              "  </script>\n",
              "</div>\n",
              "\n",
              "    </div>\n",
              "  </div>\n"
            ],
            "application/vnd.google.colaboratory.intrinsic+json": {
              "type": "dataframe",
              "variable_name": "df"
            }
          },
          "metadata": {},
          "execution_count": 1
        }
      ],
      "source": [
        "import pandas as pd\n",
        "\n",
        "# Load the dataset (update the path as needed)\n",
        "df = pd.read_csv('household_power_consumption.txt', sep=';',\n",
        "                 parse_dates={'Datetime': ['Date', 'Time']},\n",
        "                 infer_datetime_format=True,\n",
        "                 na_values='?',\n",
        "                 low_memory=False)\n",
        "\n",
        "# Set datetime as the index\n",
        "df.set_index('Datetime', inplace=True)\n",
        "\n",
        "# Convert all columns to numeric (some may be loaded as object due to 'na_values')\n",
        "df = df.apply(pd.to_numeric, errors='coerce')\n",
        "\n",
        "# Preview the dataset\n",
        "print(\"Shape of dataset:\", df.shape)\n",
        "df.head()\n"
      ]
    },
    {
      "cell_type": "markdown",
      "source": [
        "## Step 2: Handle Missing Values and Optional Resampling\n",
        "\n",
        "In this step, we will:\n",
        "\n",
        "- Identify and handle missing values in the dataset\n",
        "- Drop rows with any missing values (since the dataset is large enough)\n",
        "- Optionally resample the data to a coarser time interval (e.g., 5-minute average) to reduce data size and smooth noise\n",
        "- Display the dataset shape and a sample to confirm preprocessing\n"
      ],
      "metadata": {
        "id": "Vtl84WtjSp1r"
      }
    },
    {
      "cell_type": "code",
      "source": [
        "# Check for missing values\n",
        "missing_counts = df.isna().sum()\n",
        "print(\"Missing values per column:\\n\", missing_counts)\n",
        "\n",
        "\n"
      ],
      "metadata": {
        "colab": {
          "base_uri": "https://localhost:8080/"
        },
        "id": "HGpcj9imobbl",
        "outputId": "80741c54-b8ee-428c-a186-6172aa255afe"
      },
      "execution_count": null,
      "outputs": [
        {
          "output_type": "stream",
          "name": "stdout",
          "text": [
            "Missing values per column:\n",
            " Global_active_power      25979\n",
            "Global_reactive_power    25979\n",
            "Voltage                  25979\n",
            "Global_intensity         25979\n",
            "Sub_metering_1           25979\n",
            "Sub_metering_2           25979\n",
            "Sub_metering_3           25979\n",
            "dtype: int64\n"
          ]
        }
      ]
    },
    {
      "cell_type": "code",
      "source": [
        "# Check for missing values again\n",
        "print(\"Missing values before imputation:\\n\", df.isna().sum())\n",
        "\n",
        "# Fill missing values using forward-fill and then back-fill\n",
        "df_filled = df.ffill().bfill()\n",
        "\n",
        "# Confirm that no missing values remain\n",
        "print(\"\\nMissing values after imputation:\\n\", df_filled.isna().sum())\n",
        "\n",
        "# Optional: Resample to 5-minute intervals\n",
        "df_resampled = df_filled.resample('5T').mean()\n",
        "\n",
        "print(f\"\\nDataset shape after optional resampling: {df_resampled.shape}\")\n",
        "df_resampled.head()\n"
      ],
      "metadata": {
        "colab": {
          "base_uri": "https://localhost:8080/",
          "height": 662
        },
        "id": "PbI2AFhMoefG",
        "outputId": "c3538387-2b20-462c-9db1-965b62e86306"
      },
      "execution_count": null,
      "outputs": [
        {
          "output_type": "stream",
          "name": "stdout",
          "text": [
            "Missing values before imputation:\n",
            " Global_active_power      25979\n",
            "Global_reactive_power    25979\n",
            "Voltage                  25979\n",
            "Global_intensity         25979\n",
            "Sub_metering_1           25979\n",
            "Sub_metering_2           25979\n",
            "Sub_metering_3           25979\n",
            "dtype: int64\n",
            "\n",
            "Missing values after imputation:\n",
            " Global_active_power      0\n",
            "Global_reactive_power    0\n",
            "Voltage                  0\n",
            "Global_intensity         0\n",
            "Sub_metering_1           0\n",
            "Sub_metering_2           0\n",
            "Sub_metering_3           0\n",
            "dtype: int64\n",
            "\n",
            "Dataset shape after optional resampling: (415053, 7)\n"
          ]
        },
        {
          "output_type": "stream",
          "name": "stderr",
          "text": [
            "<ipython-input-3-b90d13b0d5a9>:11: FutureWarning: 'T' is deprecated and will be removed in a future version, please use 'min' instead.\n",
            "  df_resampled = df_filled.resample('5T').mean()\n"
          ]
        },
        {
          "output_type": "execute_result",
          "data": {
            "text/plain": [
              "                     Global_active_power  Global_reactive_power  Voltage  \\\n",
              "Datetime                                                                   \n",
              "2006-12-16 17:20:00               4.2160                 0.4180  234.840   \n",
              "2006-12-16 17:25:00               4.6616                 0.4972  234.272   \n",
              "2006-12-16 17:30:00               3.8360                 0.5116  234.204   \n",
              "2006-12-16 17:35:00               4.6684                 0.4100  234.212   \n",
              "2006-12-16 17:40:00               3.9176                 0.0616  235.890   \n",
              "\n",
              "                     Global_intensity  Sub_metering_1  Sub_metering_2  \\\n",
              "Datetime                                                                \n",
              "2006-12-16 17:20:00             18.40             0.0             1.0   \n",
              "2006-12-16 17:25:00             19.96             0.0             1.4   \n",
              "2006-12-16 17:30:00             16.56             0.0             1.2   \n",
              "2006-12-16 17:35:00             20.00             0.0             1.0   \n",
              "2006-12-16 17:40:00             16.76             0.0             0.0   \n",
              "\n",
              "                     Sub_metering_3  \n",
              "Datetime                             \n",
              "2006-12-16 17:20:00            17.0  \n",
              "2006-12-16 17:25:00            16.8  \n",
              "2006-12-16 17:30:00            16.8  \n",
              "2006-12-16 17:35:00            16.8  \n",
              "2006-12-16 17:40:00            17.0  "
            ],
            "text/html": [
              "\n",
              "  <div id=\"df-843bb2e4-81dc-4058-a3f0-522038b64b81\" class=\"colab-df-container\">\n",
              "    <div>\n",
              "<style scoped>\n",
              "    .dataframe tbody tr th:only-of-type {\n",
              "        vertical-align: middle;\n",
              "    }\n",
              "\n",
              "    .dataframe tbody tr th {\n",
              "        vertical-align: top;\n",
              "    }\n",
              "\n",
              "    .dataframe thead th {\n",
              "        text-align: right;\n",
              "    }\n",
              "</style>\n",
              "<table border=\"1\" class=\"dataframe\">\n",
              "  <thead>\n",
              "    <tr style=\"text-align: right;\">\n",
              "      <th></th>\n",
              "      <th>Global_active_power</th>\n",
              "      <th>Global_reactive_power</th>\n",
              "      <th>Voltage</th>\n",
              "      <th>Global_intensity</th>\n",
              "      <th>Sub_metering_1</th>\n",
              "      <th>Sub_metering_2</th>\n",
              "      <th>Sub_metering_3</th>\n",
              "    </tr>\n",
              "    <tr>\n",
              "      <th>Datetime</th>\n",
              "      <th></th>\n",
              "      <th></th>\n",
              "      <th></th>\n",
              "      <th></th>\n",
              "      <th></th>\n",
              "      <th></th>\n",
              "      <th></th>\n",
              "    </tr>\n",
              "  </thead>\n",
              "  <tbody>\n",
              "    <tr>\n",
              "      <th>2006-12-16 17:20:00</th>\n",
              "      <td>4.2160</td>\n",
              "      <td>0.4180</td>\n",
              "      <td>234.840</td>\n",
              "      <td>18.40</td>\n",
              "      <td>0.0</td>\n",
              "      <td>1.0</td>\n",
              "      <td>17.0</td>\n",
              "    </tr>\n",
              "    <tr>\n",
              "      <th>2006-12-16 17:25:00</th>\n",
              "      <td>4.6616</td>\n",
              "      <td>0.4972</td>\n",
              "      <td>234.272</td>\n",
              "      <td>19.96</td>\n",
              "      <td>0.0</td>\n",
              "      <td>1.4</td>\n",
              "      <td>16.8</td>\n",
              "    </tr>\n",
              "    <tr>\n",
              "      <th>2006-12-16 17:30:00</th>\n",
              "      <td>3.8360</td>\n",
              "      <td>0.5116</td>\n",
              "      <td>234.204</td>\n",
              "      <td>16.56</td>\n",
              "      <td>0.0</td>\n",
              "      <td>1.2</td>\n",
              "      <td>16.8</td>\n",
              "    </tr>\n",
              "    <tr>\n",
              "      <th>2006-12-16 17:35:00</th>\n",
              "      <td>4.6684</td>\n",
              "      <td>0.4100</td>\n",
              "      <td>234.212</td>\n",
              "      <td>20.00</td>\n",
              "      <td>0.0</td>\n",
              "      <td>1.0</td>\n",
              "      <td>16.8</td>\n",
              "    </tr>\n",
              "    <tr>\n",
              "      <th>2006-12-16 17:40:00</th>\n",
              "      <td>3.9176</td>\n",
              "      <td>0.0616</td>\n",
              "      <td>235.890</td>\n",
              "      <td>16.76</td>\n",
              "      <td>0.0</td>\n",
              "      <td>0.0</td>\n",
              "      <td>17.0</td>\n",
              "    </tr>\n",
              "  </tbody>\n",
              "</table>\n",
              "</div>\n",
              "    <div class=\"colab-df-buttons\">\n",
              "\n",
              "  <div class=\"colab-df-container\">\n",
              "    <button class=\"colab-df-convert\" onclick=\"convertToInteractive('df-843bb2e4-81dc-4058-a3f0-522038b64b81')\"\n",
              "            title=\"Convert this dataframe to an interactive table.\"\n",
              "            style=\"display:none;\">\n",
              "\n",
              "  <svg xmlns=\"http://www.w3.org/2000/svg\" height=\"24px\" viewBox=\"0 -960 960 960\">\n",
              "    <path d=\"M120-120v-720h720v720H120Zm60-500h600v-160H180v160Zm220 220h160v-160H400v160Zm0 220h160v-160H400v160ZM180-400h160v-160H180v160Zm440 0h160v-160H620v160ZM180-180h160v-160H180v160Zm440 0h160v-160H620v160Z\"/>\n",
              "  </svg>\n",
              "    </button>\n",
              "\n",
              "  <style>\n",
              "    .colab-df-container {\n",
              "      display:flex;\n",
              "      gap: 12px;\n",
              "    }\n",
              "\n",
              "    .colab-df-convert {\n",
              "      background-color: #E8F0FE;\n",
              "      border: none;\n",
              "      border-radius: 50%;\n",
              "      cursor: pointer;\n",
              "      display: none;\n",
              "      fill: #1967D2;\n",
              "      height: 32px;\n",
              "      padding: 0 0 0 0;\n",
              "      width: 32px;\n",
              "    }\n",
              "\n",
              "    .colab-df-convert:hover {\n",
              "      background-color: #E2EBFA;\n",
              "      box-shadow: 0px 1px 2px rgba(60, 64, 67, 0.3), 0px 1px 3px 1px rgba(60, 64, 67, 0.15);\n",
              "      fill: #174EA6;\n",
              "    }\n",
              "\n",
              "    .colab-df-buttons div {\n",
              "      margin-bottom: 4px;\n",
              "    }\n",
              "\n",
              "    [theme=dark] .colab-df-convert {\n",
              "      background-color: #3B4455;\n",
              "      fill: #D2E3FC;\n",
              "    }\n",
              "\n",
              "    [theme=dark] .colab-df-convert:hover {\n",
              "      background-color: #434B5C;\n",
              "      box-shadow: 0px 1px 3px 1px rgba(0, 0, 0, 0.15);\n",
              "      filter: drop-shadow(0px 1px 2px rgba(0, 0, 0, 0.3));\n",
              "      fill: #FFFFFF;\n",
              "    }\n",
              "  </style>\n",
              "\n",
              "    <script>\n",
              "      const buttonEl =\n",
              "        document.querySelector('#df-843bb2e4-81dc-4058-a3f0-522038b64b81 button.colab-df-convert');\n",
              "      buttonEl.style.display =\n",
              "        google.colab.kernel.accessAllowed ? 'block' : 'none';\n",
              "\n",
              "      async function convertToInteractive(key) {\n",
              "        const element = document.querySelector('#df-843bb2e4-81dc-4058-a3f0-522038b64b81');\n",
              "        const dataTable =\n",
              "          await google.colab.kernel.invokeFunction('convertToInteractive',\n",
              "                                                    [key], {});\n",
              "        if (!dataTable) return;\n",
              "\n",
              "        const docLinkHtml = 'Like what you see? Visit the ' +\n",
              "          '<a target=\"_blank\" href=https://colab.research.google.com/notebooks/data_table.ipynb>data table notebook</a>'\n",
              "          + ' to learn more about interactive tables.';\n",
              "        element.innerHTML = '';\n",
              "        dataTable['output_type'] = 'display_data';\n",
              "        await google.colab.output.renderOutput(dataTable, element);\n",
              "        const docLink = document.createElement('div');\n",
              "        docLink.innerHTML = docLinkHtml;\n",
              "        element.appendChild(docLink);\n",
              "      }\n",
              "    </script>\n",
              "  </div>\n",
              "\n",
              "\n",
              "<div id=\"df-666be7fd-c38e-4933-ba1b-3721b8fd944d\">\n",
              "  <button class=\"colab-df-quickchart\" onclick=\"quickchart('df-666be7fd-c38e-4933-ba1b-3721b8fd944d')\"\n",
              "            title=\"Suggest charts\"\n",
              "            style=\"display:none;\">\n",
              "\n",
              "<svg xmlns=\"http://www.w3.org/2000/svg\" height=\"24px\"viewBox=\"0 0 24 24\"\n",
              "     width=\"24px\">\n",
              "    <g>\n",
              "        <path d=\"M19 3H5c-1.1 0-2 .9-2 2v14c0 1.1.9 2 2 2h14c1.1 0 2-.9 2-2V5c0-1.1-.9-2-2-2zM9 17H7v-7h2v7zm4 0h-2V7h2v10zm4 0h-2v-4h2v4z\"/>\n",
              "    </g>\n",
              "</svg>\n",
              "  </button>\n",
              "\n",
              "<style>\n",
              "  .colab-df-quickchart {\n",
              "      --bg-color: #E8F0FE;\n",
              "      --fill-color: #1967D2;\n",
              "      --hover-bg-color: #E2EBFA;\n",
              "      --hover-fill-color: #174EA6;\n",
              "      --disabled-fill-color: #AAA;\n",
              "      --disabled-bg-color: #DDD;\n",
              "  }\n",
              "\n",
              "  [theme=dark] .colab-df-quickchart {\n",
              "      --bg-color: #3B4455;\n",
              "      --fill-color: #D2E3FC;\n",
              "      --hover-bg-color: #434B5C;\n",
              "      --hover-fill-color: #FFFFFF;\n",
              "      --disabled-bg-color: #3B4455;\n",
              "      --disabled-fill-color: #666;\n",
              "  }\n",
              "\n",
              "  .colab-df-quickchart {\n",
              "    background-color: var(--bg-color);\n",
              "    border: none;\n",
              "    border-radius: 50%;\n",
              "    cursor: pointer;\n",
              "    display: none;\n",
              "    fill: var(--fill-color);\n",
              "    height: 32px;\n",
              "    padding: 0;\n",
              "    width: 32px;\n",
              "  }\n",
              "\n",
              "  .colab-df-quickchart:hover {\n",
              "    background-color: var(--hover-bg-color);\n",
              "    box-shadow: 0 1px 2px rgba(60, 64, 67, 0.3), 0 1px 3px 1px rgba(60, 64, 67, 0.15);\n",
              "    fill: var(--button-hover-fill-color);\n",
              "  }\n",
              "\n",
              "  .colab-df-quickchart-complete:disabled,\n",
              "  .colab-df-quickchart-complete:disabled:hover {\n",
              "    background-color: var(--disabled-bg-color);\n",
              "    fill: var(--disabled-fill-color);\n",
              "    box-shadow: none;\n",
              "  }\n",
              "\n",
              "  .colab-df-spinner {\n",
              "    border: 2px solid var(--fill-color);\n",
              "    border-color: transparent;\n",
              "    border-bottom-color: var(--fill-color);\n",
              "    animation:\n",
              "      spin 1s steps(1) infinite;\n",
              "  }\n",
              "\n",
              "  @keyframes spin {\n",
              "    0% {\n",
              "      border-color: transparent;\n",
              "      border-bottom-color: var(--fill-color);\n",
              "      border-left-color: var(--fill-color);\n",
              "    }\n",
              "    20% {\n",
              "      border-color: transparent;\n",
              "      border-left-color: var(--fill-color);\n",
              "      border-top-color: var(--fill-color);\n",
              "    }\n",
              "    30% {\n",
              "      border-color: transparent;\n",
              "      border-left-color: var(--fill-color);\n",
              "      border-top-color: var(--fill-color);\n",
              "      border-right-color: var(--fill-color);\n",
              "    }\n",
              "    40% {\n",
              "      border-color: transparent;\n",
              "      border-right-color: var(--fill-color);\n",
              "      border-top-color: var(--fill-color);\n",
              "    }\n",
              "    60% {\n",
              "      border-color: transparent;\n",
              "      border-right-color: var(--fill-color);\n",
              "    }\n",
              "    80% {\n",
              "      border-color: transparent;\n",
              "      border-right-color: var(--fill-color);\n",
              "      border-bottom-color: var(--fill-color);\n",
              "    }\n",
              "    90% {\n",
              "      border-color: transparent;\n",
              "      border-bottom-color: var(--fill-color);\n",
              "    }\n",
              "  }\n",
              "</style>\n",
              "\n",
              "  <script>\n",
              "    async function quickchart(key) {\n",
              "      const quickchartButtonEl =\n",
              "        document.querySelector('#' + key + ' button');\n",
              "      quickchartButtonEl.disabled = true;  // To prevent multiple clicks.\n",
              "      quickchartButtonEl.classList.add('colab-df-spinner');\n",
              "      try {\n",
              "        const charts = await google.colab.kernel.invokeFunction(\n",
              "            'suggestCharts', [key], {});\n",
              "      } catch (error) {\n",
              "        console.error('Error during call to suggestCharts:', error);\n",
              "      }\n",
              "      quickchartButtonEl.classList.remove('colab-df-spinner');\n",
              "      quickchartButtonEl.classList.add('colab-df-quickchart-complete');\n",
              "    }\n",
              "    (() => {\n",
              "      let quickchartButtonEl =\n",
              "        document.querySelector('#df-666be7fd-c38e-4933-ba1b-3721b8fd944d button');\n",
              "      quickchartButtonEl.style.display =\n",
              "        google.colab.kernel.accessAllowed ? 'block' : 'none';\n",
              "    })();\n",
              "  </script>\n",
              "</div>\n",
              "\n",
              "    </div>\n",
              "  </div>\n"
            ],
            "application/vnd.google.colaboratory.intrinsic+json": {
              "type": "dataframe",
              "variable_name": "df_resampled"
            }
          },
          "metadata": {},
          "execution_count": 3
        }
      ]
    },
    {
      "cell_type": "markdown",
      "source": [
        "## Step 3: Feature Scaling (Normalization)\n",
        "\n",
        "To prepare the data for training a deep learning model, we normalize all features to a common scale.\n",
        "\n",
        "- We'll use `MinMaxScaler` to scale all features between 0 and 1\n",
        "- This helps the model train faster and prevents features with large values from dominating the learning\n",
        "- We keep the scaler object to inverse-transform predictions later\n"
      ],
      "metadata": {
        "id": "nsiwQqC7Suxo"
      }
    },
    {
      "cell_type": "code",
      "source": [
        "from sklearn.preprocessing import MinMaxScaler\n",
        "\n",
        "# Initialize the scaler\n",
        "scaler = MinMaxScaler()\n",
        "\n",
        "# Fit and transform the resampled data\n",
        "scaled_data = scaler.fit_transform(df_resampled)\n",
        "\n",
        "# Convert back to DataFrame to preserve column names and structure\n",
        "df_scaled = pd.DataFrame(scaled_data, columns=df_resampled.columns, index=df_resampled.index)\n",
        "\n",
        "# Preview scaled data\n",
        "df_scaled.head()\n"
      ],
      "metadata": {
        "colab": {
          "base_uri": "https://localhost:8080/",
          "height": 237
        },
        "id": "yH3OxZL9ojXK",
        "outputId": "2ba2cb55-fe47-4767-f5dc-6343270bf452"
      },
      "execution_count": null,
      "outputs": [
        {
          "output_type": "execute_result",
          "data": {
            "text/plain": [
              "                     Global_active_power  Global_reactive_power   Voltage  \\\n",
              "Datetime                                                                    \n",
              "2006-12-16 17:20:00             0.429205               0.389199  0.363893   \n",
              "2006-12-16 17:25:00             0.475406               0.462942  0.344360   \n",
              "2006-12-16 17:30:00             0.389806               0.476350  0.342022   \n",
              "2006-12-16 17:35:00             0.476111               0.381750  0.342297   \n",
              "2006-12-16 17:40:00             0.398266               0.057356  0.400000   \n",
              "\n",
              "                     Global_intensity  Sub_metering_1  Sub_metering_2  \\\n",
              "Datetime                                                                \n",
              "2006-12-16 17:20:00          0.435407             0.0        0.012626   \n",
              "2006-12-16 17:25:00          0.472727             0.0        0.017677   \n",
              "2006-12-16 17:30:00          0.391388             0.0        0.015152   \n",
              "2006-12-16 17:35:00          0.473684             0.0        0.012626   \n",
              "2006-12-16 17:40:00          0.396172             0.0        0.000000   \n",
              "\n",
              "                     Sub_metering_3  \n",
              "Datetime                             \n",
              "2006-12-16 17:20:00        0.548387  \n",
              "2006-12-16 17:25:00        0.541935  \n",
              "2006-12-16 17:30:00        0.541935  \n",
              "2006-12-16 17:35:00        0.541935  \n",
              "2006-12-16 17:40:00        0.548387  "
            ],
            "text/html": [
              "\n",
              "  <div id=\"df-c0be854e-dc43-4527-a7c9-840c3d3f436d\" class=\"colab-df-container\">\n",
              "    <div>\n",
              "<style scoped>\n",
              "    .dataframe tbody tr th:only-of-type {\n",
              "        vertical-align: middle;\n",
              "    }\n",
              "\n",
              "    .dataframe tbody tr th {\n",
              "        vertical-align: top;\n",
              "    }\n",
              "\n",
              "    .dataframe thead th {\n",
              "        text-align: right;\n",
              "    }\n",
              "</style>\n",
              "<table border=\"1\" class=\"dataframe\">\n",
              "  <thead>\n",
              "    <tr style=\"text-align: right;\">\n",
              "      <th></th>\n",
              "      <th>Global_active_power</th>\n",
              "      <th>Global_reactive_power</th>\n",
              "      <th>Voltage</th>\n",
              "      <th>Global_intensity</th>\n",
              "      <th>Sub_metering_1</th>\n",
              "      <th>Sub_metering_2</th>\n",
              "      <th>Sub_metering_3</th>\n",
              "    </tr>\n",
              "    <tr>\n",
              "      <th>Datetime</th>\n",
              "      <th></th>\n",
              "      <th></th>\n",
              "      <th></th>\n",
              "      <th></th>\n",
              "      <th></th>\n",
              "      <th></th>\n",
              "      <th></th>\n",
              "    </tr>\n",
              "  </thead>\n",
              "  <tbody>\n",
              "    <tr>\n",
              "      <th>2006-12-16 17:20:00</th>\n",
              "      <td>0.429205</td>\n",
              "      <td>0.389199</td>\n",
              "      <td>0.363893</td>\n",
              "      <td>0.435407</td>\n",
              "      <td>0.0</td>\n",
              "      <td>0.012626</td>\n",
              "      <td>0.548387</td>\n",
              "    </tr>\n",
              "    <tr>\n",
              "      <th>2006-12-16 17:25:00</th>\n",
              "      <td>0.475406</td>\n",
              "      <td>0.462942</td>\n",
              "      <td>0.344360</td>\n",
              "      <td>0.472727</td>\n",
              "      <td>0.0</td>\n",
              "      <td>0.017677</td>\n",
              "      <td>0.541935</td>\n",
              "    </tr>\n",
              "    <tr>\n",
              "      <th>2006-12-16 17:30:00</th>\n",
              "      <td>0.389806</td>\n",
              "      <td>0.476350</td>\n",
              "      <td>0.342022</td>\n",
              "      <td>0.391388</td>\n",
              "      <td>0.0</td>\n",
              "      <td>0.015152</td>\n",
              "      <td>0.541935</td>\n",
              "    </tr>\n",
              "    <tr>\n",
              "      <th>2006-12-16 17:35:00</th>\n",
              "      <td>0.476111</td>\n",
              "      <td>0.381750</td>\n",
              "      <td>0.342297</td>\n",
              "      <td>0.473684</td>\n",
              "      <td>0.0</td>\n",
              "      <td>0.012626</td>\n",
              "      <td>0.541935</td>\n",
              "    </tr>\n",
              "    <tr>\n",
              "      <th>2006-12-16 17:40:00</th>\n",
              "      <td>0.398266</td>\n",
              "      <td>0.057356</td>\n",
              "      <td>0.400000</td>\n",
              "      <td>0.396172</td>\n",
              "      <td>0.0</td>\n",
              "      <td>0.000000</td>\n",
              "      <td>0.548387</td>\n",
              "    </tr>\n",
              "  </tbody>\n",
              "</table>\n",
              "</div>\n",
              "    <div class=\"colab-df-buttons\">\n",
              "\n",
              "  <div class=\"colab-df-container\">\n",
              "    <button class=\"colab-df-convert\" onclick=\"convertToInteractive('df-c0be854e-dc43-4527-a7c9-840c3d3f436d')\"\n",
              "            title=\"Convert this dataframe to an interactive table.\"\n",
              "            style=\"display:none;\">\n",
              "\n",
              "  <svg xmlns=\"http://www.w3.org/2000/svg\" height=\"24px\" viewBox=\"0 -960 960 960\">\n",
              "    <path d=\"M120-120v-720h720v720H120Zm60-500h600v-160H180v160Zm220 220h160v-160H400v160Zm0 220h160v-160H400v160ZM180-400h160v-160H180v160Zm440 0h160v-160H620v160ZM180-180h160v-160H180v160Zm440 0h160v-160H620v160Z\"/>\n",
              "  </svg>\n",
              "    </button>\n",
              "\n",
              "  <style>\n",
              "    .colab-df-container {\n",
              "      display:flex;\n",
              "      gap: 12px;\n",
              "    }\n",
              "\n",
              "    .colab-df-convert {\n",
              "      background-color: #E8F0FE;\n",
              "      border: none;\n",
              "      border-radius: 50%;\n",
              "      cursor: pointer;\n",
              "      display: none;\n",
              "      fill: #1967D2;\n",
              "      height: 32px;\n",
              "      padding: 0 0 0 0;\n",
              "      width: 32px;\n",
              "    }\n",
              "\n",
              "    .colab-df-convert:hover {\n",
              "      background-color: #E2EBFA;\n",
              "      box-shadow: 0px 1px 2px rgba(60, 64, 67, 0.3), 0px 1px 3px 1px rgba(60, 64, 67, 0.15);\n",
              "      fill: #174EA6;\n",
              "    }\n",
              "\n",
              "    .colab-df-buttons div {\n",
              "      margin-bottom: 4px;\n",
              "    }\n",
              "\n",
              "    [theme=dark] .colab-df-convert {\n",
              "      background-color: #3B4455;\n",
              "      fill: #D2E3FC;\n",
              "    }\n",
              "\n",
              "    [theme=dark] .colab-df-convert:hover {\n",
              "      background-color: #434B5C;\n",
              "      box-shadow: 0px 1px 3px 1px rgba(0, 0, 0, 0.15);\n",
              "      filter: drop-shadow(0px 1px 2px rgba(0, 0, 0, 0.3));\n",
              "      fill: #FFFFFF;\n",
              "    }\n",
              "  </style>\n",
              "\n",
              "    <script>\n",
              "      const buttonEl =\n",
              "        document.querySelector('#df-c0be854e-dc43-4527-a7c9-840c3d3f436d button.colab-df-convert');\n",
              "      buttonEl.style.display =\n",
              "        google.colab.kernel.accessAllowed ? 'block' : 'none';\n",
              "\n",
              "      async function convertToInteractive(key) {\n",
              "        const element = document.querySelector('#df-c0be854e-dc43-4527-a7c9-840c3d3f436d');\n",
              "        const dataTable =\n",
              "          await google.colab.kernel.invokeFunction('convertToInteractive',\n",
              "                                                    [key], {});\n",
              "        if (!dataTable) return;\n",
              "\n",
              "        const docLinkHtml = 'Like what you see? Visit the ' +\n",
              "          '<a target=\"_blank\" href=https://colab.research.google.com/notebooks/data_table.ipynb>data table notebook</a>'\n",
              "          + ' to learn more about interactive tables.';\n",
              "        element.innerHTML = '';\n",
              "        dataTable['output_type'] = 'display_data';\n",
              "        await google.colab.output.renderOutput(dataTable, element);\n",
              "        const docLink = document.createElement('div');\n",
              "        docLink.innerHTML = docLinkHtml;\n",
              "        element.appendChild(docLink);\n",
              "      }\n",
              "    </script>\n",
              "  </div>\n",
              "\n",
              "\n",
              "<div id=\"df-72980353-2a7a-426f-a516-53eb50e84f5c\">\n",
              "  <button class=\"colab-df-quickchart\" onclick=\"quickchart('df-72980353-2a7a-426f-a516-53eb50e84f5c')\"\n",
              "            title=\"Suggest charts\"\n",
              "            style=\"display:none;\">\n",
              "\n",
              "<svg xmlns=\"http://www.w3.org/2000/svg\" height=\"24px\"viewBox=\"0 0 24 24\"\n",
              "     width=\"24px\">\n",
              "    <g>\n",
              "        <path d=\"M19 3H5c-1.1 0-2 .9-2 2v14c0 1.1.9 2 2 2h14c1.1 0 2-.9 2-2V5c0-1.1-.9-2-2-2zM9 17H7v-7h2v7zm4 0h-2V7h2v10zm4 0h-2v-4h2v4z\"/>\n",
              "    </g>\n",
              "</svg>\n",
              "  </button>\n",
              "\n",
              "<style>\n",
              "  .colab-df-quickchart {\n",
              "      --bg-color: #E8F0FE;\n",
              "      --fill-color: #1967D2;\n",
              "      --hover-bg-color: #E2EBFA;\n",
              "      --hover-fill-color: #174EA6;\n",
              "      --disabled-fill-color: #AAA;\n",
              "      --disabled-bg-color: #DDD;\n",
              "  }\n",
              "\n",
              "  [theme=dark] .colab-df-quickchart {\n",
              "      --bg-color: #3B4455;\n",
              "      --fill-color: #D2E3FC;\n",
              "      --hover-bg-color: #434B5C;\n",
              "      --hover-fill-color: #FFFFFF;\n",
              "      --disabled-bg-color: #3B4455;\n",
              "      --disabled-fill-color: #666;\n",
              "  }\n",
              "\n",
              "  .colab-df-quickchart {\n",
              "    background-color: var(--bg-color);\n",
              "    border: none;\n",
              "    border-radius: 50%;\n",
              "    cursor: pointer;\n",
              "    display: none;\n",
              "    fill: var(--fill-color);\n",
              "    height: 32px;\n",
              "    padding: 0;\n",
              "    width: 32px;\n",
              "  }\n",
              "\n",
              "  .colab-df-quickchart:hover {\n",
              "    background-color: var(--hover-bg-color);\n",
              "    box-shadow: 0 1px 2px rgba(60, 64, 67, 0.3), 0 1px 3px 1px rgba(60, 64, 67, 0.15);\n",
              "    fill: var(--button-hover-fill-color);\n",
              "  }\n",
              "\n",
              "  .colab-df-quickchart-complete:disabled,\n",
              "  .colab-df-quickchart-complete:disabled:hover {\n",
              "    background-color: var(--disabled-bg-color);\n",
              "    fill: var(--disabled-fill-color);\n",
              "    box-shadow: none;\n",
              "  }\n",
              "\n",
              "  .colab-df-spinner {\n",
              "    border: 2px solid var(--fill-color);\n",
              "    border-color: transparent;\n",
              "    border-bottom-color: var(--fill-color);\n",
              "    animation:\n",
              "      spin 1s steps(1) infinite;\n",
              "  }\n",
              "\n",
              "  @keyframes spin {\n",
              "    0% {\n",
              "      border-color: transparent;\n",
              "      border-bottom-color: var(--fill-color);\n",
              "      border-left-color: var(--fill-color);\n",
              "    }\n",
              "    20% {\n",
              "      border-color: transparent;\n",
              "      border-left-color: var(--fill-color);\n",
              "      border-top-color: var(--fill-color);\n",
              "    }\n",
              "    30% {\n",
              "      border-color: transparent;\n",
              "      border-left-color: var(--fill-color);\n",
              "      border-top-color: var(--fill-color);\n",
              "      border-right-color: var(--fill-color);\n",
              "    }\n",
              "    40% {\n",
              "      border-color: transparent;\n",
              "      border-right-color: var(--fill-color);\n",
              "      border-top-color: var(--fill-color);\n",
              "    }\n",
              "    60% {\n",
              "      border-color: transparent;\n",
              "      border-right-color: var(--fill-color);\n",
              "    }\n",
              "    80% {\n",
              "      border-color: transparent;\n",
              "      border-right-color: var(--fill-color);\n",
              "      border-bottom-color: var(--fill-color);\n",
              "    }\n",
              "    90% {\n",
              "      border-color: transparent;\n",
              "      border-bottom-color: var(--fill-color);\n",
              "    }\n",
              "  }\n",
              "</style>\n",
              "\n",
              "  <script>\n",
              "    async function quickchart(key) {\n",
              "      const quickchartButtonEl =\n",
              "        document.querySelector('#' + key + ' button');\n",
              "      quickchartButtonEl.disabled = true;  // To prevent multiple clicks.\n",
              "      quickchartButtonEl.classList.add('colab-df-spinner');\n",
              "      try {\n",
              "        const charts = await google.colab.kernel.invokeFunction(\n",
              "            'suggestCharts', [key], {});\n",
              "      } catch (error) {\n",
              "        console.error('Error during call to suggestCharts:', error);\n",
              "      }\n",
              "      quickchartButtonEl.classList.remove('colab-df-spinner');\n",
              "      quickchartButtonEl.classList.add('colab-df-quickchart-complete');\n",
              "    }\n",
              "    (() => {\n",
              "      let quickchartButtonEl =\n",
              "        document.querySelector('#df-72980353-2a7a-426f-a516-53eb50e84f5c button');\n",
              "      quickchartButtonEl.style.display =\n",
              "        google.colab.kernel.accessAllowed ? 'block' : 'none';\n",
              "    })();\n",
              "  </script>\n",
              "</div>\n",
              "\n",
              "    </div>\n",
              "  </div>\n"
            ],
            "application/vnd.google.colaboratory.intrinsic+json": {
              "type": "dataframe",
              "variable_name": "df_scaled"
            }
          },
          "metadata": {},
          "execution_count": 4
        }
      ]
    },
    {
      "cell_type": "markdown",
      "source": [
        "## Step 4: Creating Sliding Windows for Supervised Learning\n",
        "\n",
        "Neural networks like RNNs expect input data to be in the form of sequences. Since our data is a continuous time series, we convert it into a supervised learning problem using sliding windows.\n",
        "\n",
        "Here's what we do:\n",
        "\n",
        "- We define a `sequence_length` — how many past time steps to include as input (e.g., 12 past readings)\n",
        "- For every window of `sequence_length` timesteps, we extract:\n",
        "  - An input `X` of shape `(sequence_length, num_features)`\n",
        "  - A target `y`, which is the value of **`Global_active_power` at the next time step (t+1)`**\n",
        "- This results in a dataset of `(num_samples, sequence_length, num_features)` input sequences and a `(num_samples,)` target array\n",
        "- This structure is ideal for feeding into RNNs or CNNs\n",
        "\n",
        "We'll also split the data into `train`, `validation`, and `test` sets after creating the windows.\n"
      ],
      "metadata": {
        "id": "pjdtnLbBSyFl"
      }
    },
    {
      "cell_type": "code",
      "source": [
        "import numpy as np\n",
        "\n",
        "# Set parameters\n",
        "sequence_length = 12  # 12 timesteps (60 minutes if 5-minute intervals)\n",
        "target_column = 'Global_active_power'\n",
        "\n",
        "# Convert to NumPy array for faster slicing\n",
        "values = df_scaled.values\n",
        "target_index = df_scaled.columns.get_loc(target_column)\n",
        "\n",
        "X, y = [], []\n",
        "\n",
        "for i in range(len(values) - sequence_length):\n",
        "    X.append(values[i:i+sequence_length])                  # all features for seq_len\n",
        "    y.append(values[i+sequence_length, target_index])      # target at t+1\n",
        "\n",
        "X = np.array(X)\n",
        "y = np.array(y)\n",
        "\n",
        "print(f\"X shape: {X.shape} — (samples, seq_len, num_features)\")\n",
        "print(f\"y shape: {y.shape} — (samples,)\")\n",
        "\n",
        "# Quick sanity check\n",
        "print(\"\\nExample input sequence shape:\", X[0].shape)\n",
        "print(\"Corresponding target value:\", y[0])\n"
      ],
      "metadata": {
        "colab": {
          "base_uri": "https://localhost:8080/"
        },
        "id": "wzowmoU_ooT-",
        "outputId": "f9017133-f031-49b8-d844-b2af5af1ca10"
      },
      "execution_count": null,
      "outputs": [
        {
          "output_type": "stream",
          "name": "stdout",
          "text": [
            "X shape: (415041, 12, 7) — (samples, seq_len, num_features)\n",
            "y shape: (415041,) — (samples,)\n",
            "\n",
            "Example input sequence shape: (12, 7)\n",
            "Corresponding target value: 0.3068596549435965\n"
          ]
        }
      ]
    },
    {
      "cell_type": "markdown",
      "source": [
        "## Step 5: Train/Test Split\n",
        "\n",
        "To evaluate our forecasting model, we split the dataset into a training set and a test set.\n",
        "\n",
        "- We use an **80/20 chronological split** to ensure that the model is trained on past data and tested on future data (important in time series forecasting).\n",
        "- We do **not shuffle** the data because doing so would break the temporal order.\n"
      ],
      "metadata": {
        "id": "S9u6_uv-S1u1"
      }
    },
    {
      "cell_type": "code",
      "source": [
        "# Define split index (80% train, 20% test)\n",
        "split_idx = int(len(X) * 0.8)\n",
        "\n",
        "X_train, X_test = X[:split_idx], X[split_idx:]\n",
        "y_train, y_test = y[:split_idx], y[split_idx:]\n",
        "\n",
        "print(f\"Train set: {X_train.shape}, {y_train.shape}\")\n",
        "print(f\"Test set: {X_test.shape}, {y_test.shape}\")\n"
      ],
      "metadata": {
        "colab": {
          "base_uri": "https://localhost:8080/"
        },
        "id": "14Z3PeTkortE",
        "outputId": "7723be70-7193-439d-897e-60b672980486"
      },
      "execution_count": null,
      "outputs": [
        {
          "output_type": "stream",
          "name": "stdout",
          "text": [
            "Train set: (332032, 12, 7), (332032,)\n",
            "Test set: (83009, 12, 7), (83009,)\n"
          ]
        }
      ]
    },
    {
      "cell_type": "markdown",
      "source": [
        "## Step 6: Define PyTorch LSTM Model and Training Function with W&B Logging\n",
        "\n",
        "In this step, we:\n",
        "\n",
        "- Define an LSTM model using PyTorch for forecasting `Global_active_power`\n",
        "- Wrap the training loop in a sweep-compatible `train()` function\n",
        "- Track:\n",
        "  - Training loss, accuracy, precision, recall, F1 score\n",
        "  - Final test loss + metrics\n",
        "  - Confusion matrix (by thresholding outputs)\n",
        "  - Model artifact for best-performing model\n",
        "- Log dataset details automatically within each W&B run\n"
      ],
      "metadata": {
        "id": "BaeEFhR9S4l4"
      }
    },
    {
      "cell_type": "code",
      "source": [
        "import torch\n",
        "import torch.nn as nn\n",
        "from sklearn.metrics import mean_squared_error, mean_absolute_error, r2_score\n",
        "import wandb\n",
        "import numpy as np\n",
        "\n",
        "device = torch.device(\"cuda\" if torch.cuda.is_available() else \"cpu\")\n",
        "\n",
        "# Define PyTorch LSTM model\n",
        "class LSTMForecaster(nn.Module):\n",
        "    def __init__(self, input_size, hidden_size, num_layers, dropout):\n",
        "        super(LSTMForecaster, self).__init__()\n",
        "        self.lstm = nn.LSTM(input_size, hidden_size, num_layers, batch_first=True, dropout=dropout)\n",
        "        self.fc = nn.Linear(hidden_size, 1)\n",
        "\n",
        "    def forward(self, x):\n",
        "        out, _ = self.lstm(x)\n",
        "        out = self.fc(out[:, -1])\n",
        "        return out.squeeze(1)\n",
        "\n",
        "# Sweep-compatible training function\n",
        "def train(config=None):\n",
        "    with wandb.init(config=config) as run:\n",
        "        config = run.config\n",
        "\n",
        "        # Dataset info logging\n",
        "        run.log({\n",
        "            \"dataset_name\": \"Household Electric Power Consumption (resampled 5-min)\",\n",
        "            \"sequence_length\": config.sequence_length,\n",
        "            \"features\": list(df_scaled.columns),\n",
        "            \"train_size\": X_train.shape[0],\n",
        "            \"test_size\": X_test.shape[0],\n",
        "            \"sample_input_sequence\": wandb.Table(\n",
        "                data=X_train[:5].reshape(5, -1),\n",
        "                columns=[f\"f{i}\" for i in range(X_train.shape[1] * X_train.shape[2])]\n",
        "            ),\n",
        "            \"sample_targets\": wandb.Histogram(y_train[:100])\n",
        "        })\n",
        "\n",
        "        # Model\n",
        "        model = LSTMForecaster(\n",
        "            input_size=X_train.shape[2],\n",
        "            hidden_size=config.hidden_size,\n",
        "            num_layers=config.num_layers,\n",
        "            dropout=config.dropout\n",
        "        ).to(device)\n",
        "\n",
        "        wandb.watch(model)\n",
        "\n",
        "        # DataLoader\n",
        "        train_data = torch.utils.data.TensorDataset(\n",
        "            torch.tensor(X_train, dtype=torch.float32),\n",
        "            torch.tensor(y_train, dtype=torch.float32)\n",
        "        )\n",
        "        test_data = torch.utils.data.TensorDataset(\n",
        "            torch.tensor(X_test, dtype=torch.float32),\n",
        "            torch.tensor(y_test, dtype=torch.float32)\n",
        "        )\n",
        "        train_loader = torch.utils.data.DataLoader(train_data, batch_size=config.batch_size, shuffle=False)\n",
        "        test_loader = torch.utils.data.DataLoader(test_data, batch_size=config.batch_size, shuffle=False)\n",
        "\n",
        "        # Training setup\n",
        "        criterion = nn.MSELoss()\n",
        "        optimizer = torch.optim.Adam(model.parameters(), lr=config.learning_rate)\n",
        "        best_mse = float(\"inf\")\n",
        "\n",
        "        for epoch in range(config.epochs):\n",
        "            model.train()\n",
        "            train_losses = []\n",
        "            for xb, yb in train_loader:\n",
        "                xb, yb = xb.to(device), yb.to(device)\n",
        "                optimizer.zero_grad()\n",
        "                y_pred = model(xb)\n",
        "                loss = criterion(y_pred, yb)\n",
        "                loss.backward()\n",
        "                optimizer.step()\n",
        "                train_losses.append(loss.item())\n",
        "\n",
        "            # Evaluation\n",
        "            model.eval()\n",
        "            y_preds, y_trues = [], []\n",
        "            with torch.no_grad():\n",
        "                for xb, yb in test_loader:\n",
        "                    xb = xb.to(device)\n",
        "                    y_pred = model(xb).cpu().numpy()\n",
        "                    y_preds.extend(y_pred)\n",
        "                    y_trues.extend(yb.numpy())\n",
        "\n",
        "            mse = mean_squared_error(y_trues, y_preds)\n",
        "            mae = mean_absolute_error(y_trues, y_preds)\n",
        "            r2 = r2_score(y_trues, y_preds)\n",
        "\n",
        "            # Log per-epoch metrics\n",
        "            wandb.log({\n",
        "                \"epoch\": epoch + 1,\n",
        "                \"train_loss\": np.mean(train_losses),\n",
        "                \"val_mse\": mse,\n",
        "                \"val_mae\": mae,\n",
        "                \"val_r2\": r2\n",
        "            })\n",
        "\n",
        "            # Save best model based on MSE\n",
        "            if mse < best_mse:\n",
        "                best_mse = mse\n",
        "                torch.save(model.state_dict(), \"best_model.pt\")\n",
        "\n",
        "        # Final evaluation on test set\n",
        "        final_mse = mean_squared_error(y_trues, y_preds)\n",
        "        final_mae = mean_absolute_error(y_trues, y_preds)\n",
        "        final_r2 = r2_score(y_trues, y_preds)\n",
        "\n",
        "        # Log final evaluation metrics\n",
        "        wandb.log({\n",
        "            \"final_mse\": final_mse,\n",
        "            \"final_mae\": final_mae,\n",
        "            \"final_r2\": final_r2\n",
        "        })\n",
        "\n",
        "        # Log to summary for sweep comparison table\n",
        "        run.summary[\"best_val_mse\"] = best_mse\n",
        "        run.summary[\"final_val_mse\"] = final_mse\n",
        "        run.summary[\"final_val_mae\"] = final_mae\n",
        "        run.summary[\"final_val_r2\"] = final_r2\n",
        "\n",
        "        # Upload model artifact\n",
        "        artifact = wandb.Artifact(\"lstm_forecasting_model\", type=\"model\")\n",
        "        artifact.add_file(\"best_model.pt\")\n",
        "        run.log_artifact(artifact)\n"
      ],
      "metadata": {
        "id": "IXhjDEODoxQX"
      },
      "execution_count": null,
      "outputs": []
    },
    {
      "cell_type": "markdown",
      "source": [
        "## Step 7: Define and Launch W&B Sweep\n",
        "\n",
        "We now define a hyperparameter sweep using Weights & Biases to optimize our LSTM model.\n",
        "\n",
        "### 🔍 Sweep Variables:\n",
        "\n",
        "| Hyperparameter | Description | Values |\n",
        "|----------------|-------------|--------|\n",
        "| `learning_rate` | How fast the model learns | [0.001, 0.005, 0.01] |\n",
        "| `hidden_size` | Size of LSTM's memory | [32, 64, 128] |\n",
        "| `dropout` | Dropout to prevent overfitting | [0.1, 0.3, 0.5] |\n",
        "| `batch_size` | Batch size for training | [32, 64] |\n",
        "| `num_layers` | Number of LSTM layers | [1, 2] |\n",
        "| `epochs` | Number of training epochs | 10 (fixed) |\n",
        "\n",
        "The sweep will use **Bayesian optimization**, targeting **maximum F1-score**.\n"
      ],
      "metadata": {
        "id": "BinO12grS8h4"
      }
    },
    {
      "cell_type": "code",
      "source": [
        "sweep_config = {\n",
        "    'method': 'bayes',  # You can switch to 'random' for faster results\n",
        "    'metric': {\n",
        "        'name': 'final_mse',   # ✅ This is what we now track and want to minimize\n",
        "        'goal': 'minimize'\n",
        "    },\n",
        "    'parameters': {\n",
        "        'learning_rate': {\n",
        "            'values': [0.001, 0.005, 0.01]\n",
        "        },\n",
        "        'hidden_size': {\n",
        "            'values': [32, 64, 128]\n",
        "        },\n",
        "        'dropout': {\n",
        "            'values': [0.1, 0.3, 0.5]\n",
        "        },\n",
        "        'batch_size': {\n",
        "            'values': [32, 64]\n",
        "        },\n",
        "        'num_layers': {\n",
        "            'values': [1, 2]\n",
        "        },\n",
        "        'epochs': {\n",
        "            'value': 10  # fixed across all runs\n",
        "        },\n",
        "        'sequence_length': {\n",
        "            'value': 12  # just for logging clarity\n",
        "        },\n",
        "        'features': {\n",
        "            'value': list(df_scaled.columns)  # static for logging\n",
        "        }\n",
        "    }\n",
        "}\n",
        "\n",
        "# Initialize sweep\n",
        "sweep_id = wandb.sweep(sweep_config, project=\"GoTG_Assignment06_RNN_Take2\", entity=\"usf-guardians\")\n",
        "print(\"Sweep initialized with ID:\", sweep_id)\n",
        "\n",
        "# Launch agent – this will run 10 sweep iterations using the `train()` function\n",
        "wandb.agent(sweep_id, function=train, count=10)\n"
      ],
      "metadata": {
        "colab": {
          "base_uri": "https://localhost:8080/",
          "height": 1000
        },
        "id": "vpjfa3wMpGDL",
        "outputId": "e4d52633-31d6-4d2f-af56-6c0cc9ce406c"
      },
      "execution_count": null,
      "outputs": [
        {
          "output_type": "stream",
          "name": "stderr",
          "text": [
            "\u001b[34m\u001b[1mwandb\u001b[0m: Using wandb-core as the SDK backend.  Please refer to https://wandb.me/wandb-core for more information.\n"
          ]
        },
        {
          "output_type": "display_data",
          "data": {
            "text/plain": [
              "<IPython.core.display.Javascript object>"
            ],
            "application/javascript": [
              "\n",
              "        window._wandbApiKey = new Promise((resolve, reject) => {\n",
              "            function loadScript(url) {\n",
              "            return new Promise(function(resolve, reject) {\n",
              "                let newScript = document.createElement(\"script\");\n",
              "                newScript.onerror = reject;\n",
              "                newScript.onload = resolve;\n",
              "                document.body.appendChild(newScript);\n",
              "                newScript.src = url;\n",
              "            });\n",
              "            }\n",
              "            loadScript(\"https://cdn.jsdelivr.net/npm/postmate/build/postmate.min.js\").then(() => {\n",
              "            const iframe = document.createElement('iframe')\n",
              "            iframe.style.cssText = \"width:0;height:0;border:none\"\n",
              "            document.body.appendChild(iframe)\n",
              "            const handshake = new Postmate({\n",
              "                container: iframe,\n",
              "                url: 'https://wandb.ai/authorize'\n",
              "            });\n",
              "            const timeout = setTimeout(() => reject(\"Couldn't auto authenticate\"), 5000)\n",
              "            handshake.then(function(child) {\n",
              "                child.on('authorize', data => {\n",
              "                    clearTimeout(timeout)\n",
              "                    resolve(data)\n",
              "                });\n",
              "            });\n",
              "            })\n",
              "        });\n",
              "    "
            ]
          },
          "metadata": {}
        },
        {
          "output_type": "stream",
          "name": "stderr",
          "text": [
            "\u001b[34m\u001b[1mwandb\u001b[0m: Logging into wandb.ai. (Learn how to deploy a W&B server locally: https://wandb.me/wandb-server)\n",
            "\u001b[34m\u001b[1mwandb\u001b[0m: You can find your API key in your browser here: https://wandb.ai/authorize\n",
            "wandb: Paste an API key from your profile and hit enter:"
          ]
        },
        {
          "name": "stdout",
          "output_type": "stream",
          "text": [
            " ··········\n"
          ]
        },
        {
          "output_type": "stream",
          "name": "stderr",
          "text": [
            "\u001b[34m\u001b[1mwandb\u001b[0m: \u001b[33mWARNING\u001b[0m If you're specifying your api key in code, ensure this code is not shared publicly.\n",
            "\u001b[34m\u001b[1mwandb\u001b[0m: \u001b[33mWARNING\u001b[0m Consider setting the WANDB_API_KEY environment variable, or running `wandb login` from the command line.\n",
            "\u001b[34m\u001b[1mwandb\u001b[0m: No netrc file found, creating one.\n",
            "\u001b[34m\u001b[1mwandb\u001b[0m: Appending key for api.wandb.ai to your netrc file: /root/.netrc\n"
          ]
        },
        {
          "output_type": "stream",
          "name": "stdout",
          "text": [
            "Create sweep with ID: 295fthxo\n",
            "Sweep URL: https://wandb.ai/usf-guardians/GoTG_Assignment06_RNN_Take2/sweeps/295fthxo\n",
            "Sweep initialized with ID: 295fthxo\n"
          ]
        },
        {
          "output_type": "stream",
          "name": "stderr",
          "text": [
            "\u001b[34m\u001b[1mwandb\u001b[0m: Agent Starting Run: nykfkeh8 with config:\n",
            "\u001b[34m\u001b[1mwandb\u001b[0m: \tbatch_size: 32\n",
            "\u001b[34m\u001b[1mwandb\u001b[0m: \tdropout: 0.3\n",
            "\u001b[34m\u001b[1mwandb\u001b[0m: \tepochs: 10\n",
            "\u001b[34m\u001b[1mwandb\u001b[0m: \tfeatures: ['Global_active_power', 'Global_reactive_power', 'Voltage', 'Global_intensity', 'Sub_metering_1', 'Sub_metering_2', 'Sub_metering_3']\n",
            "\u001b[34m\u001b[1mwandb\u001b[0m: \thidden_size: 128\n",
            "\u001b[34m\u001b[1mwandb\u001b[0m: \tlearning_rate: 0.01\n",
            "\u001b[34m\u001b[1mwandb\u001b[0m: \tnum_layers: 2\n",
            "\u001b[34m\u001b[1mwandb\u001b[0m: \tsequence_length: 12\n",
            "\u001b[34m\u001b[1mwandb\u001b[0m: Currently logged in as: \u001b[33mprincepraveen\u001b[0m (\u001b[33musf-guardians\u001b[0m) to \u001b[32mhttps://api.wandb.ai\u001b[0m. Use \u001b[1m`wandb login --relogin`\u001b[0m to force relogin\n"
          ]
        },
        {
          "output_type": "display_data",
          "data": {
            "text/plain": [
              "<IPython.core.display.HTML object>"
            ],
            "text/html": [
              "Tracking run with wandb version 0.19.8"
            ]
          },
          "metadata": {}
        },
        {
          "output_type": "display_data",
          "data": {
            "text/plain": [
              "<IPython.core.display.HTML object>"
            ],
            "text/html": [
              "Run data is saved locally in <code>/content/wandb/run-20250329_070146-nykfkeh8</code>"
            ]
          },
          "metadata": {}
        },
        {
          "output_type": "display_data",
          "data": {
            "text/plain": [
              "<IPython.core.display.HTML object>"
            ],
            "text/html": [
              "Syncing run <strong><a href='https://wandb.ai/usf-guardians/GoTG_Assignment06_RNN_Take2/runs/nykfkeh8' target=\"_blank\">serene-sweep-1</a></strong> to <a href='https://wandb.ai/usf-guardians/GoTG_Assignment06_RNN_Take2' target=\"_blank\">Weights & Biases</a> (<a href='https://wandb.me/developer-guide' target=\"_blank\">docs</a>)<br>Sweep page: <a href='https://wandb.ai/usf-guardians/GoTG_Assignment06_RNN_Take2/sweeps/295fthxo' target=\"_blank\">https://wandb.ai/usf-guardians/GoTG_Assignment06_RNN_Take2/sweeps/295fthxo</a>"
            ]
          },
          "metadata": {}
        },
        {
          "output_type": "display_data",
          "data": {
            "text/plain": [
              "<IPython.core.display.HTML object>"
            ],
            "text/html": [
              " View project at <a href='https://wandb.ai/usf-guardians/GoTG_Assignment06_RNN_Take2' target=\"_blank\">https://wandb.ai/usf-guardians/GoTG_Assignment06_RNN_Take2</a>"
            ]
          },
          "metadata": {}
        },
        {
          "output_type": "display_data",
          "data": {
            "text/plain": [
              "<IPython.core.display.HTML object>"
            ],
            "text/html": [
              " View sweep at <a href='https://wandb.ai/usf-guardians/GoTG_Assignment06_RNN_Take2/sweeps/295fthxo' target=\"_blank\">https://wandb.ai/usf-guardians/GoTG_Assignment06_RNN_Take2/sweeps/295fthxo</a>"
            ]
          },
          "metadata": {}
        },
        {
          "output_type": "display_data",
          "data": {
            "text/plain": [
              "<IPython.core.display.HTML object>"
            ],
            "text/html": [
              " View run at <a href='https://wandb.ai/usf-guardians/GoTG_Assignment06_RNN_Take2/runs/nykfkeh8' target=\"_blank\">https://wandb.ai/usf-guardians/GoTG_Assignment06_RNN_Take2/runs/nykfkeh8</a>"
            ]
          },
          "metadata": {}
        },
        {
          "output_type": "display_data",
          "data": {
            "text/plain": [
              "<IPython.core.display.HTML object>"
            ],
            "text/html": []
          },
          "metadata": {}
        },
        {
          "output_type": "display_data",
          "data": {
            "text/plain": [
              "<IPython.core.display.HTML object>"
            ],
            "text/html": [
              "<br>    <style><br>        .wandb-row {<br>            display: flex;<br>            flex-direction: row;<br>            flex-wrap: wrap;<br>            justify-content: flex-start;<br>            width: 100%;<br>        }<br>        .wandb-col {<br>            display: flex;<br>            flex-direction: column;<br>            flex-basis: 100%;<br>            flex: 1;<br>            padding: 10px;<br>        }<br>    </style><br><div class=\"wandb-row\"><div class=\"wandb-col\"><h3>Run history:</h3><br/><table class=\"wandb\"><tr><td>epoch</td><td>▁▂▃▃▄▅▆▆▇█</td></tr><tr><td>final_mae</td><td>▁</td></tr><tr><td>final_mse</td><td>▁</td></tr><tr><td>final_r2</td><td>▁</td></tr><tr><td>sequence_length</td><td>▁</td></tr><tr><td>test_size</td><td>▁</td></tr><tr><td>train_loss</td><td>▂▁▁▁▁▁▁█▇▇</td></tr><tr><td>train_size</td><td>▁</td></tr><tr><td>val_mae</td><td>▂▁▁▁▁▁▁▇██</td></tr><tr><td>val_mse</td><td>▂▁▁▁▁▁▁▇▇█</td></tr><tr><td>val_r2</td><td>▇██████▂▂▁</td></tr></table><br/></div><div class=\"wandb-col\"><h3>Run summary:</h3><br/><table class=\"wandb\"><tr><td>dataset_name</td><td>Household Electric P...</td></tr><tr><td>epoch</td><td>10</td></tr><tr><td>final_mae</td><td>0.04434</td></tr><tr><td>final_mse</td><td>0.00402</td></tr><tr><td>final_r2</td><td>0.491</td></tr><tr><td>sequence_length</td><td>12</td></tr><tr><td>test_size</td><td>83009</td></tr><tr><td>train_loss</td><td>0.00556</td></tr><tr><td>train_size</td><td>332032</td></tr><tr><td>val_mae</td><td>0.04434</td></tr><tr><td>val_mse</td><td>0.00402</td></tr><tr><td>val_r2</td><td>0.491</td></tr></table><br/></div></div>"
            ]
          },
          "metadata": {}
        },
        {
          "output_type": "display_data",
          "data": {
            "text/plain": [
              "<IPython.core.display.HTML object>"
            ],
            "text/html": [
              " View run <strong style=\"color:#cdcd00\">serene-sweep-1</strong> at: <a href='https://wandb.ai/usf-guardians/GoTG_Assignment06_RNN_Take2/runs/nykfkeh8' target=\"_blank\">https://wandb.ai/usf-guardians/GoTG_Assignment06_RNN_Take2/runs/nykfkeh8</a><br> View project at: <a href='https://wandb.ai/usf-guardians/GoTG_Assignment06_RNN_Take2' target=\"_blank\">https://wandb.ai/usf-guardians/GoTG_Assignment06_RNN_Take2</a><br>Synced 5 W&B file(s), 1 media file(s), 4 artifact file(s) and 0 other file(s)"
            ]
          },
          "metadata": {}
        },
        {
          "output_type": "display_data",
          "data": {
            "text/plain": [
              "<IPython.core.display.HTML object>"
            ],
            "text/html": [
              "Find logs at: <code>./wandb/run-20250329_070146-nykfkeh8/logs</code>"
            ]
          },
          "metadata": {}
        },
        {
          "output_type": "stream",
          "name": "stderr",
          "text": [
            "\u001b[34m\u001b[1mwandb\u001b[0m: Agent Starting Run: 7boqt1l1 with config:\n",
            "\u001b[34m\u001b[1mwandb\u001b[0m: \tbatch_size: 64\n",
            "\u001b[34m\u001b[1mwandb\u001b[0m: \tdropout: 0.1\n",
            "\u001b[34m\u001b[1mwandb\u001b[0m: \tepochs: 10\n",
            "\u001b[34m\u001b[1mwandb\u001b[0m: \tfeatures: ['Global_active_power', 'Global_reactive_power', 'Voltage', 'Global_intensity', 'Sub_metering_1', 'Sub_metering_2', 'Sub_metering_3']\n",
            "\u001b[34m\u001b[1mwandb\u001b[0m: \thidden_size: 32\n",
            "\u001b[34m\u001b[1mwandb\u001b[0m: \tlearning_rate: 0.005\n",
            "\u001b[34m\u001b[1mwandb\u001b[0m: \tnum_layers: 1\n",
            "\u001b[34m\u001b[1mwandb\u001b[0m: \tsequence_length: 12\n"
          ]
        },
        {
          "output_type": "display_data",
          "data": {
            "text/plain": [
              "<IPython.core.display.HTML object>"
            ],
            "text/html": [
              "Tracking run with wandb version 0.19.8"
            ]
          },
          "metadata": {}
        },
        {
          "output_type": "display_data",
          "data": {
            "text/plain": [
              "<IPython.core.display.HTML object>"
            ],
            "text/html": [
              "Run data is saved locally in <code>/content/wandb/run-20250329_070726-7boqt1l1</code>"
            ]
          },
          "metadata": {}
        },
        {
          "output_type": "display_data",
          "data": {
            "text/plain": [
              "<IPython.core.display.HTML object>"
            ],
            "text/html": [
              "Syncing run <strong><a href='https://wandb.ai/usf-guardians/GoTG_Assignment06_RNN_Take2/runs/7boqt1l1' target=\"_blank\">neat-sweep-2</a></strong> to <a href='https://wandb.ai/usf-guardians/GoTG_Assignment06_RNN_Take2' target=\"_blank\">Weights & Biases</a> (<a href='https://wandb.me/developer-guide' target=\"_blank\">docs</a>)<br>Sweep page: <a href='https://wandb.ai/usf-guardians/GoTG_Assignment06_RNN_Take2/sweeps/295fthxo' target=\"_blank\">https://wandb.ai/usf-guardians/GoTG_Assignment06_RNN_Take2/sweeps/295fthxo</a>"
            ]
          },
          "metadata": {}
        },
        {
          "output_type": "display_data",
          "data": {
            "text/plain": [
              "<IPython.core.display.HTML object>"
            ],
            "text/html": [
              " View project at <a href='https://wandb.ai/usf-guardians/GoTG_Assignment06_RNN_Take2' target=\"_blank\">https://wandb.ai/usf-guardians/GoTG_Assignment06_RNN_Take2</a>"
            ]
          },
          "metadata": {}
        },
        {
          "output_type": "display_data",
          "data": {
            "text/plain": [
              "<IPython.core.display.HTML object>"
            ],
            "text/html": [
              " View sweep at <a href='https://wandb.ai/usf-guardians/GoTG_Assignment06_RNN_Take2/sweeps/295fthxo' target=\"_blank\">https://wandb.ai/usf-guardians/GoTG_Assignment06_RNN_Take2/sweeps/295fthxo</a>"
            ]
          },
          "metadata": {}
        },
        {
          "output_type": "display_data",
          "data": {
            "text/plain": [
              "<IPython.core.display.HTML object>"
            ],
            "text/html": [
              " View run at <a href='https://wandb.ai/usf-guardians/GoTG_Assignment06_RNN_Take2/runs/7boqt1l1' target=\"_blank\">https://wandb.ai/usf-guardians/GoTG_Assignment06_RNN_Take2/runs/7boqt1l1</a>"
            ]
          },
          "metadata": {}
        },
        {
          "output_type": "stream",
          "name": "stderr",
          "text": [
            "/usr/local/lib/python3.11/dist-packages/torch/nn/modules/rnn.py:123: UserWarning: dropout option adds dropout after all but last recurrent layer, so non-zero dropout expects num_layers greater than 1, but got dropout=0.1 and num_layers=1\n",
            "  warnings.warn(\n"
          ]
        },
        {
          "output_type": "display_data",
          "data": {
            "text/plain": [
              "<IPython.core.display.HTML object>"
            ],
            "text/html": []
          },
          "metadata": {}
        },
        {
          "output_type": "display_data",
          "data": {
            "text/plain": [
              "<IPython.core.display.HTML object>"
            ],
            "text/html": [
              "<br>    <style><br>        .wandb-row {<br>            display: flex;<br>            flex-direction: row;<br>            flex-wrap: wrap;<br>            justify-content: flex-start;<br>            width: 100%;<br>        }<br>        .wandb-col {<br>            display: flex;<br>            flex-direction: column;<br>            flex-basis: 100%;<br>            flex: 1;<br>            padding: 10px;<br>        }<br>    </style><br><div class=\"wandb-row\"><div class=\"wandb-col\"><h3>Run history:</h3><br/><table class=\"wandb\"><tr><td>epoch</td><td>▁▂▃▃▄▅▆▆▇█</td></tr><tr><td>final_mae</td><td>▁</td></tr><tr><td>final_mse</td><td>▁</td></tr><tr><td>final_r2</td><td>▁</td></tr><tr><td>sequence_length</td><td>▁</td></tr><tr><td>test_size</td><td>▁</td></tr><tr><td>train_loss</td><td>█▅▄▃▃▂▂▁▁▁</td></tr><tr><td>train_size</td><td>▁</td></tr><tr><td>val_mae</td><td>▅▂▃▅▆█▂▅▁▁</td></tr><tr><td>val_mse</td><td>█▅▄▃▃▄▁▃▂▁</td></tr><tr><td>val_r2</td><td>▁▄▅▆▆▅█▆▇█</td></tr></table><br/></div><div class=\"wandb-col\"><h3>Run summary:</h3><br/><table class=\"wandb\"><tr><td>dataset_name</td><td>Household Electric P...</td></tr><tr><td>epoch</td><td>10</td></tr><tr><td>final_mae</td><td>0.0181</td></tr><tr><td>final_mse</td><td>0.00109</td></tr><tr><td>final_r2</td><td>0.86149</td></tr><tr><td>sequence_length</td><td>12</td></tr><tr><td>test_size</td><td>83009</td></tr><tr><td>train_loss</td><td>0.00131</td></tr><tr><td>train_size</td><td>332032</td></tr><tr><td>val_mae</td><td>0.0181</td></tr><tr><td>val_mse</td><td>0.00109</td></tr><tr><td>val_r2</td><td>0.86149</td></tr></table><br/></div></div>"
            ]
          },
          "metadata": {}
        },
        {
          "output_type": "display_data",
          "data": {
            "text/plain": [
              "<IPython.core.display.HTML object>"
            ],
            "text/html": [
              " View run <strong style=\"color:#cdcd00\">neat-sweep-2</strong> at: <a href='https://wandb.ai/usf-guardians/GoTG_Assignment06_RNN_Take2/runs/7boqt1l1' target=\"_blank\">https://wandb.ai/usf-guardians/GoTG_Assignment06_RNN_Take2/runs/7boqt1l1</a><br> View project at: <a href='https://wandb.ai/usf-guardians/GoTG_Assignment06_RNN_Take2' target=\"_blank\">https://wandb.ai/usf-guardians/GoTG_Assignment06_RNN_Take2</a><br>Synced 5 W&B file(s), 1 media file(s), 4 artifact file(s) and 0 other file(s)"
            ]
          },
          "metadata": {}
        },
        {
          "output_type": "display_data",
          "data": {
            "text/plain": [
              "<IPython.core.display.HTML object>"
            ],
            "text/html": [
              "Find logs at: <code>./wandb/run-20250329_070726-7boqt1l1/logs</code>"
            ]
          },
          "metadata": {}
        },
        {
          "output_type": "stream",
          "name": "stderr",
          "text": [
            "\u001b[34m\u001b[1mwandb\u001b[0m: Agent Starting Run: gqivi3u8 with config:\n",
            "\u001b[34m\u001b[1mwandb\u001b[0m: \tbatch_size: 64\n",
            "\u001b[34m\u001b[1mwandb\u001b[0m: \tdropout: 0.5\n",
            "\u001b[34m\u001b[1mwandb\u001b[0m: \tepochs: 10\n",
            "\u001b[34m\u001b[1mwandb\u001b[0m: \tfeatures: ['Global_active_power', 'Global_reactive_power', 'Voltage', 'Global_intensity', 'Sub_metering_1', 'Sub_metering_2', 'Sub_metering_3']\n",
            "\u001b[34m\u001b[1mwandb\u001b[0m: \thidden_size: 64\n",
            "\u001b[34m\u001b[1mwandb\u001b[0m: \tlearning_rate: 0.005\n",
            "\u001b[34m\u001b[1mwandb\u001b[0m: \tnum_layers: 1\n",
            "\u001b[34m\u001b[1mwandb\u001b[0m: \tsequence_length: 12\n"
          ]
        },
        {
          "output_type": "display_data",
          "data": {
            "text/plain": [
              "<IPython.core.display.HTML object>"
            ],
            "text/html": [
              "Tracking run with wandb version 0.19.8"
            ]
          },
          "metadata": {}
        },
        {
          "output_type": "display_data",
          "data": {
            "text/plain": [
              "<IPython.core.display.HTML object>"
            ],
            "text/html": [
              "Run data is saved locally in <code>/content/wandb/run-20250329_071002-gqivi3u8</code>"
            ]
          },
          "metadata": {}
        },
        {
          "output_type": "display_data",
          "data": {
            "text/plain": [
              "<IPython.core.display.HTML object>"
            ],
            "text/html": [
              "Syncing run <strong><a href='https://wandb.ai/usf-guardians/GoTG_Assignment06_RNN_Take2/runs/gqivi3u8' target=\"_blank\">swift-sweep-3</a></strong> to <a href='https://wandb.ai/usf-guardians/GoTG_Assignment06_RNN_Take2' target=\"_blank\">Weights & Biases</a> (<a href='https://wandb.me/developer-guide' target=\"_blank\">docs</a>)<br>Sweep page: <a href='https://wandb.ai/usf-guardians/GoTG_Assignment06_RNN_Take2/sweeps/295fthxo' target=\"_blank\">https://wandb.ai/usf-guardians/GoTG_Assignment06_RNN_Take2/sweeps/295fthxo</a>"
            ]
          },
          "metadata": {}
        },
        {
          "output_type": "display_data",
          "data": {
            "text/plain": [
              "<IPython.core.display.HTML object>"
            ],
            "text/html": [
              " View project at <a href='https://wandb.ai/usf-guardians/GoTG_Assignment06_RNN_Take2' target=\"_blank\">https://wandb.ai/usf-guardians/GoTG_Assignment06_RNN_Take2</a>"
            ]
          },
          "metadata": {}
        },
        {
          "output_type": "display_data",
          "data": {
            "text/plain": [
              "<IPython.core.display.HTML object>"
            ],
            "text/html": [
              " View sweep at <a href='https://wandb.ai/usf-guardians/GoTG_Assignment06_RNN_Take2/sweeps/295fthxo' target=\"_blank\">https://wandb.ai/usf-guardians/GoTG_Assignment06_RNN_Take2/sweeps/295fthxo</a>"
            ]
          },
          "metadata": {}
        },
        {
          "output_type": "display_data",
          "data": {
            "text/plain": [
              "<IPython.core.display.HTML object>"
            ],
            "text/html": [
              " View run at <a href='https://wandb.ai/usf-guardians/GoTG_Assignment06_RNN_Take2/runs/gqivi3u8' target=\"_blank\">https://wandb.ai/usf-guardians/GoTG_Assignment06_RNN_Take2/runs/gqivi3u8</a>"
            ]
          },
          "metadata": {}
        },
        {
          "output_type": "stream",
          "name": "stderr",
          "text": [
            "/usr/local/lib/python3.11/dist-packages/torch/nn/modules/rnn.py:123: UserWarning: dropout option adds dropout after all but last recurrent layer, so non-zero dropout expects num_layers greater than 1, but got dropout=0.5 and num_layers=1\n",
            "  warnings.warn(\n"
          ]
        },
        {
          "output_type": "display_data",
          "data": {
            "text/plain": [
              "<IPython.core.display.HTML object>"
            ],
            "text/html": []
          },
          "metadata": {}
        },
        {
          "output_type": "display_data",
          "data": {
            "text/plain": [
              "<IPython.core.display.HTML object>"
            ],
            "text/html": [
              "<br>    <style><br>        .wandb-row {<br>            display: flex;<br>            flex-direction: row;<br>            flex-wrap: wrap;<br>            justify-content: flex-start;<br>            width: 100%;<br>        }<br>        .wandb-col {<br>            display: flex;<br>            flex-direction: column;<br>            flex-basis: 100%;<br>            flex: 1;<br>            padding: 10px;<br>        }<br>    </style><br><div class=\"wandb-row\"><div class=\"wandb-col\"><h3>Run history:</h3><br/><table class=\"wandb\"><tr><td>epoch</td><td>▁▂▃▃▄▅▆▆▇█</td></tr><tr><td>final_mae</td><td>▁</td></tr><tr><td>final_mse</td><td>▁</td></tr><tr><td>final_r2</td><td>▁</td></tr><tr><td>sequence_length</td><td>▁</td></tr><tr><td>test_size</td><td>▁</td></tr><tr><td>train_loss</td><td>█▄▃▃▃▂▂▁▁▁</td></tr><tr><td>train_size</td><td>▁</td></tr><tr><td>val_mae</td><td>▃▇▄▅▇▁▃▄▁█</td></tr><tr><td>val_mse</td><td>█▇▅▅█▃▃▂▁▅</td></tr><tr><td>val_r2</td><td>▁▂▄▄▁▆▆▇█▄</td></tr></table><br/></div><div class=\"wandb-col\"><h3>Run summary:</h3><br/><table class=\"wandb\"><tr><td>dataset_name</td><td>Household Electric P...</td></tr><tr><td>epoch</td><td>10</td></tr><tr><td>final_mae</td><td>0.01897</td></tr><tr><td>final_mse</td><td>0.00113</td></tr><tr><td>final_r2</td><td>0.85688</td></tr><tr><td>sequence_length</td><td>12</td></tr><tr><td>test_size</td><td>83009</td></tr><tr><td>train_loss</td><td>0.0013</td></tr><tr><td>train_size</td><td>332032</td></tr><tr><td>val_mae</td><td>0.01897</td></tr><tr><td>val_mse</td><td>0.00113</td></tr><tr><td>val_r2</td><td>0.85688</td></tr></table><br/></div></div>"
            ]
          },
          "metadata": {}
        },
        {
          "output_type": "display_data",
          "data": {
            "text/plain": [
              "<IPython.core.display.HTML object>"
            ],
            "text/html": [
              " View run <strong style=\"color:#cdcd00\">swift-sweep-3</strong> at: <a href='https://wandb.ai/usf-guardians/GoTG_Assignment06_RNN_Take2/runs/gqivi3u8' target=\"_blank\">https://wandb.ai/usf-guardians/GoTG_Assignment06_RNN_Take2/runs/gqivi3u8</a><br> View project at: <a href='https://wandb.ai/usf-guardians/GoTG_Assignment06_RNN_Take2' target=\"_blank\">https://wandb.ai/usf-guardians/GoTG_Assignment06_RNN_Take2</a><br>Synced 5 W&B file(s), 1 media file(s), 4 artifact file(s) and 0 other file(s)"
            ]
          },
          "metadata": {}
        },
        {
          "output_type": "display_data",
          "data": {
            "text/plain": [
              "<IPython.core.display.HTML object>"
            ],
            "text/html": [
              "Find logs at: <code>./wandb/run-20250329_071002-gqivi3u8/logs</code>"
            ]
          },
          "metadata": {}
        },
        {
          "output_type": "stream",
          "name": "stderr",
          "text": [
            "\u001b[34m\u001b[1mwandb\u001b[0m: Agent Starting Run: njrywq95 with config:\n",
            "\u001b[34m\u001b[1mwandb\u001b[0m: \tbatch_size: 64\n",
            "\u001b[34m\u001b[1mwandb\u001b[0m: \tdropout: 0.3\n",
            "\u001b[34m\u001b[1mwandb\u001b[0m: \tepochs: 10\n",
            "\u001b[34m\u001b[1mwandb\u001b[0m: \tfeatures: ['Global_active_power', 'Global_reactive_power', 'Voltage', 'Global_intensity', 'Sub_metering_1', 'Sub_metering_2', 'Sub_metering_3']\n",
            "\u001b[34m\u001b[1mwandb\u001b[0m: \thidden_size: 64\n",
            "\u001b[34m\u001b[1mwandb\u001b[0m: \tlearning_rate: 0.01\n",
            "\u001b[34m\u001b[1mwandb\u001b[0m: \tnum_layers: 2\n",
            "\u001b[34m\u001b[1mwandb\u001b[0m: \tsequence_length: 12\n"
          ]
        },
        {
          "output_type": "display_data",
          "data": {
            "text/plain": [
              "<IPython.core.display.HTML object>"
            ],
            "text/html": [
              "Tracking run with wandb version 0.19.8"
            ]
          },
          "metadata": {}
        },
        {
          "output_type": "display_data",
          "data": {
            "text/plain": [
              "<IPython.core.display.HTML object>"
            ],
            "text/html": [
              "Run data is saved locally in <code>/content/wandb/run-20250329_071240-njrywq95</code>"
            ]
          },
          "metadata": {}
        },
        {
          "output_type": "display_data",
          "data": {
            "text/plain": [
              "<IPython.core.display.HTML object>"
            ],
            "text/html": [
              "Syncing run <strong><a href='https://wandb.ai/usf-guardians/GoTG_Assignment06_RNN_Take2/runs/njrywq95' target=\"_blank\">restful-sweep-4</a></strong> to <a href='https://wandb.ai/usf-guardians/GoTG_Assignment06_RNN_Take2' target=\"_blank\">Weights & Biases</a> (<a href='https://wandb.me/developer-guide' target=\"_blank\">docs</a>)<br>Sweep page: <a href='https://wandb.ai/usf-guardians/GoTG_Assignment06_RNN_Take2/sweeps/295fthxo' target=\"_blank\">https://wandb.ai/usf-guardians/GoTG_Assignment06_RNN_Take2/sweeps/295fthxo</a>"
            ]
          },
          "metadata": {}
        },
        {
          "output_type": "display_data",
          "data": {
            "text/plain": [
              "<IPython.core.display.HTML object>"
            ],
            "text/html": [
              " View project at <a href='https://wandb.ai/usf-guardians/GoTG_Assignment06_RNN_Take2' target=\"_blank\">https://wandb.ai/usf-guardians/GoTG_Assignment06_RNN_Take2</a>"
            ]
          },
          "metadata": {}
        },
        {
          "output_type": "display_data",
          "data": {
            "text/plain": [
              "<IPython.core.display.HTML object>"
            ],
            "text/html": [
              " View sweep at <a href='https://wandb.ai/usf-guardians/GoTG_Assignment06_RNN_Take2/sweeps/295fthxo' target=\"_blank\">https://wandb.ai/usf-guardians/GoTG_Assignment06_RNN_Take2/sweeps/295fthxo</a>"
            ]
          },
          "metadata": {}
        },
        {
          "output_type": "display_data",
          "data": {
            "text/plain": [
              "<IPython.core.display.HTML object>"
            ],
            "text/html": [
              " View run at <a href='https://wandb.ai/usf-guardians/GoTG_Assignment06_RNN_Take2/runs/njrywq95' target=\"_blank\">https://wandb.ai/usf-guardians/GoTG_Assignment06_RNN_Take2/runs/njrywq95</a>"
            ]
          },
          "metadata": {}
        },
        {
          "output_type": "display_data",
          "data": {
            "text/plain": [
              "<IPython.core.display.HTML object>"
            ],
            "text/html": []
          },
          "metadata": {}
        },
        {
          "output_type": "display_data",
          "data": {
            "text/plain": [
              "<IPython.core.display.HTML object>"
            ],
            "text/html": [
              "<br>    <style><br>        .wandb-row {<br>            display: flex;<br>            flex-direction: row;<br>            flex-wrap: wrap;<br>            justify-content: flex-start;<br>            width: 100%;<br>        }<br>        .wandb-col {<br>            display: flex;<br>            flex-direction: column;<br>            flex-basis: 100%;<br>            flex: 1;<br>            padding: 10px;<br>        }<br>    </style><br><div class=\"wandb-row\"><div class=\"wandb-col\"><h3>Run history:</h3><br/><table class=\"wandb\"><tr><td>epoch</td><td>▁▂▃▃▄▅▆▆▇█</td></tr><tr><td>final_mae</td><td>▁</td></tr><tr><td>final_mse</td><td>▁</td></tr><tr><td>final_r2</td><td>▁</td></tr><tr><td>sequence_length</td><td>▁</td></tr><tr><td>test_size</td><td>▁</td></tr><tr><td>train_loss</td><td>█▄▃▃▂▂▂▁▁▁</td></tr><tr><td>train_size</td><td>▁</td></tr><tr><td>val_mae</td><td>█▃▃▂▂▁▁▁▂█</td></tr><tr><td>val_mse</td><td>▆▄▃▄▂▂▂▁▃█</td></tr><tr><td>val_r2</td><td>▃▅▆▅▇▇▇█▆▁</td></tr></table><br/></div><div class=\"wandb-col\"><h3>Run summary:</h3><br/><table class=\"wandb\"><tr><td>dataset_name</td><td>Household Electric P...</td></tr><tr><td>epoch</td><td>10</td></tr><tr><td>final_mae</td><td>0.02114</td></tr><tr><td>final_mse</td><td>0.00137</td></tr><tr><td>final_r2</td><td>0.82686</td></tr><tr><td>sequence_length</td><td>12</td></tr><tr><td>test_size</td><td>83009</td></tr><tr><td>train_loss</td><td>0.00147</td></tr><tr><td>train_size</td><td>332032</td></tr><tr><td>val_mae</td><td>0.02114</td></tr><tr><td>val_mse</td><td>0.00137</td></tr><tr><td>val_r2</td><td>0.82686</td></tr></table><br/></div></div>"
            ]
          },
          "metadata": {}
        },
        {
          "output_type": "display_data",
          "data": {
            "text/plain": [
              "<IPython.core.display.HTML object>"
            ],
            "text/html": [
              " View run <strong style=\"color:#cdcd00\">restful-sweep-4</strong> at: <a href='https://wandb.ai/usf-guardians/GoTG_Assignment06_RNN_Take2/runs/njrywq95' target=\"_blank\">https://wandb.ai/usf-guardians/GoTG_Assignment06_RNN_Take2/runs/njrywq95</a><br> View project at: <a href='https://wandb.ai/usf-guardians/GoTG_Assignment06_RNN_Take2' target=\"_blank\">https://wandb.ai/usf-guardians/GoTG_Assignment06_RNN_Take2</a><br>Synced 5 W&B file(s), 1 media file(s), 4 artifact file(s) and 0 other file(s)"
            ]
          },
          "metadata": {}
        },
        {
          "output_type": "display_data",
          "data": {
            "text/plain": [
              "<IPython.core.display.HTML object>"
            ],
            "text/html": [
              "Find logs at: <code>./wandb/run-20250329_071240-njrywq95/logs</code>"
            ]
          },
          "metadata": {}
        },
        {
          "output_type": "stream",
          "name": "stderr",
          "text": [
            "\u001b[34m\u001b[1mwandb\u001b[0m: Agent Starting Run: 6z9z24ta with config:\n",
            "\u001b[34m\u001b[1mwandb\u001b[0m: \tbatch_size: 64\n",
            "\u001b[34m\u001b[1mwandb\u001b[0m: \tdropout: 0.5\n",
            "\u001b[34m\u001b[1mwandb\u001b[0m: \tepochs: 10\n",
            "\u001b[34m\u001b[1mwandb\u001b[0m: \tfeatures: ['Global_active_power', 'Global_reactive_power', 'Voltage', 'Global_intensity', 'Sub_metering_1', 'Sub_metering_2', 'Sub_metering_3']\n",
            "\u001b[34m\u001b[1mwandb\u001b[0m: \thidden_size: 64\n",
            "\u001b[34m\u001b[1mwandb\u001b[0m: \tlearning_rate: 0.005\n",
            "\u001b[34m\u001b[1mwandb\u001b[0m: \tnum_layers: 2\n",
            "\u001b[34m\u001b[1mwandb\u001b[0m: \tsequence_length: 12\n"
          ]
        },
        {
          "output_type": "display_data",
          "data": {
            "text/plain": [
              "<IPython.core.display.HTML object>"
            ],
            "text/html": [
              "Tracking run with wandb version 0.19.8"
            ]
          },
          "metadata": {}
        },
        {
          "output_type": "display_data",
          "data": {
            "text/plain": [
              "<IPython.core.display.HTML object>"
            ],
            "text/html": [
              "Run data is saved locally in <code>/content/wandb/run-20250329_071543-6z9z24ta</code>"
            ]
          },
          "metadata": {}
        },
        {
          "output_type": "display_data",
          "data": {
            "text/plain": [
              "<IPython.core.display.HTML object>"
            ],
            "text/html": [
              "Syncing run <strong><a href='https://wandb.ai/usf-guardians/GoTG_Assignment06_RNN_Take2/runs/6z9z24ta' target=\"_blank\">sparkling-sweep-5</a></strong> to <a href='https://wandb.ai/usf-guardians/GoTG_Assignment06_RNN_Take2' target=\"_blank\">Weights & Biases</a> (<a href='https://wandb.me/developer-guide' target=\"_blank\">docs</a>)<br>Sweep page: <a href='https://wandb.ai/usf-guardians/GoTG_Assignment06_RNN_Take2/sweeps/295fthxo' target=\"_blank\">https://wandb.ai/usf-guardians/GoTG_Assignment06_RNN_Take2/sweeps/295fthxo</a>"
            ]
          },
          "metadata": {}
        },
        {
          "output_type": "display_data",
          "data": {
            "text/plain": [
              "<IPython.core.display.HTML object>"
            ],
            "text/html": [
              " View project at <a href='https://wandb.ai/usf-guardians/GoTG_Assignment06_RNN_Take2' target=\"_blank\">https://wandb.ai/usf-guardians/GoTG_Assignment06_RNN_Take2</a>"
            ]
          },
          "metadata": {}
        },
        {
          "output_type": "display_data",
          "data": {
            "text/plain": [
              "<IPython.core.display.HTML object>"
            ],
            "text/html": [
              " View sweep at <a href='https://wandb.ai/usf-guardians/GoTG_Assignment06_RNN_Take2/sweeps/295fthxo' target=\"_blank\">https://wandb.ai/usf-guardians/GoTG_Assignment06_RNN_Take2/sweeps/295fthxo</a>"
            ]
          },
          "metadata": {}
        },
        {
          "output_type": "display_data",
          "data": {
            "text/plain": [
              "<IPython.core.display.HTML object>"
            ],
            "text/html": [
              " View run at <a href='https://wandb.ai/usf-guardians/GoTG_Assignment06_RNN_Take2/runs/6z9z24ta' target=\"_blank\">https://wandb.ai/usf-guardians/GoTG_Assignment06_RNN_Take2/runs/6z9z24ta</a>"
            ]
          },
          "metadata": {}
        },
        {
          "output_type": "display_data",
          "data": {
            "text/plain": [
              "<IPython.core.display.HTML object>"
            ],
            "text/html": []
          },
          "metadata": {}
        },
        {
          "output_type": "display_data",
          "data": {
            "text/plain": [
              "<IPython.core.display.HTML object>"
            ],
            "text/html": [
              "<br>    <style><br>        .wandb-row {<br>            display: flex;<br>            flex-direction: row;<br>            flex-wrap: wrap;<br>            justify-content: flex-start;<br>            width: 100%;<br>        }<br>        .wandb-col {<br>            display: flex;<br>            flex-direction: column;<br>            flex-basis: 100%;<br>            flex: 1;<br>            padding: 10px;<br>        }<br>    </style><br><div class=\"wandb-row\"><div class=\"wandb-col\"><h3>Run history:</h3><br/><table class=\"wandb\"><tr><td>epoch</td><td>▁▂▃▃▄▅▆▆▇█</td></tr><tr><td>final_mae</td><td>▁</td></tr><tr><td>final_mse</td><td>▁</td></tr><tr><td>final_r2</td><td>▁</td></tr><tr><td>sequence_length</td><td>▁</td></tr><tr><td>test_size</td><td>▁</td></tr><tr><td>train_loss</td><td>█▃▃▂▂▂▁▁▁▁</td></tr><tr><td>train_size</td><td>▁</td></tr><tr><td>val_mae</td><td>█▇█▆▆▄▅▂▃▁</td></tr><tr><td>val_mse</td><td>█▇▆▅▆▄▄▁▅▁</td></tr><tr><td>val_r2</td><td>▁▂▃▄▃▅▅█▄█</td></tr></table><br/></div><div class=\"wandb-col\"><h3>Run summary:</h3><br/><table class=\"wandb\"><tr><td>dataset_name</td><td>Household Electric P...</td></tr><tr><td>epoch</td><td>10</td></tr><tr><td>final_mae</td><td>0.01746</td></tr><tr><td>final_mse</td><td>0.00105</td></tr><tr><td>final_r2</td><td>0.86751</td></tr><tr><td>sequence_length</td><td>12</td></tr><tr><td>test_size</td><td>83009</td></tr><tr><td>train_loss</td><td>0.00147</td></tr><tr><td>train_size</td><td>332032</td></tr><tr><td>val_mae</td><td>0.01746</td></tr><tr><td>val_mse</td><td>0.00105</td></tr><tr><td>val_r2</td><td>0.86751</td></tr></table><br/></div></div>"
            ]
          },
          "metadata": {}
        },
        {
          "output_type": "display_data",
          "data": {
            "text/plain": [
              "<IPython.core.display.HTML object>"
            ],
            "text/html": [
              " View run <strong style=\"color:#cdcd00\">sparkling-sweep-5</strong> at: <a href='https://wandb.ai/usf-guardians/GoTG_Assignment06_RNN_Take2/runs/6z9z24ta' target=\"_blank\">https://wandb.ai/usf-guardians/GoTG_Assignment06_RNN_Take2/runs/6z9z24ta</a><br> View project at: <a href='https://wandb.ai/usf-guardians/GoTG_Assignment06_RNN_Take2' target=\"_blank\">https://wandb.ai/usf-guardians/GoTG_Assignment06_RNN_Take2</a><br>Synced 5 W&B file(s), 1 media file(s), 4 artifact file(s) and 0 other file(s)"
            ]
          },
          "metadata": {}
        },
        {
          "output_type": "display_data",
          "data": {
            "text/plain": [
              "<IPython.core.display.HTML object>"
            ],
            "text/html": [
              "Find logs at: <code>./wandb/run-20250329_071543-6z9z24ta/logs</code>"
            ]
          },
          "metadata": {}
        },
        {
          "output_type": "stream",
          "name": "stderr",
          "text": [
            "\u001b[34m\u001b[1mwandb\u001b[0m: Agent Starting Run: re1h6ztw with config:\n",
            "\u001b[34m\u001b[1mwandb\u001b[0m: \tbatch_size: 64\n",
            "\u001b[34m\u001b[1mwandb\u001b[0m: \tdropout: 0.5\n",
            "\u001b[34m\u001b[1mwandb\u001b[0m: \tepochs: 10\n",
            "\u001b[34m\u001b[1mwandb\u001b[0m: \tfeatures: ['Global_active_power', 'Global_reactive_power', 'Voltage', 'Global_intensity', 'Sub_metering_1', 'Sub_metering_2', 'Sub_metering_3']\n",
            "\u001b[34m\u001b[1mwandb\u001b[0m: \thidden_size: 64\n",
            "\u001b[34m\u001b[1mwandb\u001b[0m: \tlearning_rate: 0.005\n",
            "\u001b[34m\u001b[1mwandb\u001b[0m: \tnum_layers: 2\n",
            "\u001b[34m\u001b[1mwandb\u001b[0m: \tsequence_length: 12\n"
          ]
        },
        {
          "output_type": "display_data",
          "data": {
            "text/plain": [
              "<IPython.core.display.HTML object>"
            ],
            "text/html": [
              "Tracking run with wandb version 0.19.8"
            ]
          },
          "metadata": {}
        },
        {
          "output_type": "display_data",
          "data": {
            "text/plain": [
              "<IPython.core.display.HTML object>"
            ],
            "text/html": [
              "Run data is saved locally in <code>/content/wandb/run-20250329_071846-re1h6ztw</code>"
            ]
          },
          "metadata": {}
        },
        {
          "output_type": "display_data",
          "data": {
            "text/plain": [
              "<IPython.core.display.HTML object>"
            ],
            "text/html": [
              "Syncing run <strong><a href='https://wandb.ai/usf-guardians/GoTG_Assignment06_RNN_Take2/runs/re1h6ztw' target=\"_blank\">expert-sweep-6</a></strong> to <a href='https://wandb.ai/usf-guardians/GoTG_Assignment06_RNN_Take2' target=\"_blank\">Weights & Biases</a> (<a href='https://wandb.me/developer-guide' target=\"_blank\">docs</a>)<br>Sweep page: <a href='https://wandb.ai/usf-guardians/GoTG_Assignment06_RNN_Take2/sweeps/295fthxo' target=\"_blank\">https://wandb.ai/usf-guardians/GoTG_Assignment06_RNN_Take2/sweeps/295fthxo</a>"
            ]
          },
          "metadata": {}
        },
        {
          "output_type": "display_data",
          "data": {
            "text/plain": [
              "<IPython.core.display.HTML object>"
            ],
            "text/html": [
              " View project at <a href='https://wandb.ai/usf-guardians/GoTG_Assignment06_RNN_Take2' target=\"_blank\">https://wandb.ai/usf-guardians/GoTG_Assignment06_RNN_Take2</a>"
            ]
          },
          "metadata": {}
        },
        {
          "output_type": "display_data",
          "data": {
            "text/plain": [
              "<IPython.core.display.HTML object>"
            ],
            "text/html": [
              " View sweep at <a href='https://wandb.ai/usf-guardians/GoTG_Assignment06_RNN_Take2/sweeps/295fthxo' target=\"_blank\">https://wandb.ai/usf-guardians/GoTG_Assignment06_RNN_Take2/sweeps/295fthxo</a>"
            ]
          },
          "metadata": {}
        },
        {
          "output_type": "display_data",
          "data": {
            "text/plain": [
              "<IPython.core.display.HTML object>"
            ],
            "text/html": [
              " View run at <a href='https://wandb.ai/usf-guardians/GoTG_Assignment06_RNN_Take2/runs/re1h6ztw' target=\"_blank\">https://wandb.ai/usf-guardians/GoTG_Assignment06_RNN_Take2/runs/re1h6ztw</a>"
            ]
          },
          "metadata": {}
        },
        {
          "output_type": "display_data",
          "data": {
            "text/plain": [
              "<IPython.core.display.HTML object>"
            ],
            "text/html": []
          },
          "metadata": {}
        },
        {
          "output_type": "display_data",
          "data": {
            "text/plain": [
              "<IPython.core.display.HTML object>"
            ],
            "text/html": [
              "<br>    <style><br>        .wandb-row {<br>            display: flex;<br>            flex-direction: row;<br>            flex-wrap: wrap;<br>            justify-content: flex-start;<br>            width: 100%;<br>        }<br>        .wandb-col {<br>            display: flex;<br>            flex-direction: column;<br>            flex-basis: 100%;<br>            flex: 1;<br>            padding: 10px;<br>        }<br>    </style><br><div class=\"wandb-row\"><div class=\"wandb-col\"><h3>Run history:</h3><br/><table class=\"wandb\"><tr><td>epoch</td><td>▁▂▃▃▄▅▆▆▇█</td></tr><tr><td>final_mae</td><td>▁</td></tr><tr><td>final_mse</td><td>▁</td></tr><tr><td>final_r2</td><td>▁</td></tr><tr><td>sequence_length</td><td>▁</td></tr><tr><td>test_size</td><td>▁</td></tr><tr><td>train_loss</td><td>█▄▃▂▂▂▂▁▁▁</td></tr><tr><td>train_size</td><td>▁</td></tr><tr><td>val_mae</td><td>▆▆██▅▄▅▂▁▂</td></tr><tr><td>val_mse</td><td>█▆▅▅▄▄▄▂▁▁</td></tr><tr><td>val_r2</td><td>▁▃▄▄▅▅▅▇██</td></tr></table><br/></div><div class=\"wandb-col\"><h3>Run summary:</h3><br/><table class=\"wandb\"><tr><td>dataset_name</td><td>Household Electric P...</td></tr><tr><td>epoch</td><td>10</td></tr><tr><td>final_mae</td><td>0.01742</td></tr><tr><td>final_mse</td><td>0.00105</td></tr><tr><td>final_r2</td><td>0.86706</td></tr><tr><td>sequence_length</td><td>12</td></tr><tr><td>test_size</td><td>83009</td></tr><tr><td>train_loss</td><td>0.00146</td></tr><tr><td>train_size</td><td>332032</td></tr><tr><td>val_mae</td><td>0.01742</td></tr><tr><td>val_mse</td><td>0.00105</td></tr><tr><td>val_r2</td><td>0.86706</td></tr></table><br/></div></div>"
            ]
          },
          "metadata": {}
        },
        {
          "output_type": "display_data",
          "data": {
            "text/plain": [
              "<IPython.core.display.HTML object>"
            ],
            "text/html": [
              " View run <strong style=\"color:#cdcd00\">expert-sweep-6</strong> at: <a href='https://wandb.ai/usf-guardians/GoTG_Assignment06_RNN_Take2/runs/re1h6ztw' target=\"_blank\">https://wandb.ai/usf-guardians/GoTG_Assignment06_RNN_Take2/runs/re1h6ztw</a><br> View project at: <a href='https://wandb.ai/usf-guardians/GoTG_Assignment06_RNN_Take2' target=\"_blank\">https://wandb.ai/usf-guardians/GoTG_Assignment06_RNN_Take2</a><br>Synced 5 W&B file(s), 1 media file(s), 4 artifact file(s) and 0 other file(s)"
            ]
          },
          "metadata": {}
        },
        {
          "output_type": "display_data",
          "data": {
            "text/plain": [
              "<IPython.core.display.HTML object>"
            ],
            "text/html": [
              "Find logs at: <code>./wandb/run-20250329_071846-re1h6ztw/logs</code>"
            ]
          },
          "metadata": {}
        },
        {
          "output_type": "stream",
          "name": "stderr",
          "text": [
            "\u001b[34m\u001b[1mwandb\u001b[0m: Agent Starting Run: 9yqezjl1 with config:\n",
            "\u001b[34m\u001b[1mwandb\u001b[0m: \tbatch_size: 64\n",
            "\u001b[34m\u001b[1mwandb\u001b[0m: \tdropout: 0.5\n",
            "\u001b[34m\u001b[1mwandb\u001b[0m: \tepochs: 10\n",
            "\u001b[34m\u001b[1mwandb\u001b[0m: \tfeatures: ['Global_active_power', 'Global_reactive_power', 'Voltage', 'Global_intensity', 'Sub_metering_1', 'Sub_metering_2', 'Sub_metering_3']\n",
            "\u001b[34m\u001b[1mwandb\u001b[0m: \thidden_size: 64\n",
            "\u001b[34m\u001b[1mwandb\u001b[0m: \tlearning_rate: 0.005\n",
            "\u001b[34m\u001b[1mwandb\u001b[0m: \tnum_layers: 2\n",
            "\u001b[34m\u001b[1mwandb\u001b[0m: \tsequence_length: 12\n"
          ]
        },
        {
          "output_type": "display_data",
          "data": {
            "text/plain": [
              "<IPython.core.display.HTML object>"
            ],
            "text/html": [
              "Tracking run with wandb version 0.19.8"
            ]
          },
          "metadata": {}
        },
        {
          "output_type": "display_data",
          "data": {
            "text/plain": [
              "<IPython.core.display.HTML object>"
            ],
            "text/html": [
              "Run data is saved locally in <code>/content/wandb/run-20250329_072150-9yqezjl1</code>"
            ]
          },
          "metadata": {}
        },
        {
          "output_type": "display_data",
          "data": {
            "text/plain": [
              "<IPython.core.display.HTML object>"
            ],
            "text/html": [
              "Syncing run <strong><a href='https://wandb.ai/usf-guardians/GoTG_Assignment06_RNN_Take2/runs/9yqezjl1' target=\"_blank\">clean-sweep-7</a></strong> to <a href='https://wandb.ai/usf-guardians/GoTG_Assignment06_RNN_Take2' target=\"_blank\">Weights & Biases</a> (<a href='https://wandb.me/developer-guide' target=\"_blank\">docs</a>)<br>Sweep page: <a href='https://wandb.ai/usf-guardians/GoTG_Assignment06_RNN_Take2/sweeps/295fthxo' target=\"_blank\">https://wandb.ai/usf-guardians/GoTG_Assignment06_RNN_Take2/sweeps/295fthxo</a>"
            ]
          },
          "metadata": {}
        },
        {
          "output_type": "display_data",
          "data": {
            "text/plain": [
              "<IPython.core.display.HTML object>"
            ],
            "text/html": [
              " View project at <a href='https://wandb.ai/usf-guardians/GoTG_Assignment06_RNN_Take2' target=\"_blank\">https://wandb.ai/usf-guardians/GoTG_Assignment06_RNN_Take2</a>"
            ]
          },
          "metadata": {}
        },
        {
          "output_type": "display_data",
          "data": {
            "text/plain": [
              "<IPython.core.display.HTML object>"
            ],
            "text/html": [
              " View sweep at <a href='https://wandb.ai/usf-guardians/GoTG_Assignment06_RNN_Take2/sweeps/295fthxo' target=\"_blank\">https://wandb.ai/usf-guardians/GoTG_Assignment06_RNN_Take2/sweeps/295fthxo</a>"
            ]
          },
          "metadata": {}
        },
        {
          "output_type": "display_data",
          "data": {
            "text/plain": [
              "<IPython.core.display.HTML object>"
            ],
            "text/html": [
              " View run at <a href='https://wandb.ai/usf-guardians/GoTG_Assignment06_RNN_Take2/runs/9yqezjl1' target=\"_blank\">https://wandb.ai/usf-guardians/GoTG_Assignment06_RNN_Take2/runs/9yqezjl1</a>"
            ]
          },
          "metadata": {}
        },
        {
          "output_type": "display_data",
          "data": {
            "text/plain": [
              "<IPython.core.display.HTML object>"
            ],
            "text/html": []
          },
          "metadata": {}
        },
        {
          "output_type": "display_data",
          "data": {
            "text/plain": [
              "<IPython.core.display.HTML object>"
            ],
            "text/html": [
              "<br>    <style><br>        .wandb-row {<br>            display: flex;<br>            flex-direction: row;<br>            flex-wrap: wrap;<br>            justify-content: flex-start;<br>            width: 100%;<br>        }<br>        .wandb-col {<br>            display: flex;<br>            flex-direction: column;<br>            flex-basis: 100%;<br>            flex: 1;<br>            padding: 10px;<br>        }<br>    </style><br><div class=\"wandb-row\"><div class=\"wandb-col\"><h3>Run history:</h3><br/><table class=\"wandb\"><tr><td>epoch</td><td>▁▂▃▃▄▅▆▆▇█</td></tr><tr><td>final_mae</td><td>▁</td></tr><tr><td>final_mse</td><td>▁</td></tr><tr><td>final_r2</td><td>▁</td></tr><tr><td>sequence_length</td><td>▁</td></tr><tr><td>test_size</td><td>▁</td></tr><tr><td>train_loss</td><td>█▃▃▂▂▂▁▁▁▁</td></tr><tr><td>train_size</td><td>▁</td></tr><tr><td>val_mae</td><td>▄▃▄▄▃▃▂▁█▁</td></tr><tr><td>val_mse</td><td>█▆▅▅▄▃▁▁▇▂</td></tr><tr><td>val_r2</td><td>▁▃▄▄▅▆██▂▇</td></tr></table><br/></div><div class=\"wandb-col\"><h3>Run summary:</h3><br/><table class=\"wandb\"><tr><td>dataset_name</td><td>Household Electric P...</td></tr><tr><td>epoch</td><td>10</td></tr><tr><td>final_mae</td><td>0.01782</td></tr><tr><td>final_mse</td><td>0.00109</td></tr><tr><td>final_r2</td><td>0.86244</td></tr><tr><td>sequence_length</td><td>12</td></tr><tr><td>test_size</td><td>83009</td></tr><tr><td>train_loss</td><td>0.00149</td></tr><tr><td>train_size</td><td>332032</td></tr><tr><td>val_mae</td><td>0.01782</td></tr><tr><td>val_mse</td><td>0.00109</td></tr><tr><td>val_r2</td><td>0.86244</td></tr></table><br/></div></div>"
            ]
          },
          "metadata": {}
        },
        {
          "output_type": "display_data",
          "data": {
            "text/plain": [
              "<IPython.core.display.HTML object>"
            ],
            "text/html": [
              " View run <strong style=\"color:#cdcd00\">clean-sweep-7</strong> at: <a href='https://wandb.ai/usf-guardians/GoTG_Assignment06_RNN_Take2/runs/9yqezjl1' target=\"_blank\">https://wandb.ai/usf-guardians/GoTG_Assignment06_RNN_Take2/runs/9yqezjl1</a><br> View project at: <a href='https://wandb.ai/usf-guardians/GoTG_Assignment06_RNN_Take2' target=\"_blank\">https://wandb.ai/usf-guardians/GoTG_Assignment06_RNN_Take2</a><br>Synced 5 W&B file(s), 1 media file(s), 4 artifact file(s) and 0 other file(s)"
            ]
          },
          "metadata": {}
        },
        {
          "output_type": "display_data",
          "data": {
            "text/plain": [
              "<IPython.core.display.HTML object>"
            ],
            "text/html": [
              "Find logs at: <code>./wandb/run-20250329_072150-9yqezjl1/logs</code>"
            ]
          },
          "metadata": {}
        },
        {
          "output_type": "stream",
          "name": "stderr",
          "text": [
            "\u001b[34m\u001b[1mwandb\u001b[0m: Agent Starting Run: ieszdaer with config:\n",
            "\u001b[34m\u001b[1mwandb\u001b[0m: \tbatch_size: 64\n",
            "\u001b[34m\u001b[1mwandb\u001b[0m: \tdropout: 0.5\n",
            "\u001b[34m\u001b[1mwandb\u001b[0m: \tepochs: 10\n",
            "\u001b[34m\u001b[1mwandb\u001b[0m: \tfeatures: ['Global_active_power', 'Global_reactive_power', 'Voltage', 'Global_intensity', 'Sub_metering_1', 'Sub_metering_2', 'Sub_metering_3']\n",
            "\u001b[34m\u001b[1mwandb\u001b[0m: \thidden_size: 64\n",
            "\u001b[34m\u001b[1mwandb\u001b[0m: \tlearning_rate: 0.005\n",
            "\u001b[34m\u001b[1mwandb\u001b[0m: \tnum_layers: 2\n",
            "\u001b[34m\u001b[1mwandb\u001b[0m: \tsequence_length: 12\n"
          ]
        },
        {
          "output_type": "display_data",
          "data": {
            "text/plain": [
              "<IPython.core.display.HTML object>"
            ],
            "text/html": [
              "Tracking run with wandb version 0.19.8"
            ]
          },
          "metadata": {}
        },
        {
          "output_type": "display_data",
          "data": {
            "text/plain": [
              "<IPython.core.display.HTML object>"
            ],
            "text/html": [
              "Run data is saved locally in <code>/content/wandb/run-20250329_072454-ieszdaer</code>"
            ]
          },
          "metadata": {}
        },
        {
          "output_type": "display_data",
          "data": {
            "text/plain": [
              "<IPython.core.display.HTML object>"
            ],
            "text/html": [
              "Syncing run <strong><a href='https://wandb.ai/usf-guardians/GoTG_Assignment06_RNN_Take2/runs/ieszdaer' target=\"_blank\">jolly-sweep-8</a></strong> to <a href='https://wandb.ai/usf-guardians/GoTG_Assignment06_RNN_Take2' target=\"_blank\">Weights & Biases</a> (<a href='https://wandb.me/developer-guide' target=\"_blank\">docs</a>)<br>Sweep page: <a href='https://wandb.ai/usf-guardians/GoTG_Assignment06_RNN_Take2/sweeps/295fthxo' target=\"_blank\">https://wandb.ai/usf-guardians/GoTG_Assignment06_RNN_Take2/sweeps/295fthxo</a>"
            ]
          },
          "metadata": {}
        },
        {
          "output_type": "display_data",
          "data": {
            "text/plain": [
              "<IPython.core.display.HTML object>"
            ],
            "text/html": [
              " View project at <a href='https://wandb.ai/usf-guardians/GoTG_Assignment06_RNN_Take2' target=\"_blank\">https://wandb.ai/usf-guardians/GoTG_Assignment06_RNN_Take2</a>"
            ]
          },
          "metadata": {}
        },
        {
          "output_type": "display_data",
          "data": {
            "text/plain": [
              "<IPython.core.display.HTML object>"
            ],
            "text/html": [
              " View sweep at <a href='https://wandb.ai/usf-guardians/GoTG_Assignment06_RNN_Take2/sweeps/295fthxo' target=\"_blank\">https://wandb.ai/usf-guardians/GoTG_Assignment06_RNN_Take2/sweeps/295fthxo</a>"
            ]
          },
          "metadata": {}
        },
        {
          "output_type": "display_data",
          "data": {
            "text/plain": [
              "<IPython.core.display.HTML object>"
            ],
            "text/html": [
              " View run at <a href='https://wandb.ai/usf-guardians/GoTG_Assignment06_RNN_Take2/runs/ieszdaer' target=\"_blank\">https://wandb.ai/usf-guardians/GoTG_Assignment06_RNN_Take2/runs/ieszdaer</a>"
            ]
          },
          "metadata": {}
        },
        {
          "output_type": "display_data",
          "data": {
            "text/plain": [
              "<IPython.core.display.HTML object>"
            ],
            "text/html": []
          },
          "metadata": {}
        },
        {
          "output_type": "display_data",
          "data": {
            "text/plain": [
              "<IPython.core.display.HTML object>"
            ],
            "text/html": [
              "<br>    <style><br>        .wandb-row {<br>            display: flex;<br>            flex-direction: row;<br>            flex-wrap: wrap;<br>            justify-content: flex-start;<br>            width: 100%;<br>        }<br>        .wandb-col {<br>            display: flex;<br>            flex-direction: column;<br>            flex-basis: 100%;<br>            flex: 1;<br>            padding: 10px;<br>        }<br>    </style><br><div class=\"wandb-row\"><div class=\"wandb-col\"><h3>Run history:</h3><br/><table class=\"wandb\"><tr><td>epoch</td><td>▁▂▃▃▄▅▆▆▇█</td></tr><tr><td>final_mae</td><td>▁</td></tr><tr><td>final_mse</td><td>▁</td></tr><tr><td>final_r2</td><td>▁</td></tr><tr><td>sequence_length</td><td>▁</td></tr><tr><td>test_size</td><td>▁</td></tr><tr><td>train_loss</td><td>█▃▃▂▂▂▁▁▁▁</td></tr><tr><td>train_size</td><td>▁</td></tr><tr><td>val_mae</td><td>█▃▃▃▃▃▃▂▂▁</td></tr><tr><td>val_mse</td><td>█▆▅▄▄▃▃▂▁▁</td></tr><tr><td>val_r2</td><td>▁▃▄▅▅▆▆▇██</td></tr></table><br/></div><div class=\"wandb-col\"><h3>Run summary:</h3><br/><table class=\"wandb\"><tr><td>dataset_name</td><td>Household Electric P...</td></tr><tr><td>epoch</td><td>10</td></tr><tr><td>final_mae</td><td>0.01727</td></tr><tr><td>final_mse</td><td>0.00103</td></tr><tr><td>final_r2</td><td>0.8702</td></tr><tr><td>sequence_length</td><td>12</td></tr><tr><td>test_size</td><td>83009</td></tr><tr><td>train_loss</td><td>0.00144</td></tr><tr><td>train_size</td><td>332032</td></tr><tr><td>val_mae</td><td>0.01727</td></tr><tr><td>val_mse</td><td>0.00103</td></tr><tr><td>val_r2</td><td>0.8702</td></tr></table><br/></div></div>"
            ]
          },
          "metadata": {}
        },
        {
          "output_type": "display_data",
          "data": {
            "text/plain": [
              "<IPython.core.display.HTML object>"
            ],
            "text/html": [
              " View run <strong style=\"color:#cdcd00\">jolly-sweep-8</strong> at: <a href='https://wandb.ai/usf-guardians/GoTG_Assignment06_RNN_Take2/runs/ieszdaer' target=\"_blank\">https://wandb.ai/usf-guardians/GoTG_Assignment06_RNN_Take2/runs/ieszdaer</a><br> View project at: <a href='https://wandb.ai/usf-guardians/GoTG_Assignment06_RNN_Take2' target=\"_blank\">https://wandb.ai/usf-guardians/GoTG_Assignment06_RNN_Take2</a><br>Synced 5 W&B file(s), 1 media file(s), 4 artifact file(s) and 0 other file(s)"
            ]
          },
          "metadata": {}
        },
        {
          "output_type": "display_data",
          "data": {
            "text/plain": [
              "<IPython.core.display.HTML object>"
            ],
            "text/html": [
              "Find logs at: <code>./wandb/run-20250329_072454-ieszdaer/logs</code>"
            ]
          },
          "metadata": {}
        },
        {
          "output_type": "stream",
          "name": "stderr",
          "text": [
            "\u001b[34m\u001b[1mwandb\u001b[0m: Agent Starting Run: 082k5fae with config:\n",
            "\u001b[34m\u001b[1mwandb\u001b[0m: \tbatch_size: 64\n",
            "\u001b[34m\u001b[1mwandb\u001b[0m: \tdropout: 0.5\n",
            "\u001b[34m\u001b[1mwandb\u001b[0m: \tepochs: 10\n",
            "\u001b[34m\u001b[1mwandb\u001b[0m: \tfeatures: ['Global_active_power', 'Global_reactive_power', 'Voltage', 'Global_intensity', 'Sub_metering_1', 'Sub_metering_2', 'Sub_metering_3']\n",
            "\u001b[34m\u001b[1mwandb\u001b[0m: \thidden_size: 128\n",
            "\u001b[34m\u001b[1mwandb\u001b[0m: \tlearning_rate: 0.005\n",
            "\u001b[34m\u001b[1mwandb\u001b[0m: \tnum_layers: 2\n",
            "\u001b[34m\u001b[1mwandb\u001b[0m: \tsequence_length: 12\n"
          ]
        },
        {
          "output_type": "display_data",
          "data": {
            "text/plain": [
              "<IPython.core.display.HTML object>"
            ],
            "text/html": [
              "Tracking run with wandb version 0.19.8"
            ]
          },
          "metadata": {}
        },
        {
          "output_type": "display_data",
          "data": {
            "text/plain": [
              "<IPython.core.display.HTML object>"
            ],
            "text/html": [
              "Run data is saved locally in <code>/content/wandb/run-20250329_072756-082k5fae</code>"
            ]
          },
          "metadata": {}
        },
        {
          "output_type": "display_data",
          "data": {
            "text/plain": [
              "<IPython.core.display.HTML object>"
            ],
            "text/html": [
              "Syncing run <strong><a href='https://wandb.ai/usf-guardians/GoTG_Assignment06_RNN_Take2/runs/082k5fae' target=\"_blank\">breezy-sweep-9</a></strong> to <a href='https://wandb.ai/usf-guardians/GoTG_Assignment06_RNN_Take2' target=\"_blank\">Weights & Biases</a> (<a href='https://wandb.me/developer-guide' target=\"_blank\">docs</a>)<br>Sweep page: <a href='https://wandb.ai/usf-guardians/GoTG_Assignment06_RNN_Take2/sweeps/295fthxo' target=\"_blank\">https://wandb.ai/usf-guardians/GoTG_Assignment06_RNN_Take2/sweeps/295fthxo</a>"
            ]
          },
          "metadata": {}
        },
        {
          "output_type": "display_data",
          "data": {
            "text/plain": [
              "<IPython.core.display.HTML object>"
            ],
            "text/html": [
              " View project at <a href='https://wandb.ai/usf-guardians/GoTG_Assignment06_RNN_Take2' target=\"_blank\">https://wandb.ai/usf-guardians/GoTG_Assignment06_RNN_Take2</a>"
            ]
          },
          "metadata": {}
        },
        {
          "output_type": "display_data",
          "data": {
            "text/plain": [
              "<IPython.core.display.HTML object>"
            ],
            "text/html": [
              " View sweep at <a href='https://wandb.ai/usf-guardians/GoTG_Assignment06_RNN_Take2/sweeps/295fthxo' target=\"_blank\">https://wandb.ai/usf-guardians/GoTG_Assignment06_RNN_Take2/sweeps/295fthxo</a>"
            ]
          },
          "metadata": {}
        },
        {
          "output_type": "display_data",
          "data": {
            "text/plain": [
              "<IPython.core.display.HTML object>"
            ],
            "text/html": [
              " View run at <a href='https://wandb.ai/usf-guardians/GoTG_Assignment06_RNN_Take2/runs/082k5fae' target=\"_blank\">https://wandb.ai/usf-guardians/GoTG_Assignment06_RNN_Take2/runs/082k5fae</a>"
            ]
          },
          "metadata": {}
        },
        {
          "output_type": "display_data",
          "data": {
            "text/plain": [
              "<IPython.core.display.HTML object>"
            ],
            "text/html": []
          },
          "metadata": {}
        },
        {
          "output_type": "display_data",
          "data": {
            "text/plain": [
              "<IPython.core.display.HTML object>"
            ],
            "text/html": [
              "<br>    <style><br>        .wandb-row {<br>            display: flex;<br>            flex-direction: row;<br>            flex-wrap: wrap;<br>            justify-content: flex-start;<br>            width: 100%;<br>        }<br>        .wandb-col {<br>            display: flex;<br>            flex-direction: column;<br>            flex-basis: 100%;<br>            flex: 1;<br>            padding: 10px;<br>        }<br>    </style><br><div class=\"wandb-row\"><div class=\"wandb-col\"><h3>Run history:</h3><br/><table class=\"wandb\"><tr><td>epoch</td><td>▁▂▃▃▄▅▆▆▇█</td></tr><tr><td>final_mae</td><td>▁</td></tr><tr><td>final_mse</td><td>▁</td></tr><tr><td>final_r2</td><td>▁</td></tr><tr><td>sequence_length</td><td>▁</td></tr><tr><td>test_size</td><td>▁</td></tr><tr><td>train_loss</td><td>█▄▃▃▂▂▂▁▁▁</td></tr><tr><td>train_size</td><td>▁</td></tr><tr><td>val_mae</td><td>▃█▃▂▃▂▂▁▁▃</td></tr><tr><td>val_mse</td><td>██▄▅▆▄▂▁▃▃</td></tr><tr><td>val_r2</td><td>▁▁▅▄▃▅▇█▆▆</td></tr></table><br/></div><div class=\"wandb-col\"><h3>Run summary:</h3><br/><table class=\"wandb\"><tr><td>dataset_name</td><td>Household Electric P...</td></tr><tr><td>epoch</td><td>10</td></tr><tr><td>final_mae</td><td>0.01804</td></tr><tr><td>final_mse</td><td>0.0011</td></tr><tr><td>final_r2</td><td>0.86097</td></tr><tr><td>sequence_length</td><td>12</td></tr><tr><td>test_size</td><td>83009</td></tr><tr><td>train_loss</td><td>0.0014</td></tr><tr><td>train_size</td><td>332032</td></tr><tr><td>val_mae</td><td>0.01804</td></tr><tr><td>val_mse</td><td>0.0011</td></tr><tr><td>val_r2</td><td>0.86097</td></tr></table><br/></div></div>"
            ]
          },
          "metadata": {}
        },
        {
          "output_type": "display_data",
          "data": {
            "text/plain": [
              "<IPython.core.display.HTML object>"
            ],
            "text/html": [
              " View run <strong style=\"color:#cdcd00\">breezy-sweep-9</strong> at: <a href='https://wandb.ai/usf-guardians/GoTG_Assignment06_RNN_Take2/runs/082k5fae' target=\"_blank\">https://wandb.ai/usf-guardians/GoTG_Assignment06_RNN_Take2/runs/082k5fae</a><br> View project at: <a href='https://wandb.ai/usf-guardians/GoTG_Assignment06_RNN_Take2' target=\"_blank\">https://wandb.ai/usf-guardians/GoTG_Assignment06_RNN_Take2</a><br>Synced 5 W&B file(s), 1 media file(s), 4 artifact file(s) and 0 other file(s)"
            ]
          },
          "metadata": {}
        },
        {
          "output_type": "display_data",
          "data": {
            "text/plain": [
              "<IPython.core.display.HTML object>"
            ],
            "text/html": [
              "Find logs at: <code>./wandb/run-20250329_072756-082k5fae/logs</code>"
            ]
          },
          "metadata": {}
        },
        {
          "output_type": "stream",
          "name": "stderr",
          "text": [
            "\u001b[34m\u001b[1mwandb\u001b[0m: Agent Starting Run: rjjnlbg4 with config:\n",
            "\u001b[34m\u001b[1mwandb\u001b[0m: \tbatch_size: 64\n",
            "\u001b[34m\u001b[1mwandb\u001b[0m: \tdropout: 0.5\n",
            "\u001b[34m\u001b[1mwandb\u001b[0m: \tepochs: 10\n",
            "\u001b[34m\u001b[1mwandb\u001b[0m: \tfeatures: ['Global_active_power', 'Global_reactive_power', 'Voltage', 'Global_intensity', 'Sub_metering_1', 'Sub_metering_2', 'Sub_metering_3']\n",
            "\u001b[34m\u001b[1mwandb\u001b[0m: \thidden_size: 32\n",
            "\u001b[34m\u001b[1mwandb\u001b[0m: \tlearning_rate: 0.005\n",
            "\u001b[34m\u001b[1mwandb\u001b[0m: \tnum_layers: 1\n",
            "\u001b[34m\u001b[1mwandb\u001b[0m: \tsequence_length: 12\n"
          ]
        },
        {
          "output_type": "display_data",
          "data": {
            "text/plain": [
              "<IPython.core.display.HTML object>"
            ],
            "text/html": [
              "Tracking run with wandb version 0.19.8"
            ]
          },
          "metadata": {}
        },
        {
          "output_type": "display_data",
          "data": {
            "text/plain": [
              "<IPython.core.display.HTML object>"
            ],
            "text/html": [
              "Run data is saved locally in <code>/content/wandb/run-20250329_073059-rjjnlbg4</code>"
            ]
          },
          "metadata": {}
        },
        {
          "output_type": "display_data",
          "data": {
            "text/plain": [
              "<IPython.core.display.HTML object>"
            ],
            "text/html": [
              "Syncing run <strong><a href='https://wandb.ai/usf-guardians/GoTG_Assignment06_RNN_Take2/runs/rjjnlbg4' target=\"_blank\">effortless-sweep-10</a></strong> to <a href='https://wandb.ai/usf-guardians/GoTG_Assignment06_RNN_Take2' target=\"_blank\">Weights & Biases</a> (<a href='https://wandb.me/developer-guide' target=\"_blank\">docs</a>)<br>Sweep page: <a href='https://wandb.ai/usf-guardians/GoTG_Assignment06_RNN_Take2/sweeps/295fthxo' target=\"_blank\">https://wandb.ai/usf-guardians/GoTG_Assignment06_RNN_Take2/sweeps/295fthxo</a>"
            ]
          },
          "metadata": {}
        },
        {
          "output_type": "display_data",
          "data": {
            "text/plain": [
              "<IPython.core.display.HTML object>"
            ],
            "text/html": [
              " View project at <a href='https://wandb.ai/usf-guardians/GoTG_Assignment06_RNN_Take2' target=\"_blank\">https://wandb.ai/usf-guardians/GoTG_Assignment06_RNN_Take2</a>"
            ]
          },
          "metadata": {}
        },
        {
          "output_type": "display_data",
          "data": {
            "text/plain": [
              "<IPython.core.display.HTML object>"
            ],
            "text/html": [
              " View sweep at <a href='https://wandb.ai/usf-guardians/GoTG_Assignment06_RNN_Take2/sweeps/295fthxo' target=\"_blank\">https://wandb.ai/usf-guardians/GoTG_Assignment06_RNN_Take2/sweeps/295fthxo</a>"
            ]
          },
          "metadata": {}
        },
        {
          "output_type": "display_data",
          "data": {
            "text/plain": [
              "<IPython.core.display.HTML object>"
            ],
            "text/html": [
              " View run at <a href='https://wandb.ai/usf-guardians/GoTG_Assignment06_RNN_Take2/runs/rjjnlbg4' target=\"_blank\">https://wandb.ai/usf-guardians/GoTG_Assignment06_RNN_Take2/runs/rjjnlbg4</a>"
            ]
          },
          "metadata": {}
        },
        {
          "output_type": "stream",
          "name": "stderr",
          "text": [
            "/usr/local/lib/python3.11/dist-packages/torch/nn/modules/rnn.py:123: UserWarning: dropout option adds dropout after all but last recurrent layer, so non-zero dropout expects num_layers greater than 1, but got dropout=0.5 and num_layers=1\n",
            "  warnings.warn(\n"
          ]
        },
        {
          "output_type": "display_data",
          "data": {
            "text/plain": [
              "<IPython.core.display.HTML object>"
            ],
            "text/html": []
          },
          "metadata": {}
        },
        {
          "output_type": "display_data",
          "data": {
            "text/plain": [
              "<IPython.core.display.HTML object>"
            ],
            "text/html": [
              "<br>    <style><br>        .wandb-row {<br>            display: flex;<br>            flex-direction: row;<br>            flex-wrap: wrap;<br>            justify-content: flex-start;<br>            width: 100%;<br>        }<br>        .wandb-col {<br>            display: flex;<br>            flex-direction: column;<br>            flex-basis: 100%;<br>            flex: 1;<br>            padding: 10px;<br>        }<br>    </style><br><div class=\"wandb-row\"><div class=\"wandb-col\"><h3>Run history:</h3><br/><table class=\"wandb\"><tr><td>epoch</td><td>▁▂▃▃▄▅▆▆▇█</td></tr><tr><td>final_mae</td><td>▁</td></tr><tr><td>final_mse</td><td>▁</td></tr><tr><td>final_r2</td><td>▁</td></tr><tr><td>sequence_length</td><td>▁</td></tr><tr><td>test_size</td><td>▁</td></tr><tr><td>train_loss</td><td>█▄▃▂▂▂▂▁▁▁</td></tr><tr><td>train_size</td><td>▁</td></tr><tr><td>val_mae</td><td>▁▇█▂▁▄▃▅▅▆</td></tr><tr><td>val_mse</td><td>█▆▄▂▁▂▂▂▁▁</td></tr><tr><td>val_r2</td><td>▁▃▅▇█▇▇▇██</td></tr></table><br/></div><div class=\"wandb-col\"><h3>Run summary:</h3><br/><table class=\"wandb\"><tr><td>dataset_name</td><td>Household Electric P...</td></tr><tr><td>epoch</td><td>10</td></tr><tr><td>final_mae</td><td>0.01864</td></tr><tr><td>final_mse</td><td>0.00112</td></tr><tr><td>final_r2</td><td>0.85834</td></tr><tr><td>sequence_length</td><td>12</td></tr><tr><td>test_size</td><td>83009</td></tr><tr><td>train_loss</td><td>0.00135</td></tr><tr><td>train_size</td><td>332032</td></tr><tr><td>val_mae</td><td>0.01864</td></tr><tr><td>val_mse</td><td>0.00112</td></tr><tr><td>val_r2</td><td>0.85834</td></tr></table><br/></div></div>"
            ]
          },
          "metadata": {}
        },
        {
          "output_type": "display_data",
          "data": {
            "text/plain": [
              "<IPython.core.display.HTML object>"
            ],
            "text/html": [
              " View run <strong style=\"color:#cdcd00\">effortless-sweep-10</strong> at: <a href='https://wandb.ai/usf-guardians/GoTG_Assignment06_RNN_Take2/runs/rjjnlbg4' target=\"_blank\">https://wandb.ai/usf-guardians/GoTG_Assignment06_RNN_Take2/runs/rjjnlbg4</a><br> View project at: <a href='https://wandb.ai/usf-guardians/GoTG_Assignment06_RNN_Take2' target=\"_blank\">https://wandb.ai/usf-guardians/GoTG_Assignment06_RNN_Take2</a><br>Synced 5 W&B file(s), 1 media file(s), 4 artifact file(s) and 0 other file(s)"
            ]
          },
          "metadata": {}
        },
        {
          "output_type": "display_data",
          "data": {
            "text/plain": [
              "<IPython.core.display.HTML object>"
            ],
            "text/html": [
              "Find logs at: <code>./wandb/run-20250329_073059-rjjnlbg4/logs</code>"
            ]
          },
          "metadata": {}
        }
      ]
    },
    {
      "cell_type": "markdown",
      "source": [
        "## 📊 Model Evaluation and Performance Interpretation\n",
        "\n",
        "This section analyzes the performance of different LSTM models based on the W&B sweep results. The primary evaluation metric was **Mean Squared Error (MSE)**, complemented by **Mean Absolute Error (MAE)** and **R² Score** for interpretability.\n",
        "\n",
        "---\n",
        "\n",
        "### ✅ Best Performing Models\n",
        "\n",
        "| Run Name         | final_mse | final_r2 | final_mae | Key Configuration |\n",
        "|------------------|------------|-----------|-----------|--------------------|\n",
        "| **jolly-sweep-8** | **0.00103** | 0.8702    | 0.01727   | hidden_size=64, dropout=0.5, batch_size=64, learning_rate=0.005, num_layers=2 |\n",
        "| **sparkling-sweep-5** | **0.00105** | 0.8675    | 0.01746   | hidden_size=64, dropout=0.5, batch_size=64, learning_rate=0.005, num_layers=2 |\n",
        "\n",
        "**Interpretation:**\n",
        "- These models show excellent generalization with low error and high R² values.\n",
        "- A **hidden size of 64** provided enough capacity without overfitting.\n",
        "- **Dropout = 0.5** ensured strong regularization.\n",
        "- **Two LSTM layers** allowed the model to learn hierarchical temporal features.\n",
        "- A learning rate of **0.005** allowed stable convergence without overshooting.\n",
        "\n",
        "---\n",
        "\n",
        "### ❌ Worst Performing Models\n",
        "\n",
        "| Run Name         | final_mse | final_r2 | final_mae | Key Configuration |\n",
        "|------------------|------------|-----------|-----------|--------------------|\n",
        "| **restful-sweep-4** | 0.00137   | 0.8269    | 0.02114   | hidden_size=64, dropout=0.3, batch_size=64, learning_rate=0.01, num_layers=2 |\n",
        "| **serene-sweep-1** | 0.00402   | 0.4910    | 0.04434   | hidden_size=64, dropout=0.3, batch_size=32, learning_rate=0.005, num_layers=2 |\n",
        "\n",
        "**Interpretation:**\n",
        "- **serene-sweep-1** had a high final MSE and low R², likely due to underfitting or unstable convergence (train loss was high: ~0.0055).\n",
        "- **restful-sweep-4** had a **very high learning rate (0.01)**, which may have led to optimization instability.\n",
        "- Both runs had **lower dropout (0.3)**, potentially leading to overfitting or poor generalization.\n",
        "- Batch size or poor parameter synergy may have contributed to noisy gradient updates or vanishing gradients.\n",
        "\n",
        "---\n",
        "\n",
        "### 🧠 Conclusion\n",
        "\n",
        "- Models with **moderate depth**, **higher dropout (0.5)**, and **balanced learning rates (0.005)** provided the best results.\n",
        "- **Too high learning rates** or **under-regularized architectures** (low dropout) degraded performance.\n",
        "- Overall, the best models achieved **R² scores above 0.87**, indicating strong predictive power on this forecasting task.\n"
      ],
      "metadata": {
        "id": "23_aDns3q-9d"
      }
    }
  ]
}